{
  "nbformat": 4,
  "nbformat_minor": 0,
  "metadata": {
    "colab": {
      "name": "LoveClockProject2.0.ipynb",
      "provenance": [],
      "collapsed_sections": [],
      "toc_visible": true
    },
    "kernelspec": {
      "display_name": "Python 3",
      "name": "python3"
    },
    "language_info": {
      "name": "python"
    }
  },
  "cells": [
    {
      "cell_type": "markdown",
      "metadata": {
        "id": "S64lPJBKtNkI"
      },
      "source": [
        "# **Importing Libraries and Things**"
      ]
    },
    {
      "cell_type": "code",
      "metadata": {
        "id": "LeVqsri-tsIT"
      },
      "source": [
        "#importing libraries\n",
        "import math\n",
        "import pandas as pd\n",
        "import numpy as np\n",
        "from numpy import mean\n",
        "from numpy import std\n",
        "from matplotlib import pyplot\n",
        "from sklearn.model_selection import cross_val_score\n",
        "from sklearn.model_selection import RepeatedKFold\n",
        "from sklearn.model_selection import train_test_split\n",
        "from sklearn.linear_model import LinearRegression\n",
        "from sklearn.tree import DecisionTreeRegressor\n",
        "from sklearn.ensemble import RandomForestRegressor\n",
        "from sklearn.neighbors import KNeighborsRegressor\n",
        "from sklearn.inspection import permutation_importance\n",
        "from sklearn.preprocessing import OneHotEncoder\n",
        "from sklearn.compose import ColumnTransformer\n",
        "from sklearn.metrics import mean_squared_error\n",
        "from sklearn.metrics import mean_absolute_error\n",
        "from sklearn.metrics import r2_score\n",
        "from xgboost import XGBRegressor"
      ],
      "execution_count": 238,
      "outputs": []
    },
    {
      "cell_type": "markdown",
      "metadata": {
        "id": "t2fhSvDXUqhZ"
      },
      "source": [
        ""
      ]
    },
    {
      "cell_type": "code",
      "metadata": {
        "colab": {
          "base_uri": "https://localhost:8080/",
          "height": 419
        },
        "id": "vclF_45cuJzj",
        "outputId": "15817de5-2f78-44e0-dcf9-e05c803c931c"
      },
      "source": [
        "#access data\n",
        "df = pd.read_csv(\"/content/dataset.csv\")\n",
        "\n",
        "#replace the categorical data into numerical\n",
        "def gender_to_numeric(x):\n",
        "  if x=='Male':\n",
        "    return 0\n",
        "  else:\n",
        "    return 1\n",
        "\n",
        "def academic_to_numeric(x):\n",
        "  if x=='Degree' or x=='Diploma' or x=='Postgraduates':\n",
        "    return 1\n",
        "  else:\n",
        "    return 0\n",
        "\n",
        "df['Gender_Num'] = df['Gender'].apply(gender_to_numeric)\n",
        "df['Academic_Num'] = df['Gender'].apply(academic_to_numeric)\n",
        "\n",
        "#dropping the column \n",
        "df = df.drop('Gender',1)\n",
        "df = df.drop('AcademicLevel', 1)\n",
        "\n",
        "\n",
        "#refined dataset\n",
        "LoveData = df\n",
        "LoveData\n"
      ],
      "execution_count": 239,
      "outputs": [
        {
          "output_type": "execute_result",
          "data": {
            "text/html": [
              "<div>\n",
              "<style scoped>\n",
              "    .dataframe tbody tr th:only-of-type {\n",
              "        vertical-align: middle;\n",
              "    }\n",
              "\n",
              "    .dataframe tbody tr th {\n",
              "        vertical-align: top;\n",
              "    }\n",
              "\n",
              "    .dataframe thead th {\n",
              "        text-align: right;\n",
              "    }\n",
              "</style>\n",
              "<table border=\"1\" class=\"dataframe\">\n",
              "  <thead>\n",
              "    <tr style=\"text-align: right;\">\n",
              "      <th></th>\n",
              "      <th>Age</th>\n",
              "      <th>AvgInteract</th>\n",
              "      <th>StdyHour</th>\n",
              "      <th>BffTime</th>\n",
              "      <th>HobbyHour</th>\n",
              "      <th>SleepHour</th>\n",
              "      <th>Gender_Num</th>\n",
              "      <th>Academic_Num</th>\n",
              "    </tr>\n",
              "  </thead>\n",
              "  <tbody>\n",
              "    <tr>\n",
              "      <th>0</th>\n",
              "      <td>20</td>\n",
              "      <td>26.0</td>\n",
              "      <td>1.0</td>\n",
              "      <td>1</td>\n",
              "      <td>8</td>\n",
              "      <td>10</td>\n",
              "      <td>1</td>\n",
              "      <td>0</td>\n",
              "    </tr>\n",
              "    <tr>\n",
              "      <th>1</th>\n",
              "      <td>20</td>\n",
              "      <td>17.0</td>\n",
              "      <td>1.0</td>\n",
              "      <td>2</td>\n",
              "      <td>2</td>\n",
              "      <td>6</td>\n",
              "      <td>0</td>\n",
              "      <td>0</td>\n",
              "    </tr>\n",
              "    <tr>\n",
              "      <th>2</th>\n",
              "      <td>20</td>\n",
              "      <td>29.0</td>\n",
              "      <td>1.0</td>\n",
              "      <td>2</td>\n",
              "      <td>2</td>\n",
              "      <td>6</td>\n",
              "      <td>0</td>\n",
              "      <td>0</td>\n",
              "    </tr>\n",
              "    <tr>\n",
              "      <th>3</th>\n",
              "      <td>20</td>\n",
              "      <td>40.0</td>\n",
              "      <td>1.0</td>\n",
              "      <td>8</td>\n",
              "      <td>4</td>\n",
              "      <td>6</td>\n",
              "      <td>0</td>\n",
              "      <td>0</td>\n",
              "    </tr>\n",
              "    <tr>\n",
              "      <th>4</th>\n",
              "      <td>20</td>\n",
              "      <td>6.0</td>\n",
              "      <td>2.0</td>\n",
              "      <td>7</td>\n",
              "      <td>8</td>\n",
              "      <td>5</td>\n",
              "      <td>1</td>\n",
              "      <td>0</td>\n",
              "    </tr>\n",
              "    <tr>\n",
              "      <th>...</th>\n",
              "      <td>...</td>\n",
              "      <td>...</td>\n",
              "      <td>...</td>\n",
              "      <td>...</td>\n",
              "      <td>...</td>\n",
              "      <td>...</td>\n",
              "      <td>...</td>\n",
              "      <td>...</td>\n",
              "    </tr>\n",
              "    <tr>\n",
              "      <th>163</th>\n",
              "      <td>18</td>\n",
              "      <td>8.0</td>\n",
              "      <td>12.0</td>\n",
              "      <td>5</td>\n",
              "      <td>2</td>\n",
              "      <td>4</td>\n",
              "      <td>1</td>\n",
              "      <td>0</td>\n",
              "    </tr>\n",
              "    <tr>\n",
              "      <th>164</th>\n",
              "      <td>18</td>\n",
              "      <td>11.0</td>\n",
              "      <td>13.0</td>\n",
              "      <td>5</td>\n",
              "      <td>1</td>\n",
              "      <td>6</td>\n",
              "      <td>1</td>\n",
              "      <td>0</td>\n",
              "    </tr>\n",
              "    <tr>\n",
              "      <th>165</th>\n",
              "      <td>18</td>\n",
              "      <td>19.0</td>\n",
              "      <td>13.0</td>\n",
              "      <td>5</td>\n",
              "      <td>2</td>\n",
              "      <td>4</td>\n",
              "      <td>1</td>\n",
              "      <td>0</td>\n",
              "    </tr>\n",
              "    <tr>\n",
              "      <th>166</th>\n",
              "      <td>18</td>\n",
              "      <td>11.0</td>\n",
              "      <td>14.0</td>\n",
              "      <td>5</td>\n",
              "      <td>7</td>\n",
              "      <td>5</td>\n",
              "      <td>1</td>\n",
              "      <td>0</td>\n",
              "    </tr>\n",
              "    <tr>\n",
              "      <th>167</th>\n",
              "      <td>20</td>\n",
              "      <td>10.0</td>\n",
              "      <td>6.0</td>\n",
              "      <td>2</td>\n",
              "      <td>2</td>\n",
              "      <td>6</td>\n",
              "      <td>0</td>\n",
              "      <td>0</td>\n",
              "    </tr>\n",
              "  </tbody>\n",
              "</table>\n",
              "<p>168 rows × 8 columns</p>\n",
              "</div>"
            ],
            "text/plain": [
              "     Age  AvgInteract  StdyHour  ...  SleepHour  Gender_Num  Academic_Num\n",
              "0     20         26.0       1.0  ...         10           1             0\n",
              "1     20         17.0       1.0  ...          6           0             0\n",
              "2     20         29.0       1.0  ...          6           0             0\n",
              "3     20         40.0       1.0  ...          6           0             0\n",
              "4     20          6.0       2.0  ...          5           1             0\n",
              "..   ...          ...       ...  ...        ...         ...           ...\n",
              "163   18          8.0      12.0  ...          4           1             0\n",
              "164   18         11.0      13.0  ...          6           1             0\n",
              "165   18         19.0      13.0  ...          4           1             0\n",
              "166   18         11.0      14.0  ...          5           1             0\n",
              "167   20         10.0       6.0  ...          6           0             0\n",
              "\n",
              "[168 rows x 8 columns]"
            ]
          },
          "metadata": {
            "tags": []
          },
          "execution_count": 239
        }
      ]
    },
    {
      "cell_type": "markdown",
      "metadata": {
        "id": "4gG_XWMJSQHC"
      },
      "source": [
        "# **Finding Outlier In The Data**"
      ]
    },
    {
      "cell_type": "code",
      "metadata": {
        "colab": {
          "base_uri": "https://localhost:8080/",
          "height": 820
        },
        "id": "v6e03VxyN2aK",
        "outputId": "7e768726-c637-4a5d-83c3-5b237d889052"
      },
      "source": [
        "#Age\n",
        "pyplot.hist(LoveData.Age)\n",
        "pyplot.xlabel(\"Age\")\n",
        "pyplot.ylabel(\"Frequency\")\n",
        "pyplot.show()\n",
        "pyplot.boxplot(LoveData.Age)\n",
        "pyplot.xlabel(\"Age\")\n",
        "pyplot.show()\n",
        "pyplot.scatter(LoveData.Age, LoveData.AvgInteract)\n",
        "pyplot.xlabel(\"Age\")\n",
        "pyplot.ylabel(\"Average Interaction\")"
      ],
      "execution_count": 240,
      "outputs": [
        {
          "output_type": "display_data",
          "data": {
            "image/png": "[encoded data removed]",
            "text/plain": [
              "<Figure size 432x288 with 1 Axes>"
            ]
          },
          "metadata": {
            "tags": [],
            "needs_background": "light"
          }
        },
        {
          "output_type": "display_data",
          "data": {
            "image/png": "[encoded data removed]",
            "text/plain": [
              "<Figure size 432x288 with 1 Axes>"
            ]
          },
          "metadata": {
            "tags": [],
            "needs_background": "light"
          }
        },
        {
          "output_type": "execute_result",
          "data": {
            "text/plain": [
              "Text(0, 0.5, 'Average Interaction')"
            ]
          },
          "metadata": {
            "tags": []
          },
          "execution_count": 240
        },
        {
          "output_type": "display_data",
          "data": {
            "image/png": "[encoded data removed]",
            "text/plain": [
              "<Figure size 432x288 with 1 Axes>"
            ]
          },
          "metadata": {
            "tags": [],
            "needs_background": "light"
          }
        }
      ]
    },
    {
      "cell_type": "markdown",
      "metadata": {
        "id": "oye5H7_8Tdh8"
      },
      "source": [
        "This dataset is skewed and needed to be changed"
      ]
    },
    {
      "cell_type": "code",
      "metadata": {
        "id": "x28NeABazHx9",
        "colab": {
          "base_uri": "https://localhost:8080/",
          "height": 0
        },
        "outputId": "08fce2d4-3bd1-4824-c9ef-a8656db0de08"
      },
      "source": [
        "LoveData.Age.describe()"
      ],
      "execution_count": 241,
      "outputs": [
        {
          "output_type": "execute_result",
          "data": {
            "text/plain": [
              "count    168.000000\n",
              "mean      22.577381\n",
              "std        7.731650\n",
              "min       17.000000\n",
              "25%       20.000000\n",
              "50%       20.000000\n",
              "75%       23.000000\n",
              "max       90.000000\n",
              "Name: Age, dtype: float64"
            ]
          },
          "metadata": {
            "tags": []
          },
          "execution_count": 241
        }
      ]
    },
    {
      "cell_type": "code",
      "metadata": {
        "id": "hOonxJQkUVvj",
        "colab": {
          "base_uri": "https://localhost:8080/",
          "height": 296
        },
        "outputId": "36373b6d-add0-4c5a-b443-7d1ae03958d3"
      },
      "source": [
        "#Testing how to find outliers\n",
        "max_threshold = LoveData['Age'].quantile(0.92) #everything above this is considered as an outlier\n",
        "print(max_threshold)\n",
        "#remove all the outlier in the data\n",
        "LoveData = LoveData[LoveData['Age'] < max_threshold]\n",
        "pyplot.hist(LoveData.Age)\n",
        "pyplot.xlabel(\"Age\")\n",
        "pyplot.ylabel(\"Frequency\")\n",
        "pyplot.show()"
      ],
      "execution_count": 242,
      "outputs": [
        {
          "output_type": "stream",
          "text": [
            "26.0\n"
          ],
          "name": "stdout"
        },
        {
          "output_type": "display_data",
          "data": {
            "image/png": "[encoded data removed]",
            "text/plain": [
              "<Figure size 432x288 with 1 Axes>"
            ]
          },
          "metadata": {
            "tags": [],
            "needs_background": "light"
          }
        }
      ]
    },
    {
      "cell_type": "code",
      "metadata": {
        "id": "OwwejIz5R6oQ",
        "colab": {
          "base_uri": "https://localhost:8080/",
          "height": 280
        },
        "outputId": "a5eeb46c-71f9-4945-9d42-76e355c356c6"
      },
      "source": [
        "#AvgInteract\n",
        "pyplot.hist(LoveData.AvgInteract)\n",
        "pyplot.xlabel(\"Average Interaction\")\n",
        "pyplot.ylabel(\"Frequency\")\n",
        "pyplot.show()"
      ],
      "execution_count": 243,
      "outputs": [
        {
          "output_type": "display_data",
          "data": {
            "image/png": "[encoded data removed]",
            "text/plain": [
              "<Figure size 432x288 with 1 Axes>"
            ]
          },
          "metadata": {
            "tags": [],
            "needs_background": "light"
          }
        }
      ]
    },
    {
      "cell_type": "code",
      "metadata": {
        "id": "t4Ww83SKR6yg",
        "colab": {
          "base_uri": "https://localhost:8080/",
          "height": 279
        },
        "outputId": "77e37fb8-0378-455e-e102-91ae7c11b83a"
      },
      "source": [
        "#StudyHour\n",
        "pyplot.hist(LoveData.StdyHour)\n",
        "pyplot.xlabel(\"Study Hours\")\n",
        "pyplot.ylabel(\"Frequency\")\n",
        "pyplot.show()"
      ],
      "execution_count": 244,
      "outputs": [
        {
          "output_type": "display_data",
          "data": {
            "image/png": "[encoded data removed]",
            "text/plain": [
              "<Figure size 432x288 with 1 Axes>"
            ]
          },
          "metadata": {
            "tags": [],
            "needs_background": "light"
          }
        }
      ]
    },
    {
      "cell_type": "code",
      "metadata": {
        "id": "JNoSvNJXR6_N",
        "colab": {
          "base_uri": "https://localhost:8080/",
          "height": 279
        },
        "outputId": "f7799593-527b-4adf-cc5e-d6e0ec06cfeb"
      },
      "source": [
        "#BffTime\n",
        "pyplot.hist(LoveData.BffTime)\n",
        "pyplot.xlabel(\"Time Spent With BFF\")\n",
        "pyplot.ylabel(\"Frequency\")\n",
        "pyplot.show()"
      ],
      "execution_count": 245,
      "outputs": [
        {
          "output_type": "display_data",
          "data": {
            "image/png": "[encoded data removed]",
            "text/plain": [
              "<Figure size 432x288 with 1 Axes>"
            ]
          },
          "metadata": {
            "tags": [],
            "needs_background": "light"
          }
        }
      ]
    },
    {
      "cell_type": "code",
      "metadata": {
        "id": "UzRaG7vER7B2",
        "colab": {
          "base_uri": "https://localhost:8080/",
          "height": 279
        },
        "outputId": "5c268b7f-d678-490e-eeb6-dfc4e8b08fc8"
      },
      "source": [
        "#HobbyHour\n",
        "pyplot.hist(LoveData.HobbyHour)\n",
        "pyplot.xlabel(\"Time Spent on Hobbies\")\n",
        "pyplot.ylabel(\"Frequency\")\n",
        "pyplot.show()"
      ],
      "execution_count": 246,
      "outputs": [
        {
          "output_type": "display_data",
          "data": {
            "image/png": "[encoded data removed]",
            "text/plain": [
              "<Figure size 432x288 with 1 Axes>"
            ]
          },
          "metadata": {
            "tags": [],
            "needs_background": "light"
          }
        }
      ]
    },
    {
      "cell_type": "code",
      "metadata": {
        "id": "i3Xgc6wbSCAQ",
        "colab": {
          "base_uri": "https://localhost:8080/",
          "height": 279
        },
        "outputId": "f1f83eb4-06cb-4096-d67a-602bcb62e149"
      },
      "source": [
        "#SleepHour\n",
        "pyplot.hist(LoveData.SleepHour)\n",
        "pyplot.xlabel(\"Average Sleep Hours\")\n",
        "pyplot.ylabel(\"Frequency\")\n",
        "pyplot.show()"
      ],
      "execution_count": 247,
      "outputs": [
        {
          "output_type": "display_data",
          "data": {
            "image/png": "[encoded data removed]",
            "text/plain": [
              "<Figure size 432x288 with 1 Axes>"
            ]
          },
          "metadata": {
            "tags": [],
            "needs_background": "light"
          }
        }
      ]
    },
    {
      "cell_type": "code",
      "metadata": {
        "id": "t8V3xi2HSCH_",
        "colab": {
          "base_uri": "https://localhost:8080/",
          "height": 281
        },
        "outputId": "23f03bfe-94d1-47f1-dcf6-eb7d2ddc222f"
      },
      "source": [
        "#Gender\n",
        "pyplot.hist(LoveData.Gender_Num)\n",
        "pyplot.xlabel(\"Gender\")\n",
        "pyplot.ylabel(\"Frequency\")\n",
        "pyplot.show()"
      ],
      "execution_count": 248,
      "outputs": [
        {
          "output_type": "display_data",
          "data": {
            "image/png": "[encoded data removed]",
            "text/plain": [
              "<Figure size 432x288 with 1 Axes>"
            ]
          },
          "metadata": {
            "tags": [],
            "needs_background": "light"
          }
        }
      ]
    },
    {
      "cell_type": "code",
      "metadata": {
        "id": "HRHZYgGLR3Fh",
        "colab": {
          "base_uri": "https://localhost:8080/",
          "height": 282
        },
        "outputId": "56fd05df-d5dd-47bd-a0aa-630dd755e432"
      },
      "source": [
        "#AcademicLevel\n",
        "pyplot.hist(LoveData.Academic_Num)\n",
        "pyplot.xlabel(\"Academic Types\")\n",
        "pyplot.ylabel(\"Frequency\")\n",
        "pyplot.show()"
      ],
      "execution_count": 249,
      "outputs": [
        {
          "output_type": "display_data",
          "data": {
            "image/png": "[encoded data removed]",
            "text/plain": [
              "<Figure size 432x288 with 1 Axes>"
            ]
          },
          "metadata": {
            "tags": [],
            "needs_background": "light"
          }
        }
      ]
    },
    {
      "cell_type": "markdown",
      "metadata": {
        "id": "JmwrKqHeWXdl"
      },
      "source": [
        "# **Training and Test Data**"
      ]
    },
    {
      "cell_type": "code",
      "metadata": {
        "id": "vRBoXH-sWbwZ",
        "colab": {
          "base_uri": "https://localhost:8080/",
          "height": 1095
        },
        "outputId": "d1753de8-1c99-41b8-d1c3-0c53fb90d455"
      },
      "source": [
        "X = LoveData.drop(\"AvgInteract\", 1)\n",
        "y = LoveData[\"AvgInteract\"]\n",
        "\n",
        "#splitting the data for training and testing\n",
        "x_train, x_test, y_train, y_test = train_test_split(X,y,test_size = 0.2) #test size is 20% of the dataset\n",
        "\n",
        "#printing the shapes of testing and training dataset\n",
        "print(\"shape of original dataset :\", LoveData.shape)\n",
        "print(\"shape of input - training set\", x_train.shape)\n",
        "print(\"shape of output - training set\", y_train.shape)\n",
        "print(\"shape of input - testing set\", x_test.shape)\n",
        "print(\"shape of output - testing set\", y_test.shape)\n",
        "\n",
        "x_test\n"
      ],
      "execution_count": 250,
      "outputs": [
        {
          "output_type": "stream",
          "text": [
            "shape of original dataset : (153, 8)\n",
            "shape of input - training set (122, 7)\n",
            "shape of output - training set (122,)\n",
            "shape of input - testing set (31, 7)\n",
            "shape of output - testing set (31,)\n"
          ],
          "name": "stdout"
        },
        {
          "output_type": "execute_result",
          "data": {
            "text/html": [
              "<div>\n",
              "<style scoped>\n",
              "    .dataframe tbody tr th:only-of-type {\n",
              "        vertical-align: middle;\n",
              "    }\n",
              "\n",
              "    .dataframe tbody tr th {\n",
              "        vertical-align: top;\n",
              "    }\n",
              "\n",
              "    .dataframe thead th {\n",
              "        text-align: right;\n",
              "    }\n",
              "</style>\n",
              "<table border=\"1\" class=\"dataframe\">\n",
              "  <thead>\n",
              "    <tr style=\"text-align: right;\">\n",
              "      <th></th>\n",
              "      <th>Age</th>\n",
              "      <th>StdyHour</th>\n",
              "      <th>BffTime</th>\n",
              "      <th>HobbyHour</th>\n",
              "      <th>SleepHour</th>\n",
              "      <th>Gender_Num</th>\n",
              "      <th>Academic_Num</th>\n",
              "    </tr>\n",
              "  </thead>\n",
              "  <tbody>\n",
              "    <tr>\n",
              "      <th>150</th>\n",
              "      <td>18</td>\n",
              "      <td>4.0</td>\n",
              "      <td>7</td>\n",
              "      <td>10</td>\n",
              "      <td>8</td>\n",
              "      <td>0</td>\n",
              "      <td>0</td>\n",
              "    </tr>\n",
              "    <tr>\n",
              "      <th>68</th>\n",
              "      <td>22</td>\n",
              "      <td>14.0</td>\n",
              "      <td>5</td>\n",
              "      <td>3</td>\n",
              "      <td>5</td>\n",
              "      <td>0</td>\n",
              "      <td>0</td>\n",
              "    </tr>\n",
              "    <tr>\n",
              "      <th>146</th>\n",
              "      <td>18</td>\n",
              "      <td>1.0</td>\n",
              "      <td>5</td>\n",
              "      <td>8</td>\n",
              "      <td>8</td>\n",
              "      <td>1</td>\n",
              "      <td>0</td>\n",
              "    </tr>\n",
              "    <tr>\n",
              "      <th>49</th>\n",
              "      <td>21</td>\n",
              "      <td>5.0</td>\n",
              "      <td>2</td>\n",
              "      <td>5</td>\n",
              "      <td>8</td>\n",
              "      <td>1</td>\n",
              "      <td>0</td>\n",
              "    </tr>\n",
              "    <tr>\n",
              "      <th>93</th>\n",
              "      <td>25</td>\n",
              "      <td>5.0</td>\n",
              "      <td>1</td>\n",
              "      <td>4</td>\n",
              "      <td>5</td>\n",
              "      <td>0</td>\n",
              "      <td>0</td>\n",
              "    </tr>\n",
              "    <tr>\n",
              "      <th>51</th>\n",
              "      <td>21</td>\n",
              "      <td>7.0</td>\n",
              "      <td>7</td>\n",
              "      <td>7</td>\n",
              "      <td>10</td>\n",
              "      <td>0</td>\n",
              "      <td>0</td>\n",
              "    </tr>\n",
              "    <tr>\n",
              "      <th>167</th>\n",
              "      <td>20</td>\n",
              "      <td>6.0</td>\n",
              "      <td>2</td>\n",
              "      <td>2</td>\n",
              "      <td>6</td>\n",
              "      <td>0</td>\n",
              "      <td>0</td>\n",
              "    </tr>\n",
              "    <tr>\n",
              "      <th>63</th>\n",
              "      <td>22</td>\n",
              "      <td>7.0</td>\n",
              "      <td>8</td>\n",
              "      <td>4</td>\n",
              "      <td>8</td>\n",
              "      <td>0</td>\n",
              "      <td>0</td>\n",
              "    </tr>\n",
              "    <tr>\n",
              "      <th>148</th>\n",
              "      <td>18</td>\n",
              "      <td>2.0</td>\n",
              "      <td>1</td>\n",
              "      <td>3</td>\n",
              "      <td>7</td>\n",
              "      <td>1</td>\n",
              "      <td>0</td>\n",
              "    </tr>\n",
              "    <tr>\n",
              "      <th>111</th>\n",
              "      <td>19</td>\n",
              "      <td>8.0</td>\n",
              "      <td>1</td>\n",
              "      <td>3</td>\n",
              "      <td>3</td>\n",
              "      <td>1</td>\n",
              "      <td>0</td>\n",
              "    </tr>\n",
              "    <tr>\n",
              "      <th>26</th>\n",
              "      <td>20</td>\n",
              "      <td>7.0</td>\n",
              "      <td>7</td>\n",
              "      <td>6</td>\n",
              "      <td>9</td>\n",
              "      <td>0</td>\n",
              "      <td>0</td>\n",
              "    </tr>\n",
              "    <tr>\n",
              "      <th>122</th>\n",
              "      <td>19</td>\n",
              "      <td>4.0</td>\n",
              "      <td>9</td>\n",
              "      <td>2</td>\n",
              "      <td>6</td>\n",
              "      <td>1</td>\n",
              "      <td>0</td>\n",
              "    </tr>\n",
              "    <tr>\n",
              "      <th>129</th>\n",
              "      <td>19</td>\n",
              "      <td>9.0</td>\n",
              "      <td>5</td>\n",
              "      <td>6</td>\n",
              "      <td>3</td>\n",
              "      <td>1</td>\n",
              "      <td>0</td>\n",
              "    </tr>\n",
              "    <tr>\n",
              "      <th>83</th>\n",
              "      <td>24</td>\n",
              "      <td>4.0</td>\n",
              "      <td>2</td>\n",
              "      <td>5</td>\n",
              "      <td>8</td>\n",
              "      <td>1</td>\n",
              "      <td>0</td>\n",
              "    </tr>\n",
              "    <tr>\n",
              "      <th>153</th>\n",
              "      <td>18</td>\n",
              "      <td>4.0</td>\n",
              "      <td>4</td>\n",
              "      <td>2</td>\n",
              "      <td>5</td>\n",
              "      <td>1</td>\n",
              "      <td>0</td>\n",
              "    </tr>\n",
              "    <tr>\n",
              "      <th>118</th>\n",
              "      <td>20</td>\n",
              "      <td>6.0</td>\n",
              "      <td>8</td>\n",
              "      <td>4</td>\n",
              "      <td>8</td>\n",
              "      <td>1</td>\n",
              "      <td>0</td>\n",
              "    </tr>\n",
              "    <tr>\n",
              "      <th>95</th>\n",
              "      <td>25</td>\n",
              "      <td>6.0</td>\n",
              "      <td>1</td>\n",
              "      <td>4</td>\n",
              "      <td>6</td>\n",
              "      <td>0</td>\n",
              "      <td>0</td>\n",
              "    </tr>\n",
              "    <tr>\n",
              "      <th>75</th>\n",
              "      <td>23</td>\n",
              "      <td>6.0</td>\n",
              "      <td>1</td>\n",
              "      <td>2</td>\n",
              "      <td>6</td>\n",
              "      <td>0</td>\n",
              "      <td>0</td>\n",
              "    </tr>\n",
              "    <tr>\n",
              "      <th>126</th>\n",
              "      <td>19</td>\n",
              "      <td>6.0</td>\n",
              "      <td>2</td>\n",
              "      <td>3</td>\n",
              "      <td>7</td>\n",
              "      <td>1</td>\n",
              "      <td>0</td>\n",
              "    </tr>\n",
              "    <tr>\n",
              "      <th>59</th>\n",
              "      <td>22</td>\n",
              "      <td>1.0</td>\n",
              "      <td>8</td>\n",
              "      <td>10</td>\n",
              "      <td>7</td>\n",
              "      <td>0</td>\n",
              "      <td>0</td>\n",
              "    </tr>\n",
              "    <tr>\n",
              "      <th>78</th>\n",
              "      <td>23</td>\n",
              "      <td>9.0</td>\n",
              "      <td>4</td>\n",
              "      <td>6</td>\n",
              "      <td>8</td>\n",
              "      <td>1</td>\n",
              "      <td>0</td>\n",
              "    </tr>\n",
              "    <tr>\n",
              "      <th>86</th>\n",
              "      <td>24</td>\n",
              "      <td>7.0</td>\n",
              "      <td>5</td>\n",
              "      <td>1</td>\n",
              "      <td>8</td>\n",
              "      <td>1</td>\n",
              "      <td>0</td>\n",
              "    </tr>\n",
              "    <tr>\n",
              "      <th>152</th>\n",
              "      <td>18</td>\n",
              "      <td>4.0</td>\n",
              "      <td>7</td>\n",
              "      <td>10</td>\n",
              "      <td>8</td>\n",
              "      <td>0</td>\n",
              "      <td>0</td>\n",
              "    </tr>\n",
              "    <tr>\n",
              "      <th>96</th>\n",
              "      <td>25</td>\n",
              "      <td>7.0</td>\n",
              "      <td>4</td>\n",
              "      <td>2</td>\n",
              "      <td>5</td>\n",
              "      <td>0</td>\n",
              "      <td>0</td>\n",
              "    </tr>\n",
              "    <tr>\n",
              "      <th>156</th>\n",
              "      <td>18</td>\n",
              "      <td>5.0</td>\n",
              "      <td>5</td>\n",
              "      <td>5</td>\n",
              "      <td>6</td>\n",
              "      <td>0</td>\n",
              "      <td>0</td>\n",
              "    </tr>\n",
              "    <tr>\n",
              "      <th>149</th>\n",
              "      <td>18</td>\n",
              "      <td>4.0</td>\n",
              "      <td>7</td>\n",
              "      <td>10</td>\n",
              "      <td>8</td>\n",
              "      <td>0</td>\n",
              "      <td>0</td>\n",
              "    </tr>\n",
              "    <tr>\n",
              "      <th>35</th>\n",
              "      <td>20</td>\n",
              "      <td>15.0</td>\n",
              "      <td>5</td>\n",
              "      <td>1</td>\n",
              "      <td>7</td>\n",
              "      <td>0</td>\n",
              "      <td>0</td>\n",
              "    </tr>\n",
              "    <tr>\n",
              "      <th>67</th>\n",
              "      <td>22</td>\n",
              "      <td>9.0</td>\n",
              "      <td>2</td>\n",
              "      <td>1</td>\n",
              "      <td>8</td>\n",
              "      <td>1</td>\n",
              "      <td>0</td>\n",
              "    </tr>\n",
              "    <tr>\n",
              "      <th>92</th>\n",
              "      <td>25</td>\n",
              "      <td>4.0</td>\n",
              "      <td>1</td>\n",
              "      <td>3</td>\n",
              "      <td>5</td>\n",
              "      <td>0</td>\n",
              "      <td>0</td>\n",
              "    </tr>\n",
              "    <tr>\n",
              "      <th>62</th>\n",
              "      <td>22</td>\n",
              "      <td>6.0</td>\n",
              "      <td>3</td>\n",
              "      <td>6</td>\n",
              "      <td>6</td>\n",
              "      <td>1</td>\n",
              "      <td>0</td>\n",
              "    </tr>\n",
              "    <tr>\n",
              "      <th>13</th>\n",
              "      <td>20</td>\n",
              "      <td>4.0</td>\n",
              "      <td>7</td>\n",
              "      <td>3</td>\n",
              "      <td>7</td>\n",
              "      <td>0</td>\n",
              "      <td>0</td>\n",
              "    </tr>\n",
              "  </tbody>\n",
              "</table>\n",
              "</div>"
            ],
            "text/plain": [
              "     Age  StdyHour  BffTime  HobbyHour  SleepHour  Gender_Num  Academic_Num\n",
              "150   18       4.0        7         10          8           0             0\n",
              "68    22      14.0        5          3          5           0             0\n",
              "146   18       1.0        5          8          8           1             0\n",
              "49    21       5.0        2          5          8           1             0\n",
              "93    25       5.0        1          4          5           0             0\n",
              "51    21       7.0        7          7         10           0             0\n",
              "167   20       6.0        2          2          6           0             0\n",
              "63    22       7.0        8          4          8           0             0\n",
              "148   18       2.0        1          3          7           1             0\n",
              "111   19       8.0        1          3          3           1             0\n",
              "26    20       7.0        7          6          9           0             0\n",
              "122   19       4.0        9          2          6           1             0\n",
              "129   19       9.0        5          6          3           1             0\n",
              "83    24       4.0        2          5          8           1             0\n",
              "153   18       4.0        4          2          5           1             0\n",
              "118   20       6.0        8          4          8           1             0\n",
              "95    25       6.0        1          4          6           0             0\n",
              "75    23       6.0        1          2          6           0             0\n",
              "126   19       6.0        2          3          7           1             0\n",
              "59    22       1.0        8         10          7           0             0\n",
              "78    23       9.0        4          6          8           1             0\n",
              "86    24       7.0        5          1          8           1             0\n",
              "152   18       4.0        7         10          8           0             0\n",
              "96    25       7.0        4          2          5           0             0\n",
              "156   18       5.0        5          5          6           0             0\n",
              "149   18       4.0        7         10          8           0             0\n",
              "35    20      15.0        5          1          7           0             0\n",
              "67    22       9.0        2          1          8           1             0\n",
              "92    25       4.0        1          3          5           0             0\n",
              "62    22       6.0        3          6          6           1             0\n",
              "13    20       4.0        7          3          7           0             0"
            ]
          },
          "metadata": {
            "tags": []
          },
          "execution_count": 250
        }
      ]
    },
    {
      "cell_type": "markdown",
      "metadata": {
        "id": "RTmF2hukblYy"
      },
      "source": [
        "# **Selecting Feature and Testing Model**"
      ]
    },
    {
      "cell_type": "markdown",
      "metadata": {
        "id": "3TAG35N5k0XH"
      },
      "source": [
        "## **Linear Regression Feature Importance**"
      ]
    },
    {
      "cell_type": "code",
      "metadata": {
        "id": "JrKtwwtplN99",
        "colab": {
          "base_uri": "https://localhost:8080/",
          "height": 0
        },
        "outputId": "a3011ae7-f8b2-487e-8034-174a228da1b4"
      },
      "source": [
        "#define the model\n",
        "model = LinearRegression()\n",
        "#fit the model\n",
        "model.fit(x_train,y_train)\n",
        "#get importance\n",
        "importance = model.coef_\n",
        "#summarize feature importance\n",
        "for i,v in enumerate(importance):\n",
        "  print('Feature : %0d, Score: %.5f' % (i,v))"
      ],
      "execution_count": 251,
      "outputs": [
        {
          "output_type": "stream",
          "text": [
            "Feature : 0, Score: -0.51018\n",
            "Feature : 1, Score: -0.26365\n",
            "Feature : 2, Score: -0.67167\n",
            "Feature : 3, Score: 0.12995\n",
            "Feature : 4, Score: 0.14774\n",
            "Feature : 5, Score: 3.08528\n",
            "Feature : 6, Score: 0.00000\n"
          ],
          "name": "stdout"
        }
      ]
    },
    {
      "cell_type": "code",
      "metadata": {
        "id": "fnlpvt0ilVpo",
        "colab": {
          "base_uri": "https://localhost:8080/",
          "height": 265
        },
        "outputId": "d249c42a-864b-4989-f490-0c4676607501"
      },
      "source": [
        "#plotting the feature importance\n",
        "pyplot.bar([x for x in range(len(importance))], importance)\n",
        "pyplot.show()"
      ],
      "execution_count": 252,
      "outputs": [
        {
          "output_type": "display_data",
          "data": {
            "image/png": "[encoded data removed]",
            "text/plain": [
              "<Figure size 432x288 with 1 Axes>"
            ]
          },
          "metadata": {
            "tags": [],
            "needs_background": "light"
          }
        }
      ]
    },
    {
      "cell_type": "markdown",
      "metadata": {
        "id": "kIgPVRtO4aC2"
      },
      "source": [
        "## **CART Regression Feature Importance**"
      ]
    },
    {
      "cell_type": "code",
      "metadata": {
        "id": "ho3MrEKs1jUw",
        "colab": {
          "base_uri": "https://localhost:8080/",
          "height": 0
        },
        "outputId": "b5f21859-40e8-4ae5-d155-a3dc20f87f92"
      },
      "source": [
        "#define the model\n",
        "model = DecisionTreeRegressor()\n",
        "#fit the model\n",
        "model.fit(x_train,y_train)\n",
        "#get importance\n",
        "importance = model.feature_importances_\n",
        "#summarize feature importance\n",
        "for i,v in enumerate(importance):\n",
        "  print('Feature : %0d, Score: %.5f' % (i,v))"
      ],
      "execution_count": 253,
      "outputs": [
        {
          "output_type": "stream",
          "text": [
            "Feature : 0, Score: 0.18277\n",
            "Feature : 1, Score: 0.19790\n",
            "Feature : 2, Score: 0.21341\n",
            "Feature : 3, Score: 0.19572\n",
            "Feature : 4, Score: 0.20825\n",
            "Feature : 5, Score: 0.00195\n",
            "Feature : 6, Score: 0.00000\n"
          ],
          "name": "stdout"
        }
      ]
    },
    {
      "cell_type": "code",
      "metadata": {
        "id": "FD5wLlKD4vM1",
        "colab": {
          "base_uri": "https://localhost:8080/",
          "height": 265
        },
        "outputId": "ab3f7ab0-0588-4ee0-9468-b1ad328465b5"
      },
      "source": [
        "#plotting the feature importance\n",
        "pyplot.bar([x for x in range(len(importance))], importance)\n",
        "pyplot.show()"
      ],
      "execution_count": 254,
      "outputs": [
        {
          "output_type": "display_data",
          "data": {
            "image/png": "[encoded data removed]",
            "text/plain": [
              "<Figure size 432x288 with 1 Axes>"
            ]
          },
          "metadata": {
            "tags": [],
            "needs_background": "light"
          }
        }
      ]
    },
    {
      "cell_type": "markdown",
      "metadata": {
        "id": "5q5d9xGv49jr"
      },
      "source": [
        "## **Random Forest Regression Feature Importance**"
      ]
    },
    {
      "cell_type": "code",
      "metadata": {
        "id": "Ztd2ks4n43PT",
        "colab": {
          "base_uri": "https://localhost:8080/",
          "height": 0
        },
        "outputId": "84572231-402b-475a-c04a-a5e2f34eea06"
      },
      "source": [
        "#Finding MAE value\n",
        "#define the model\n",
        "model = RandomForestRegressor()\n",
        "#fit the model\n",
        "model.fit(x_train,y_train)\n",
        "#get importance\n",
        "importance = model.feature_importances_\n",
        "#summarize feature importance\n",
        "for i,v in enumerate(importance):\n",
        "  print('Feature : %0d, Score: %.5f' % (i,v))"
      ],
      "execution_count": 255,
      "outputs": [
        {
          "output_type": "stream",
          "text": [
            "Feature : 0, Score: 0.16213\n",
            "Feature : 1, Score: 0.21405\n",
            "Feature : 2, Score: 0.20873\n",
            "Feature : 3, Score: 0.17621\n",
            "Feature : 4, Score: 0.20014\n",
            "Feature : 5, Score: 0.03874\n",
            "Feature : 6, Score: 0.00000\n"
          ],
          "name": "stdout"
        }
      ]
    },
    {
      "cell_type": "code",
      "metadata": {
        "id": "pT23RMlSGRT5",
        "colab": {
          "base_uri": "https://localhost:8080/",
          "height": 265
        },
        "outputId": "baef97d4-62a7-4b88-a227-3c058536d8fe"
      },
      "source": [
        "# plot feature importance\n",
        "pyplot.bar([x for x in range(len(importance))], importance)\n",
        "pyplot.show()"
      ],
      "execution_count": 256,
      "outputs": [
        {
          "output_type": "display_data",
          "data": {
            "image/png": "[encoded data removed]",
            "text/plain": [
              "<Figure size 432x288 with 1 Axes>"
            ]
          },
          "metadata": {
            "tags": [],
            "needs_background": "light"
          }
        }
      ]
    },
    {
      "cell_type": "markdown",
      "metadata": {
        "id": "dk4HRsne36YI"
      },
      "source": [
        "## **XGBoost Regression Feature Importance**"
      ]
    },
    {
      "cell_type": "code",
      "metadata": {
        "id": "Nxq073CgGU4u",
        "colab": {
          "base_uri": "https://localhost:8080/",
          "height": 0
        },
        "outputId": "1c759942-2da7-4f60-97fd-5f41e49f586b"
      },
      "source": [
        "#define the model\n",
        "model = XGBRegressor()\n",
        "#fit the model\n",
        "model.fit(x_train,y_train)\n",
        "#get importance\n",
        "importance = model.feature_importances_\n",
        "#summarize feature importance\n",
        "for i,v in enumerate(importance):\n",
        "  print('Feature : %0d, Score: %.5f' % (i,v))"
      ],
      "execution_count": 257,
      "outputs": [
        {
          "output_type": "stream",
          "text": [
            "[10:17:34] WARNING: /workspace/src/objective/regression_obj.cu:152: reg:linear is now deprecated in favor of reg:squarederror.\n",
            "Feature : 0, Score: 0.16729\n",
            "Feature : 1, Score: 0.13714\n",
            "Feature : 2, Score: 0.19304\n",
            "Feature : 3, Score: 0.13796\n",
            "Feature : 4, Score: 0.22317\n",
            "Feature : 5, Score: 0.14141\n",
            "Feature : 6, Score: 0.00000\n"
          ],
          "name": "stdout"
        }
      ]
    },
    {
      "cell_type": "code",
      "metadata": {
        "id": "lzEme1Ww4G3y",
        "colab": {
          "base_uri": "https://localhost:8080/",
          "height": 265
        },
        "outputId": "af5f3a55-ef93-4981-98cc-abcdaff0e91b"
      },
      "source": [
        "# plot feature importance\n",
        "pyplot.bar([x for x in range(len(importance))], importance)\n",
        "pyplot.show()"
      ],
      "execution_count": 258,
      "outputs": [
        {
          "output_type": "display_data",
          "data": {
            "image/png": "[encoded data removed]",
            "text/plain": [
              "<Figure size 432x288 with 1 Axes>"
            ]
          },
          "metadata": {
            "tags": [],
            "needs_background": "light"
          }
        }
      ]
    },
    {
      "cell_type": "markdown",
      "metadata": {
        "id": "B6BfCo3pF1ng"
      },
      "source": [
        "## **Permutation Feature Importance**"
      ]
    },
    {
      "cell_type": "code",
      "metadata": {
        "id": "f8YBYRcQF4VG",
        "colab": {
          "base_uri": "https://localhost:8080/",
          "height": 0
        },
        "outputId": "681302b1-4da8-4a76-f9a8-c8b6edc225ac"
      },
      "source": [
        "#define the model\n",
        "model = KNeighborsRegressor()\n",
        "#fit the model\n",
        "model.fit(x_train,y_train)\n",
        "# perform permutation importance\n",
        "results = permutation_importance(model, x_train,y_train, scoring='neg_mean_squared_error')\n",
        "#get importance\n",
        "importance = results.importances_mean\n",
        "#summarize feature importance\n",
        "for i,v in enumerate(importance):\n",
        "  print('Feature : %0d, Score: %.5f' % (i,v))"
      ],
      "execution_count": 259,
      "outputs": [
        {
          "output_type": "stream",
          "text": [
            "Feature : 0, Score: 15.59993\n",
            "Feature : 1, Score: 42.89859\n",
            "Feature : 2, Score: 21.87239\n",
            "Feature : 3, Score: 35.92475\n",
            "Feature : 4, Score: 23.95626\n",
            "Feature : 5, Score: 2.70616\n",
            "Feature : 6, Score: 0.00000\n"
          ],
          "name": "stdout"
        }
      ]
    },
    {
      "cell_type": "code",
      "metadata": {
        "id": "pw3cYi-IGiI5",
        "colab": {
          "base_uri": "https://localhost:8080/",
          "height": 265
        },
        "outputId": "48ff5150-0fad-4ab6-bff0-c4fd616a9ea4"
      },
      "source": [
        "# plot feature importance\n",
        "pyplot.bar([x for x in range(len(importance))], importance)\n",
        "pyplot.show()"
      ],
      "execution_count": 260,
      "outputs": [
        {
          "output_type": "display_data",
          "data": {
            "image/png": "[encoded data removed]",
            "text/plain": [
              "<Figure size 432x288 with 1 Axes>"
            ]
          },
          "metadata": {
            "tags": [],
            "needs_background": "light"
          }
        }
      ]
    },
    {
      "cell_type": "markdown",
      "metadata": {
        "id": "Qk8HUZF4-ycP"
      },
      "source": [
        "# **MAE Values**"
      ]
    },
    {
      "cell_type": "code",
      "metadata": {
        "id": "JWT2x0lnld1m",
        "colab": {
          "base_uri": "https://localhost:8080/",
          "height": 0
        },
        "outputId": "ed200df5-2c7a-4483-9b44-b9abbbdc12fc"
      },
      "source": [
        "#LinearRegression\n",
        "X = x_train.drop(\"Age\",1)\n",
        "X = X.drop(\"StdyHour\", 1)\n",
        "y = y_train\n",
        "\n",
        "model = LinearRegression()\n",
        "model.fit(X,y)\n",
        "#Finding MAE value\n",
        "# define the evaluation procedure\n",
        "cv = RepeatedKFold(n_splits=10, n_repeats=3, random_state=1)\n",
        "# evaluate the model and collect results\n",
        "n_scores = cross_val_score(model, X, y, scoring='neg_mean_absolute_error', cv=cv, n_jobs=-1)\n",
        "# report performance\n",
        "print('MAE: %.3f (%.3f)' % (mean(n_scores), std(n_scores)))"
      ],
      "execution_count": 261,
      "outputs": [
        {
          "output_type": "stream",
          "text": [
            "MAE: -13.479 (1.488)\n"
          ],
          "name": "stdout"
        }
      ]
    },
    {
      "cell_type": "code",
      "metadata": {
        "id": "gwYVnguG-5eP",
        "colab": {
          "base_uri": "https://localhost:8080/",
          "height": 0
        },
        "outputId": "1d9a109f-c206-40d7-ebe0-d3952d046e69"
      },
      "source": [
        "#CART\n",
        "X = x_train.drop(\"Gender_Num\",1)\n",
        "X = x_train.drop(\"Academic_Num\",1)\n",
        "y = y_train\n",
        "\n",
        "model = DecisionTreeRegressor()\n",
        "model.fit(X,y)\n",
        "#Finding MAE value\n",
        "# define the evaluation procedure\n",
        "cv = RepeatedKFold(n_splits=10, n_repeats=3, random_state=1)\n",
        "# evaluate the model and collect results\n",
        "n_scores = cross_val_score(model, X, y, scoring='neg_mean_absolute_error', cv=cv, n_jobs=-1)\n",
        "# report performance\n",
        "print('MAE: %.3f (%.3f)' % (mean(n_scores), std(n_scores)))"
      ],
      "execution_count": 262,
      "outputs": [
        {
          "output_type": "stream",
          "text": [
            "MAE: -13.438 (3.496)\n"
          ],
          "name": "stdout"
        }
      ]
    },
    {
      "cell_type": "code",
      "metadata": {
        "id": "CuqunmbM_3-A",
        "colab": {
          "base_uri": "https://localhost:8080/",
          "height": 0
        },
        "outputId": "0c0c9b58-0e36-44f7-c0ff-afba57e015ec"
      },
      "source": [
        "#Random Forest\n",
        "X = x_train.drop(\"Gender_Num\",1)\n",
        "X = X.drop(\"Academic_Num\",1)\n",
        "y = y_train\n",
        "\n",
        "model = RandomForestRegressor()\n",
        "model.fit(X,y)\n",
        "#Finding MAE value\n",
        "# define the evaluation procedure\n",
        "cv = RepeatedKFold(n_splits=10, n_repeats=3, random_state=1)\n",
        "# evaluate the model and collect results\n",
        "n_scores = cross_val_score(model, X, y, scoring='neg_mean_absolute_error', cv=cv, n_jobs=-1)\n",
        "# report performance\n",
        "print('MAE: %.3f (%.3f)' % (mean(n_scores), std(n_scores)))"
      ],
      "execution_count": 263,
      "outputs": [
        {
          "output_type": "stream",
          "text": [
            "MAE: -11.765 (1.754)\n"
          ],
          "name": "stdout"
        }
      ]
    },
    {
      "cell_type": "code",
      "metadata": {
        "id": "rK6GKZ5NAFS5",
        "colab": {
          "base_uri": "https://localhost:8080/",
          "height": 0
        },
        "outputId": "88f06087-a587-4ae5-c111-aa18c8cd6a41"
      },
      "source": [
        "#XGBoost\n",
        "X = x_train.drop(\"Gender_Num\",1)\n",
        "X = X.drop(\"Academic_Num\",1)\n",
        "y = y_train\n",
        "\n",
        "model = XGBRegressor()\n",
        "model.fit(X,y)\n",
        "#Finding MAE value\n",
        "# define the evaluation procedure\n",
        "cv = RepeatedKFold(n_splits=10, n_repeats=3, random_state=1)\n",
        "# evaluate the model and collect results\n",
        "n_scores = cross_val_score(model, X, y, scoring='neg_mean_absolute_error', cv=cv, n_jobs=-1)\n",
        "# report performance\n",
        "print('MAE: %.3f (%.3f)' % (mean(n_scores), std(n_scores)))"
      ],
      "execution_count": 264,
      "outputs": [
        {
          "output_type": "stream",
          "text": [
            "[10:17:41] WARNING: /workspace/src/objective/regression_obj.cu:152: reg:linear is now deprecated in favor of reg:squarederror.\n",
            "MAE: -11.920 (1.945)\n"
          ],
          "name": "stdout"
        }
      ]
    },
    {
      "cell_type": "code",
      "metadata": {
        "id": "knsC_uiyAlCt",
        "colab": {
          "base_uri": "https://localhost:8080/",
          "height": 0
        },
        "outputId": "a9d2b642-4071-40ba-e69f-5aa70e12509f"
      },
      "source": [
        "#Permutation\n",
        "X = x_train.drop(\"Gender_Num\",1)\n",
        "X = X.drop(\"Academic_Num\",1)\n",
        "y = y_train\n",
        "\n",
        "model = KNeighborsRegressor()\n",
        "model.fit(X,y)\n",
        "#Finding MAE value\n",
        "# define the evaluation procedure\n",
        "cv = RepeatedKFold(n_splits=10, n_repeats=3, random_state=1)\n",
        "# evaluate the model and collect results\n",
        "n_scores = cross_val_score(model, X, y, scoring='neg_mean_absolute_error', cv=cv, n_jobs=-1)\n",
        "# report performance\n",
        "print('MAE: %.3f (%.3f)' % (mean(n_scores), std(n_scores)))"
      ],
      "execution_count": 265,
      "outputs": [
        {
          "output_type": "stream",
          "text": [
            "MAE: -13.782 (2.148)\n"
          ],
          "name": "stdout"
        }
      ]
    },
    {
      "cell_type": "markdown",
      "metadata": {
        "id": "gYcweloZkh7y"
      },
      "source": [
        "# **Fitting The Random Forest Regression Model**"
      ]
    },
    {
      "cell_type": "code",
      "metadata": {
        "id": "XKClShD6Xx0W",
        "colab": {
          "base_uri": "https://localhost:8080/",
          "height": 0
        },
        "outputId": "35a1afe6-895d-4e1b-a119-1b931b6679f5"
      },
      "source": [
        "#Random Forest Regression\n",
        "X = x_train.drop(\"Gender_Num\",1)\n",
        "X = X.drop(\"Academic_Num\",1)\n",
        "y = y_train\n",
        "\n",
        "#Dropping features in the test dataset\n",
        "X_test = x_test.drop(\"Gender_Num\",1)\n",
        "X_test = X_test.drop(\"Academic_Num\",1)\n",
        "\n",
        "#Fitting Random Forest Regression to the dataset\n",
        "model = RandomForestRegressor()\n",
        "model.fit(X,y)\n",
        "\n",
        "#Predicting the result\n",
        "y_pred = model.predict(X_test)\n",
        "\n",
        "#Comparison dataframe\n",
        "pred_df = pd.DataFrame({'Real Values':y_test, 'Predicted Values':y_pred.reshape(-1)})\n",
        "#calculate accuracy\n",
        "# Calculate mean absolute percentage error (MAPE)\n",
        "mape = mean_absolute_error(y_test, y_pred) \n",
        "# Calculate and display accuracy\n",
        "accuracy = 100 - mape    \n",
        "#print result\n",
        "print('Initial model achieves on the test set an accuracy of', round(accuracy, 2),'%')\n"
      ],
      "execution_count": 266,
      "outputs": [
        {
          "output_type": "stream",
          "text": [
            "Initial model achieves on the test set an accuracy of 84.72 %\n"
          ],
          "name": "stdout"
        }
      ]
    },
    {
      "cell_type": "markdown",
      "metadata": {
        "id": "1Te7qidoYBHB"
      },
      "source": [
        "### **Fine Tuning the Random Forest Model**\n"
      ]
    },
    {
      "cell_type": "markdown",
      "metadata": {
        "id": "mRRCc-_OYR3K"
      },
      "source": [
        "Grid Search "
      ]
    },
    {
      "cell_type": "code",
      "metadata": {
        "id": "tj85_VDmO4U3",
        "colab": {
          "base_uri": "https://localhost:8080/",
          "height": 0
        },
        "outputId": "44ecbfb5-eb3c-4e0a-fbe0-cfdfae4e84cc"
      },
      "source": [
        "from sklearn.model_selection import GridSearchCV\n",
        "\n",
        "param_grid = [\n",
        "{'n_estimators': [10, 25],\n",
        " 'max_depth': [10, 50, None], 'bootstrap': [True, False]}\n",
        "]\n",
        "\n",
        "grid_search_forest = GridSearchCV(RandomForestRegressor(), param_grid, cv=10, scoring='neg_mean_squared_error')\n",
        "grid_search_forest.fit(X,y)\n",
        "\n",
        "\n",
        "cvres = grid_search_forest.cv_results_\n",
        "for mean_score, params in zip(cvres[\"mean_test_score\"], cvres[\"params\"]):\n",
        "    print(np.sqrt(-mean_score), params)\n"
      ],
      "execution_count": 267,
      "outputs": [
        {
          "output_type": "stream",
          "text": [
            "14.916389979433491 {'bootstrap': True, 'max_depth': 10, 'n_estimators': 10}\n",
            "14.238289335208957 {'bootstrap': True, 'max_depth': 10, 'n_estimators': 25}\n",
            "14.350607456466275 {'bootstrap': True, 'max_depth': 50, 'n_estimators': 10}\n",
            "13.903389504523949 {'bootstrap': True, 'max_depth': 50, 'n_estimators': 25}\n",
            "14.521899727485957 {'bootstrap': True, 'max_depth': None, 'n_estimators': 10}\n",
            "14.946048147749849 {'bootstrap': True, 'max_depth': None, 'n_estimators': 25}\n",
            "17.829641752412776 {'bootstrap': False, 'max_depth': 10, 'n_estimators': 10}\n",
            "17.873157148986646 {'bootstrap': False, 'max_depth': 10, 'n_estimators': 25}\n",
            "18.042841481854136 {'bootstrap': False, 'max_depth': 50, 'n_estimators': 10}\n",
            "17.76603749306885 {'bootstrap': False, 'max_depth': 50, 'n_estimators': 25}\n",
            "17.964010802624482 {'bootstrap': False, 'max_depth': None, 'n_estimators': 10}\n",
            "17.716774399653147 {'bootstrap': False, 'max_depth': None, 'n_estimators': 25}\n"
          ],
          "name": "stdout"
        }
      ]
    },
    {
      "cell_type": "code",
      "metadata": {
        "id": "Ksi1s3b_Pdjo",
        "colab": {
          "base_uri": "https://localhost:8080/",
          "height": 0
        },
        "outputId": "bf30b748-bfc9-4556-de3f-0f2f7683d32e"
      },
      "source": [
        "#find the best model of grid search\n",
        "grid_search_forest.best_estimator_"
      ],
      "execution_count": 268,
      "outputs": [
        {
          "output_type": "execute_result",
          "data": {
            "text/plain": [
              "RandomForestRegressor(bootstrap=True, ccp_alpha=0.0, criterion='mse',\n",
              "                      max_depth=50, max_features='auto', max_leaf_nodes=None,\n",
              "                      max_samples=None, min_impurity_decrease=0.0,\n",
              "                      min_impurity_split=None, min_samples_leaf=1,\n",
              "                      min_samples_split=2, min_weight_fraction_leaf=0.0,\n",
              "                      n_estimators=25, n_jobs=None, oob_score=False,\n",
              "                      random_state=None, verbose=0, warm_start=False)"
            ]
          },
          "metadata": {
            "tags": []
          },
          "execution_count": 268
        }
      ]
    },
    {
      "cell_type": "code",
      "metadata": {
        "id": "KyyLhDF9PknZ",
        "colab": {
          "base_uri": "https://localhost:8080/",
          "height": 0
        },
        "outputId": "e57b631c-8293-4f0f-921b-4e12d3828dfe"
      },
      "source": [
        "# Performance metrics\n",
        "grid_best= grid_search_forest.best_estimator_.predict(X)\n",
        "errors = abs(grid_best - y)\n",
        "# Calculate mean absolute percentage error (MAPE)\n",
        "mape = mean_absolute_error(y, grid_best)\n",
        "# Calculate and display accuracy\n",
        "accuracy = 100 - mape    \n",
        "#print result\n",
        "print('The best model from grid-search has an accuracy of', round(accuracy, 2),'%')"
      ],
      "execution_count": 269,
      "outputs": [
        {
          "output_type": "stream",
          "text": [
            "The best model from grid-search has an accuracy of 95.56 %\n"
          ],
          "name": "stdout"
        }
      ]
    },
    {
      "cell_type": "markdown",
      "metadata": {
        "id": "MfKH5J8DGQ-K"
      },
      "source": [
        "# **Evaluating The Model On The Test Set**"
      ]
    },
    {
      "cell_type": "code",
      "metadata": {
        "id": "bJvJHVTf-wQe",
        "colab": {
          "base_uri": "https://localhost:8080/",
          "height": 0
        },
        "outputId": "068eab24-924c-4fe2-9b78-07634ae4fa03"
      },
      "source": [
        "final_model = grid_search_forest.best_estimator_\n",
        "# Predicting test set results\n",
        "final_pred = final_model.predict(X_test) \n",
        "final_mse = mean_squared_error(y_test, final_pred)\n",
        "final_rmse = np.sqrt(final_mse)\n",
        "print('The final RMSE on the test set is', round(final_rmse, 2))"
      ],
      "execution_count": 270,
      "outputs": [
        {
          "output_type": "stream",
          "text": [
            "The final RMSE on the test set is 17.29\n"
          ],
          "name": "stdout"
        }
      ]
    },
    {
      "cell_type": "code",
      "metadata": {
        "id": "tA-ogDK7G_1h",
        "colab": {
          "base_uri": "https://localhost:8080/",
          "height": 0
        },
        "outputId": "646b5755-15d4-4283-ab8c-7c737d1d40ae"
      },
      "source": [
        "#calculate accuracy\n",
        "errors = abs(final_pred - y_test)\n",
        "# Calculate mean absolute percentage error (MAPE)\n",
        "mape = mean_absolute_error(y_test, final_pred)\n",
        "# Calculate and display accuracy\n",
        "accuracy = 100 - mape    \n",
        "#print result\n",
        "print('The best model achieves on the test set an accuracy of', round(accuracy, 2),'%')"
      ],
      "execution_count": 271,
      "outputs": [
        {
          "output_type": "stream",
          "text": [
            "The best model achieves on the test set an accuracy of 84.7 %\n"
          ],
          "name": "stdout"
        }
      ]
    },
    {
      "cell_type": "markdown",
      "metadata": {
        "id": "NKj9OgY2ugzz"
      },
      "source": [
        "# **Visualization of Random Forest Hyperparameters**\n",
        "\n",
        "---\n",
        "## Getting the accuracy\n"
      ]
    },
    {
      "cell_type": "code",
      "metadata": {
        "id": "LXfSEWNnuovG",
        "colab": {
          "base_uri": "https://localhost:8080/",
          "height": 296
        },
        "outputId": "f3aa3a56-ae2a-408d-f0ef-8d278c0148d1"
      },
      "source": [
        "max_depths = np.linspace(1, 100, 100, endpoint=True)\n",
        "\n",
        "train_results = []\n",
        "test_results = []\n",
        "\n",
        "for i in max_depths:\n",
        "    dt = RandomForestRegressor(max_depth=i)\n",
        "    dt.fit(X, y)    \n",
        "    #compute accuracy for train data\n",
        "    housing_tree = dt.predict(X)\n",
        "    # Calculate mean absolute percentage error (MAPE)\n",
        "    mape = mean_absolute_error(y, housing_tree)\n",
        "    # Calculate and display accuracy\n",
        "    accuracy = 100 - np.mean(mape)\n",
        "    #append results of accuracy\n",
        "    train_results.append(accuracy)\n",
        "    \n",
        "    #now again for test data\n",
        "    housing_tree = dt.predict(X_test)\n",
        "    # Calculate mean absolute percentage error (MAPE)\n",
        "    mape = mean_absolute_error(y_test, housing_tree)\n",
        "    # Calculate and display accuracy\n",
        "    accuracy = 100 - np.mean(mape)\n",
        "    #append results of accuracy\n",
        "    test_results.append(accuracy)\n",
        "    \n",
        "from matplotlib.legend_handler import HandlerLine2D\n",
        "line1, = pyplot.plot(max_depths, train_results, 'b', label='Train accuracy')\n",
        "line2, = pyplot.plot(max_depths, test_results, 'r', label= 'Test accuracy')\n",
        "\n",
        "pyplot.legend(handler_map={line1: HandlerLine2D(numpoints=2)})\n",
        "pyplot.ylabel('Accuracy score')\n",
        "pyplot.xlabel('Tree depth')"
      ],
      "execution_count": 272,
      "outputs": [
        {
          "output_type": "execute_result",
          "data": {
            "text/plain": [
              "Text(0.5, 0, 'Tree depth')"
            ]
          },
          "metadata": {
            "tags": []
          },
          "execution_count": 272
        },
        {
          "output_type": "display_data",
          "data": {
            "image/png": "[encoded data removed]",
            "text/plain": [
              "<Figure size 432x288 with 1 Axes>"
            ]
          },
          "metadata": {
            "tags": [],
            "needs_background": "light"
          }
        }
      ]
    },
    {
      "cell_type": "code",
      "metadata": {
        "id": "d1kPmvwCLHfc",
        "colab": {
          "base_uri": "https://localhost:8080/",
          "height": 1010
        },
        "outputId": "04618a30-862f-41e6-c934-273eec4840eb"
      },
      "source": [
        "X_test"
      ],
      "execution_count": 273,
      "outputs": [
        {
          "output_type": "execute_result",
          "data": {
            "text/html": [
              "<div>\n",
              "<style scoped>\n",
              "    .dataframe tbody tr th:only-of-type {\n",
              "        vertical-align: middle;\n",
              "    }\n",
              "\n",
              "    .dataframe tbody tr th {\n",
              "        vertical-align: top;\n",
              "    }\n",
              "\n",
              "    .dataframe thead th {\n",
              "        text-align: right;\n",
              "    }\n",
              "</style>\n",
              "<table border=\"1\" class=\"dataframe\">\n",
              "  <thead>\n",
              "    <tr style=\"text-align: right;\">\n",
              "      <th></th>\n",
              "      <th>Age</th>\n",
              "      <th>StdyHour</th>\n",
              "      <th>BffTime</th>\n",
              "      <th>HobbyHour</th>\n",
              "      <th>SleepHour</th>\n",
              "    </tr>\n",
              "  </thead>\n",
              "  <tbody>\n",
              "    <tr>\n",
              "      <th>150</th>\n",
              "      <td>18</td>\n",
              "      <td>4.0</td>\n",
              "      <td>7</td>\n",
              "      <td>10</td>\n",
              "      <td>8</td>\n",
              "    </tr>\n",
              "    <tr>\n",
              "      <th>68</th>\n",
              "      <td>22</td>\n",
              "      <td>14.0</td>\n",
              "      <td>5</td>\n",
              "      <td>3</td>\n",
              "      <td>5</td>\n",
              "    </tr>\n",
              "    <tr>\n",
              "      <th>146</th>\n",
              "      <td>18</td>\n",
              "      <td>1.0</td>\n",
              "      <td>5</td>\n",
              "      <td>8</td>\n",
              "      <td>8</td>\n",
              "    </tr>\n",
              "    <tr>\n",
              "      <th>49</th>\n",
              "      <td>21</td>\n",
              "      <td>5.0</td>\n",
              "      <td>2</td>\n",
              "      <td>5</td>\n",
              "      <td>8</td>\n",
              "    </tr>\n",
              "    <tr>\n",
              "      <th>93</th>\n",
              "      <td>25</td>\n",
              "      <td>5.0</td>\n",
              "      <td>1</td>\n",
              "      <td>4</td>\n",
              "      <td>5</td>\n",
              "    </tr>\n",
              "    <tr>\n",
              "      <th>51</th>\n",
              "      <td>21</td>\n",
              "      <td>7.0</td>\n",
              "      <td>7</td>\n",
              "      <td>7</td>\n",
              "      <td>10</td>\n",
              "    </tr>\n",
              "    <tr>\n",
              "      <th>167</th>\n",
              "      <td>20</td>\n",
              "      <td>6.0</td>\n",
              "      <td>2</td>\n",
              "      <td>2</td>\n",
              "      <td>6</td>\n",
              "    </tr>\n",
              "    <tr>\n",
              "      <th>63</th>\n",
              "      <td>22</td>\n",
              "      <td>7.0</td>\n",
              "      <td>8</td>\n",
              "      <td>4</td>\n",
              "      <td>8</td>\n",
              "    </tr>\n",
              "    <tr>\n",
              "      <th>148</th>\n",
              "      <td>18</td>\n",
              "      <td>2.0</td>\n",
              "      <td>1</td>\n",
              "      <td>3</td>\n",
              "      <td>7</td>\n",
              "    </tr>\n",
              "    <tr>\n",
              "      <th>111</th>\n",
              "      <td>19</td>\n",
              "      <td>8.0</td>\n",
              "      <td>1</td>\n",
              "      <td>3</td>\n",
              "      <td>3</td>\n",
              "    </tr>\n",
              "    <tr>\n",
              "      <th>26</th>\n",
              "      <td>20</td>\n",
              "      <td>7.0</td>\n",
              "      <td>7</td>\n",
              "      <td>6</td>\n",
              "      <td>9</td>\n",
              "    </tr>\n",
              "    <tr>\n",
              "      <th>122</th>\n",
              "      <td>19</td>\n",
              "      <td>4.0</td>\n",
              "      <td>9</td>\n",
              "      <td>2</td>\n",
              "      <td>6</td>\n",
              "    </tr>\n",
              "    <tr>\n",
              "      <th>129</th>\n",
              "      <td>19</td>\n",
              "      <td>9.0</td>\n",
              "      <td>5</td>\n",
              "      <td>6</td>\n",
              "      <td>3</td>\n",
              "    </tr>\n",
              "    <tr>\n",
              "      <th>83</th>\n",
              "      <td>24</td>\n",
              "      <td>4.0</td>\n",
              "      <td>2</td>\n",
              "      <td>5</td>\n",
              "      <td>8</td>\n",
              "    </tr>\n",
              "    <tr>\n",
              "      <th>153</th>\n",
              "      <td>18</td>\n",
              "      <td>4.0</td>\n",
              "      <td>4</td>\n",
              "      <td>2</td>\n",
              "      <td>5</td>\n",
              "    </tr>\n",
              "    <tr>\n",
              "      <th>118</th>\n",
              "      <td>20</td>\n",
              "      <td>6.0</td>\n",
              "      <td>8</td>\n",
              "      <td>4</td>\n",
              "      <td>8</td>\n",
              "    </tr>\n",
              "    <tr>\n",
              "      <th>95</th>\n",
              "      <td>25</td>\n",
              "      <td>6.0</td>\n",
              "      <td>1</td>\n",
              "      <td>4</td>\n",
              "      <td>6</td>\n",
              "    </tr>\n",
              "    <tr>\n",
              "      <th>75</th>\n",
              "      <td>23</td>\n",
              "      <td>6.0</td>\n",
              "      <td>1</td>\n",
              "      <td>2</td>\n",
              "      <td>6</td>\n",
              "    </tr>\n",
              "    <tr>\n",
              "      <th>126</th>\n",
              "      <td>19</td>\n",
              "      <td>6.0</td>\n",
              "      <td>2</td>\n",
              "      <td>3</td>\n",
              "      <td>7</td>\n",
              "    </tr>\n",
              "    <tr>\n",
              "      <th>59</th>\n",
              "      <td>22</td>\n",
              "      <td>1.0</td>\n",
              "      <td>8</td>\n",
              "      <td>10</td>\n",
              "      <td>7</td>\n",
              "    </tr>\n",
              "    <tr>\n",
              "      <th>78</th>\n",
              "      <td>23</td>\n",
              "      <td>9.0</td>\n",
              "      <td>4</td>\n",
              "      <td>6</td>\n",
              "      <td>8</td>\n",
              "    </tr>\n",
              "    <tr>\n",
              "      <th>86</th>\n",
              "      <td>24</td>\n",
              "      <td>7.0</td>\n",
              "      <td>5</td>\n",
              "      <td>1</td>\n",
              "      <td>8</td>\n",
              "    </tr>\n",
              "    <tr>\n",
              "      <th>152</th>\n",
              "      <td>18</td>\n",
              "      <td>4.0</td>\n",
              "      <td>7</td>\n",
              "      <td>10</td>\n",
              "      <td>8</td>\n",
              "    </tr>\n",
              "    <tr>\n",
              "      <th>96</th>\n",
              "      <td>25</td>\n",
              "      <td>7.0</td>\n",
              "      <td>4</td>\n",
              "      <td>2</td>\n",
              "      <td>5</td>\n",
              "    </tr>\n",
              "    <tr>\n",
              "      <th>156</th>\n",
              "      <td>18</td>\n",
              "      <td>5.0</td>\n",
              "      <td>5</td>\n",
              "      <td>5</td>\n",
              "      <td>6</td>\n",
              "    </tr>\n",
              "    <tr>\n",
              "      <th>149</th>\n",
              "      <td>18</td>\n",
              "      <td>4.0</td>\n",
              "      <td>7</td>\n",
              "      <td>10</td>\n",
              "      <td>8</td>\n",
              "    </tr>\n",
              "    <tr>\n",
              "      <th>35</th>\n",
              "      <td>20</td>\n",
              "      <td>15.0</td>\n",
              "      <td>5</td>\n",
              "      <td>1</td>\n",
              "      <td>7</td>\n",
              "    </tr>\n",
              "    <tr>\n",
              "      <th>67</th>\n",
              "      <td>22</td>\n",
              "      <td>9.0</td>\n",
              "      <td>2</td>\n",
              "      <td>1</td>\n",
              "      <td>8</td>\n",
              "    </tr>\n",
              "    <tr>\n",
              "      <th>92</th>\n",
              "      <td>25</td>\n",
              "      <td>4.0</td>\n",
              "      <td>1</td>\n",
              "      <td>3</td>\n",
              "      <td>5</td>\n",
              "    </tr>\n",
              "    <tr>\n",
              "      <th>62</th>\n",
              "      <td>22</td>\n",
              "      <td>6.0</td>\n",
              "      <td>3</td>\n",
              "      <td>6</td>\n",
              "      <td>6</td>\n",
              "    </tr>\n",
              "    <tr>\n",
              "      <th>13</th>\n",
              "      <td>20</td>\n",
              "      <td>4.0</td>\n",
              "      <td>7</td>\n",
              "      <td>3</td>\n",
              "      <td>7</td>\n",
              "    </tr>\n",
              "  </tbody>\n",
              "</table>\n",
              "</div>"
            ],
            "text/plain": [
              "     Age  StdyHour  BffTime  HobbyHour  SleepHour\n",
              "150   18       4.0        7         10          8\n",
              "68    22      14.0        5          3          5\n",
              "146   18       1.0        5          8          8\n",
              "49    21       5.0        2          5          8\n",
              "93    25       5.0        1          4          5\n",
              "51    21       7.0        7          7         10\n",
              "167   20       6.0        2          2          6\n",
              "63    22       7.0        8          4          8\n",
              "148   18       2.0        1          3          7\n",
              "111   19       8.0        1          3          3\n",
              "26    20       7.0        7          6          9\n",
              "122   19       4.0        9          2          6\n",
              "129   19       9.0        5          6          3\n",
              "83    24       4.0        2          5          8\n",
              "153   18       4.0        4          2          5\n",
              "118   20       6.0        8          4          8\n",
              "95    25       6.0        1          4          6\n",
              "75    23       6.0        1          2          6\n",
              "126   19       6.0        2          3          7\n",
              "59    22       1.0        8         10          7\n",
              "78    23       9.0        4          6          8\n",
              "86    24       7.0        5          1          8\n",
              "152   18       4.0        7         10          8\n",
              "96    25       7.0        4          2          5\n",
              "156   18       5.0        5          5          6\n",
              "149   18       4.0        7         10          8\n",
              "35    20      15.0        5          1          7\n",
              "67    22       9.0        2          1          8\n",
              "92    25       4.0        1          3          5\n",
              "62    22       6.0        3          6          6\n",
              "13    20       4.0        7          3          7"
            ]
          },
          "metadata": {
            "tags": []
          },
          "execution_count": 273
        }
      ]
    },
    {
      "cell_type": "markdown",
      "metadata": {
        "id": "GKbCFbf9OxiP"
      },
      "source": [
        "# **Testing A Specific Data**"
      ]
    },
    {
      "cell_type": "code",
      "metadata": {
        "id": "ZXWQCO3yyvag",
        "colab": {
          "base_uri": "https://localhost:8080/",
          "height": 0
        },
        "outputId": "b0d289fa-b434-4a60-a480-7490587526b9"
      },
      "source": [
        "#Testing a specific data\n",
        "X_test\n",
        "\n",
        "#20, 4, 2, 0, 6\n",
        "\n",
        "test_test = { 'Age' : [20],'StdyHour' : [4], 'BffTime' : [2], 'HobbyHour' : [0] , 'SleepHour' : [6]}\n",
        "test_DF = pd.DataFrame(test_test, columns = ['Age', 'StdyHour', 'BffTime', 'HobbyHour', 'SleepHour'])\n",
        "test_pred = final_model.predict(test_DF)\n",
        "test_pred/4\n"
      ],
      "execution_count": 274,
      "outputs": [
        {
          "output_type": "execute_result",
          "data": {
            "text/plain": [
              "array([5.756])"
            ]
          },
          "metadata": {
            "tags": []
          },
          "execution_count": 274
        }
      ]
    },
    {
      "cell_type": "code",
      "metadata": {
        "id": "2510qsiFM9Ni",
        "colab": {
          "base_uri": "https://localhost:8080/",
          "height": 0
        },
        "outputId": "9e809ab1-936c-475c-e466-f98efb1ed04f"
      },
      "source": [
        "#Linear Regression\n",
        "X = x_train.drop(\"Age\",1)\n",
        "X = X.drop(\"Academic_Num\",1)\n",
        "y = y_train\n",
        "m = y.size\n",
        "\n",
        "#Dropping features in the test dataset\n",
        "X_test = x_test.drop(\"Age\",1)\n",
        "X_test = X_test.drop(\"Academic_Num\",1)\n",
        "\n",
        "#Fitting Random Forest Regression to the dataset\n",
        "model = LinearRegression()\n",
        "model.fit(X,y)\n",
        "\n",
        "#Predicting the result\n",
        "y_pred = model.predict(X_test)\n",
        "\n",
        "df = pd.DataFrame({'Actual': y_test, 'Predicted': y_pred})\n",
        "df\n",
        "\n",
        "print(model.score(X, y))\n",
        " "
      ],
      "execution_count": 275,
      "outputs": [
        {
          "output_type": "stream",
          "text": [
            "0.029117562216716353\n"
          ],
          "name": "stdout"
        }
      ]
    },
    {
      "cell_type": "code",
      "metadata": {
        "id": "tY8WHLA-D3pB"
      },
      "source": [
        ""
      ],
      "execution_count": 275,
      "outputs": []
    }
  ]
}