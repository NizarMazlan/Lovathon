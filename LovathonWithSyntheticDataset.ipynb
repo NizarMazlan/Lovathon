{
  "nbformat": 4,
  "nbformat_minor": 0,
  "metadata": {
    "colab": {
      "name": "LovathonWithSyntheticDataset.ipynb",
      "provenance": [],
      "collapsed_sections": [],
      "include_colab_link": true
    },
    "kernelspec": {
      "name": "python3",
      "display_name": "Python 3"
    },
    "language_info": {
      "name": "python"
    }
  },
  "cells": [
    {
      "cell_type": "markdown",
      "metadata": {
        "id": "view-in-github",
        "colab_type": "text"
      },
      "source": [
        "<a href=\"https://colab.research.google.com/github/NizarMazlan/Lovathon/blob/main/LovathonWithSyntheticDataset.ipynb\" target=\"_parent\"><img src=\"https://colab.research.google.com/assets/colab-badge.svg\" alt=\"Open In Colab\"/></a>"
      ]
    },
    {
      "cell_type": "markdown",
      "metadata": {
        "id": "S64lPJBKtNkI"
      },
      "source": [
        "# **Importing Libraries and Things**"
      ]
    },
    {
      "cell_type": "code",
      "metadata": {
        "id": "LeVqsri-tsIT"
      },
      "source": [
        "#importing libraries\n",
        "import math\n",
        "import pandas as pd\n",
        "import numpy as np\n",
        "from numpy import mean\n",
        "from numpy import std\n",
        "from matplotlib import pyplot\n",
        "from sklearn import metrics\n",
        "from sklearn.model_selection import cross_val_score\n",
        "from sklearn.model_selection import RepeatedKFold\n",
        "from sklearn.model_selection import train_test_split\n",
        "from sklearn.linear_model import LinearRegression\n",
        "from sklearn.tree import DecisionTreeRegressor\n",
        "from sklearn.ensemble import RandomForestRegressor\n",
        "from sklearn.neighbors import KNeighborsRegressor\n",
        "from sklearn.inspection import permutation_importance\n",
        "from sklearn.preprocessing import OneHotEncoder\n",
        "from sklearn.compose import ColumnTransformer\n",
        "from sklearn.metrics import mean_squared_error\n",
        "from sklearn.metrics import mean_absolute_error\n",
        "from sklearn.metrics import r2_score\n",
        "from xgboost import XGBRegressor"
      ],
      "execution_count": null,
      "outputs": []
    },
    {
      "cell_type": "code",
      "metadata": {
        "colab": {
          "base_uri": "https://localhost:8080/",
          "height": 419
        },
        "id": "vclF_45cuJzj",
        "outputId": "547af9e4-966f-4bd1-c37c-b08f09cbb503"
      },
      "source": [
        "#access data\n",
        "df = pd.read_csv(\"/content/SyntheticDataset.csv\")\n",
        "\n",
        "#replace the categorical data into numerical\n",
        "def gender_to_numeric(x):\n",
        "  if x=='Male':\n",
        "    return 0\n",
        "  else:\n",
        "    return 1\n",
        "\n",
        "def academic_to_numeric(x):\n",
        "  if x=='High School' or x=='Pre-U':\n",
        "    return 0\n",
        "  else:\n",
        "    return 1\n",
        "\n",
        "df['Gender_Num'] = df['Gender'].apply(gender_to_numeric)\n",
        "df['Academic_Num'] = df['Gender'].apply(academic_to_numeric)\n",
        "df = df.drop('Gender',1)\n",
        "df = df.drop('AcademicLevel', 1)\n",
        "\n",
        "\n",
        "#refined dataset\n",
        "LoveData = df\n",
        "LoveData\n"
      ],
      "execution_count": null,
      "outputs": [
        {
          "output_type": "execute_result",
          "data": {
            "text/html": [
              "<div>\n",
              "<style scoped>\n",
              "    .dataframe tbody tr th:only-of-type {\n",
              "        vertical-align: middle;\n",
              "    }\n",
              "\n",
              "    .dataframe tbody tr th {\n",
              "        vertical-align: top;\n",
              "    }\n",
              "\n",
              "    .dataframe thead th {\n",
              "        text-align: right;\n",
              "    }\n",
              "</style>\n",
              "<table border=\"1\" class=\"dataframe\">\n",
              "  <thead>\n",
              "    <tr style=\"text-align: right;\">\n",
              "      <th></th>\n",
              "      <th>Age</th>\n",
              "      <th>AvgInteract</th>\n",
              "      <th>StdyHour</th>\n",
              "      <th>BffTime</th>\n",
              "      <th>HobbyHour</th>\n",
              "      <th>SleepHour</th>\n",
              "      <th>Gender_Num</th>\n",
              "      <th>Academic_Num</th>\n",
              "    </tr>\n",
              "  </thead>\n",
              "  <tbody>\n",
              "    <tr>\n",
              "      <th>0</th>\n",
              "      <td>22</td>\n",
              "      <td>37</td>\n",
              "      <td>11</td>\n",
              "      <td>6</td>\n",
              "      <td>6</td>\n",
              "      <td>6</td>\n",
              "      <td>1</td>\n",
              "      <td>1</td>\n",
              "    </tr>\n",
              "    <tr>\n",
              "      <th>1</th>\n",
              "      <td>25</td>\n",
              "      <td>16</td>\n",
              "      <td>8</td>\n",
              "      <td>5</td>\n",
              "      <td>6</td>\n",
              "      <td>4</td>\n",
              "      <td>1</td>\n",
              "      <td>1</td>\n",
              "    </tr>\n",
              "    <tr>\n",
              "      <th>2</th>\n",
              "      <td>27</td>\n",
              "      <td>43</td>\n",
              "      <td>9</td>\n",
              "      <td>7</td>\n",
              "      <td>7</td>\n",
              "      <td>7</td>\n",
              "      <td>0</td>\n",
              "      <td>1</td>\n",
              "    </tr>\n",
              "    <tr>\n",
              "      <th>3</th>\n",
              "      <td>23</td>\n",
              "      <td>29</td>\n",
              "      <td>2</td>\n",
              "      <td>5</td>\n",
              "      <td>6</td>\n",
              "      <td>8</td>\n",
              "      <td>1</td>\n",
              "      <td>1</td>\n",
              "    </tr>\n",
              "    <tr>\n",
              "      <th>4</th>\n",
              "      <td>32</td>\n",
              "      <td>27</td>\n",
              "      <td>9</td>\n",
              "      <td>5</td>\n",
              "      <td>8</td>\n",
              "      <td>10</td>\n",
              "      <td>1</td>\n",
              "      <td>1</td>\n",
              "    </tr>\n",
              "    <tr>\n",
              "      <th>...</th>\n",
              "      <td>...</td>\n",
              "      <td>...</td>\n",
              "      <td>...</td>\n",
              "      <td>...</td>\n",
              "      <td>...</td>\n",
              "      <td>...</td>\n",
              "      <td>...</td>\n",
              "      <td>...</td>\n",
              "    </tr>\n",
              "    <tr>\n",
              "      <th>9995</th>\n",
              "      <td>17</td>\n",
              "      <td>22</td>\n",
              "      <td>9</td>\n",
              "      <td>5</td>\n",
              "      <td>6</td>\n",
              "      <td>5</td>\n",
              "      <td>0</td>\n",
              "      <td>1</td>\n",
              "    </tr>\n",
              "    <tr>\n",
              "      <th>9996</th>\n",
              "      <td>25</td>\n",
              "      <td>27</td>\n",
              "      <td>11</td>\n",
              "      <td>5</td>\n",
              "      <td>7</td>\n",
              "      <td>3</td>\n",
              "      <td>0</td>\n",
              "      <td>1</td>\n",
              "    </tr>\n",
              "    <tr>\n",
              "      <th>9997</th>\n",
              "      <td>18</td>\n",
              "      <td>38</td>\n",
              "      <td>6</td>\n",
              "      <td>8</td>\n",
              "      <td>5</td>\n",
              "      <td>4</td>\n",
              "      <td>1</td>\n",
              "      <td>1</td>\n",
              "    </tr>\n",
              "    <tr>\n",
              "      <th>9998</th>\n",
              "      <td>24</td>\n",
              "      <td>29</td>\n",
              "      <td>16</td>\n",
              "      <td>6</td>\n",
              "      <td>7</td>\n",
              "      <td>8</td>\n",
              "      <td>0</td>\n",
              "      <td>1</td>\n",
              "    </tr>\n",
              "    <tr>\n",
              "      <th>9999</th>\n",
              "      <td>35</td>\n",
              "      <td>19</td>\n",
              "      <td>7</td>\n",
              "      <td>7</td>\n",
              "      <td>7</td>\n",
              "      <td>3</td>\n",
              "      <td>1</td>\n",
              "      <td>1</td>\n",
              "    </tr>\n",
              "  </tbody>\n",
              "</table>\n",
              "<p>10000 rows × 8 columns</p>\n",
              "</div>"
            ],
            "text/plain": [
              "      Age  AvgInteract  StdyHour  ...  SleepHour  Gender_Num  Academic_Num\n",
              "0      22           37        11  ...          6           1             1\n",
              "1      25           16         8  ...          4           1             1\n",
              "2      27           43         9  ...          7           0             1\n",
              "3      23           29         2  ...          8           1             1\n",
              "4      32           27         9  ...         10           1             1\n",
              "...   ...          ...       ...  ...        ...         ...           ...\n",
              "9995   17           22         9  ...          5           0             1\n",
              "9996   25           27        11  ...          3           0             1\n",
              "9997   18           38         6  ...          4           1             1\n",
              "9998   24           29        16  ...          8           0             1\n",
              "9999   35           19         7  ...          3           1             1\n",
              "\n",
              "[10000 rows x 8 columns]"
            ]
          },
          "metadata": {
            "tags": []
          },
          "execution_count": 67
        }
      ]
    },
    {
      "cell_type": "markdown",
      "metadata": {
        "id": "4gG_XWMJSQHC"
      },
      "source": [
        "# **Finding Outlier In The Data**"
      ]
    },
    {
      "cell_type": "code",
      "metadata": {
        "colab": {
          "base_uri": "https://localhost:8080/",
          "height": 822
        },
        "id": "v6e03VxyN2aK",
        "outputId": "c7e40c67-92dd-4a18-cb6b-c8b9cd1607b3"
      },
      "source": [
        "#Age\n",
        "pyplot.hist(LoveData.Age)\n",
        "pyplot.xlabel(\"Age\")\n",
        "pyplot.ylabel(\"Frequency\")\n",
        "pyplot.show()\n",
        "pyplot.boxplot(LoveData.Age)\n",
        "pyplot.xlabel(\"Age\")\n",
        "pyplot.show()\n",
        "pyplot.scatter(LoveData.Age, LoveData.AvgInteract)\n",
        "\n",
        "pyplot.xlabel(\"Age\")\n",
        "pyplot.ylabel(\"Average Interaction\")"
      ],
      "execution_count": null,
      "outputs": [
        {
          "output_type": "display_data",
          "data": {
            "image/png": "[encoded data removed]",
            "text/plain": [
              "<Figure size 432x288 with 1 Axes>"
            ]
          },
          "metadata": {
            "tags": [],
            "needs_background": "light"
          }
        },
        {
          "output_type": "display_data",
          "data": {
            "image/png": "[encoded data removed]",
            "text/plain": [
              "<Figure size 432x288 with 1 Axes>"
            ]
          },
          "metadata": {
            "tags": [],
            "needs_background": "light"
          }
        },
        {
          "output_type": "execute_result",
          "data": {
            "text/plain": [
              "Text(0, 0.5, 'Average Interaction')"
            ]
          },
          "metadata": {
            "tags": []
          },
          "execution_count": 68
        },
        {
          "output_type": "display_data",
          "data": {
            "image/png": "[encoded data removed]",
            "text/plain": [
              "<Figure size 432x288 with 1 Axes>"
            ]
          },
          "metadata": {
            "tags": [],
            "needs_background": "light"
          }
        }
      ]
    },
    {
      "cell_type": "markdown",
      "metadata": {
        "id": "oye5H7_8Tdh8"
      },
      "source": [
        "This dataset is skewed and needed to be changed"
      ]
    },
    {
      "cell_type": "code",
      "metadata": {
        "colab": {
          "base_uri": "https://localhost:8080/"
        },
        "id": "x28NeABazHx9",
        "outputId": "9b3a27a4-341c-422f-e089-0978584ca1c1"
      },
      "source": [
        "LoveData.Age.describe()"
      ],
      "execution_count": null,
      "outputs": [
        {
          "output_type": "execute_result",
          "data": {
            "text/plain": [
              "count    10000.00000\n",
              "mean        24.69880\n",
              "std          4.71857\n",
              "min         17.00000\n",
              "25%         21.00000\n",
              "50%         25.00000\n",
              "75%         28.00000\n",
              "max         44.00000\n",
              "Name: Age, dtype: float64"
            ]
          },
          "metadata": {
            "tags": []
          },
          "execution_count": 69
        }
      ]
    },
    {
      "cell_type": "code",
      "metadata": {
        "colab": {
          "base_uri": "https://localhost:8080/",
          "height": 296
        },
        "id": "hOonxJQkUVvj",
        "outputId": "d1583418-176a-401c-811b-87f567835982"
      },
      "source": [
        "#Testing how to find outliers\n",
        "max_threshold = LoveData['Age'].quantile(0.98) #everything above this is considered as an outlier\n",
        "print(max_threshold)\n",
        "#remove all the outlier in the data\n",
        "LoveData = LoveData[LoveData['Age'] < max_threshold]\n",
        "pyplot.hist(LoveData.Age)\n",
        "pyplot.xlabel(\"Age\")\n",
        "pyplot.ylabel(\"Frequency\")\n",
        "pyplot.show()"
      ],
      "execution_count": null,
      "outputs": [
        {
          "output_type": "stream",
          "text": [
            "35.0\n"
          ],
          "name": "stdout"
        },
        {
          "output_type": "display_data",
          "data": {
            "image/png": "[encoded data removed]",
            "text/plain": [
              "<Figure size 432x288 with 1 Axes>"
            ]
          },
          "metadata": {
            "tags": [],
            "needs_background": "light"
          }
        }
      ]
    },
    {
      "cell_type": "code",
      "metadata": {
        "colab": {
          "base_uri": "https://localhost:8080/",
          "height": 279
        },
        "id": "OwwejIz5R6oQ",
        "outputId": "293e1081-f301-43f5-85ff-a18952d3c1fb"
      },
      "source": [
        "#AvgInteract\n",
        "pyplot.hist(LoveData.AvgInteract)\n",
        "pyplot.xlabel(\"Average Interaction\")\n",
        "pyplot.ylabel(\"Frequency\")\n",
        "pyplot.show()"
      ],
      "execution_count": null,
      "outputs": [
        {
          "output_type": "display_data",
          "data": {
            "image/png": "[encoded data removed]",
            "text/plain": [
              "<Figure size 432x288 with 1 Axes>"
            ]
          },
          "metadata": {
            "tags": [],
            "needs_background": "light"
          }
        }
      ]
    },
    {
      "cell_type": "code",
      "metadata": {
        "colab": {
          "base_uri": "https://localhost:8080/",
          "height": 280
        },
        "id": "t4Ww83SKR6yg",
        "outputId": "1cb52661-9e42-47b0-e8ea-05cec43f9e40"
      },
      "source": [
        "#StudyHour\n",
        "pyplot.hist(LoveData.StdyHour)\n",
        "pyplot.xlabel(\"Study Hours\")\n",
        "pyplot.ylabel(\"Frequency\")\n",
        "pyplot.show()"
      ],
      "execution_count": null,
      "outputs": [
        {
          "output_type": "display_data",
          "data": {
            "image/png": "[encoded data removed]",
            "text/plain": [
              "<Figure size 432x288 with 1 Axes>"
            ]
          },
          "metadata": {
            "tags": [],
            "needs_background": "light"
          }
        }
      ]
    },
    {
      "cell_type": "code",
      "metadata": {
        "colab": {
          "base_uri": "https://localhost:8080/",
          "height": 283
        },
        "id": "JNoSvNJXR6_N",
        "outputId": "9618d968-8e28-4124-c573-fbcb7037ad77"
      },
      "source": [
        "#BffTime\n",
        "pyplot.hist(LoveData.BffTime)\n",
        "pyplot.xlabel(\"Time Spent With BFF\")\n",
        "pyplot.ylabel(\"Frequency\")\n",
        "pyplot.show()"
      ],
      "execution_count": null,
      "outputs": [
        {
          "output_type": "display_data",
          "data": {
            "image/png": "[encoded data removed]",
            "text/plain": [
              "<Figure size 432x288 with 1 Axes>"
            ]
          },
          "metadata": {
            "tags": [],
            "needs_background": "light"
          }
        }
      ]
    },
    {
      "cell_type": "code",
      "metadata": {
        "colab": {
          "base_uri": "https://localhost:8080/",
          "height": 281
        },
        "id": "UzRaG7vER7B2",
        "outputId": "34b6cd76-8783-4cd3-aace-5c51a32f2d91"
      },
      "source": [
        "#HobbyHour\n",
        "pyplot.hist(LoveData.HobbyHour)\n",
        "pyplot.xlabel(\"Time Spent on Hobbies\")\n",
        "pyplot.ylabel(\"Frequency\")\n",
        "pyplot.show()"
      ],
      "execution_count": null,
      "outputs": [
        {
          "output_type": "display_data",
          "data": {
            "image/png": "[encoded data removed]",
            "text/plain": [
              "<Figure size 432x288 with 1 Axes>"
            ]
          },
          "metadata": {
            "tags": [],
            "needs_background": "light"
          }
        }
      ]
    },
    {
      "cell_type": "code",
      "metadata": {
        "colab": {
          "base_uri": "https://localhost:8080/",
          "height": 279
        },
        "id": "i3Xgc6wbSCAQ",
        "outputId": "cdc64bb8-4110-4cef-ecb9-868b8b483dfe"
      },
      "source": [
        "#SleepHour\n",
        "pyplot.hist(LoveData.SleepHour)\n",
        "pyplot.xlabel(\"Average Sleep Hours\")\n",
        "pyplot.ylabel(\"Frequency\")\n",
        "pyplot.show()"
      ],
      "execution_count": null,
      "outputs": [
        {
          "output_type": "display_data",
          "data": {
            "image/png": "[encoded data removed]",
            "text/plain": [
              "<Figure size 432x288 with 1 Axes>"
            ]
          },
          "metadata": {
            "tags": [],
            "needs_background": "light"
          }
        }
      ]
    },
    {
      "cell_type": "code",
      "metadata": {
        "colab": {
          "base_uri": "https://localhost:8080/",
          "height": 279
        },
        "id": "t8V3xi2HSCH_",
        "outputId": "66c4cb6b-5171-4dc2-d603-49a090eade7e"
      },
      "source": [
        "#Gender\n",
        "pyplot.hist(LoveData.Gender_Num)\n",
        "pyplot.xlabel(\"Gender\")\n",
        "pyplot.ylabel(\"Frequency\")\n",
        "pyplot.show()"
      ],
      "execution_count": null,
      "outputs": [
        {
          "output_type": "display_data",
          "data": {
            "image/png": "[encoded data removed]",
            "text/plain": [
              "<Figure size 432x288 with 1 Axes>"
            ]
          },
          "metadata": {
            "tags": [],
            "needs_background": "light"
          }
        }
      ]
    },
    {
      "cell_type": "code",
      "metadata": {
        "colab": {
          "base_uri": "https://localhost:8080/",
          "height": 279
        },
        "id": "HRHZYgGLR3Fh",
        "outputId": "1c8be50d-b927-48bc-8117-f38d4d5bd4ae"
      },
      "source": [
        "#AcademicLevel\n",
        "pyplot.hist(LoveData.Academic_Num)\n",
        "pyplot.xlabel(\"Academic Types\")\n",
        "pyplot.ylabel(\"Frequency\")\n",
        "pyplot.show()"
      ],
      "execution_count": null,
      "outputs": [
        {
          "output_type": "display_data",
          "data": {
            "image/png": "[encoded data removed]",
            "text/plain": [
              "<Figure size 432x288 with 1 Axes>"
            ]
          },
          "metadata": {
            "tags": [],
            "needs_background": "light"
          }
        }
      ]
    },
    {
      "cell_type": "markdown",
      "metadata": {
        "id": "JmwrKqHeWXdl"
      },
      "source": [
        "# **Training and Test Data**"
      ]
    },
    {
      "cell_type": "code",
      "metadata": {
        "colab": {
          "base_uri": "https://localhost:8080/",
          "height": 504
        },
        "id": "vRBoXH-sWbwZ",
        "outputId": "4b614b08-1906-4315-98d6-908b8ef145af"
      },
      "source": [
        "X = LoveData.drop(\"AvgInteract\", 1)\n",
        "y = LoveData[\"AvgInteract\"]\n",
        "\n",
        "#splitting the data\n",
        "x_train, x_test, y_train, y_test = train_test_split(X,y,test_size = 0.2) #test size is 20% of the dataset\n",
        "\n",
        "#printing the shapes of testing and training dataset\n",
        "print(\"shape of original dataset :\", LoveData.shape)\n",
        "print(\"shape of input - training set\", x_train.shape)\n",
        "print(\"shape of output - training set\", y_train.shape)\n",
        "print(\"shape of input - testing set\", x_test.shape)\n",
        "print(\"shape of output - testing set\", y_test.shape)\n",
        "\n",
        "x_test\n"
      ],
      "execution_count": null,
      "outputs": [
        {
          "output_type": "stream",
          "text": [
            "shape of original dataset : (9773, 8)\n",
            "shape of input - training set (7818, 7)\n",
            "shape of output - training set (7818,)\n",
            "shape of input - testing set (1955, 7)\n",
            "shape of output - testing set (1955,)\n"
          ],
          "name": "stdout"
        },
        {
          "output_type": "execute_result",
          "data": {
            "text/html": [
              "<div>\n",
              "<style scoped>\n",
              "    .dataframe tbody tr th:only-of-type {\n",
              "        vertical-align: middle;\n",
              "    }\n",
              "\n",
              "    .dataframe tbody tr th {\n",
              "        vertical-align: top;\n",
              "    }\n",
              "\n",
              "    .dataframe thead th {\n",
              "        text-align: right;\n",
              "    }\n",
              "</style>\n",
              "<table border=\"1\" class=\"dataframe\">\n",
              "  <thead>\n",
              "    <tr style=\"text-align: right;\">\n",
              "      <th></th>\n",
              "      <th>Age</th>\n",
              "      <th>StdyHour</th>\n",
              "      <th>BffTime</th>\n",
              "      <th>HobbyHour</th>\n",
              "      <th>SleepHour</th>\n",
              "      <th>Gender_Num</th>\n",
              "      <th>Academic_Num</th>\n",
              "    </tr>\n",
              "  </thead>\n",
              "  <tbody>\n",
              "    <tr>\n",
              "      <th>3777</th>\n",
              "      <td>19</td>\n",
              "      <td>9</td>\n",
              "      <td>5</td>\n",
              "      <td>3</td>\n",
              "      <td>5</td>\n",
              "      <td>1</td>\n",
              "      <td>1</td>\n",
              "    </tr>\n",
              "    <tr>\n",
              "      <th>8551</th>\n",
              "      <td>22</td>\n",
              "      <td>5</td>\n",
              "      <td>5</td>\n",
              "      <td>7</td>\n",
              "      <td>4</td>\n",
              "      <td>1</td>\n",
              "      <td>1</td>\n",
              "    </tr>\n",
              "    <tr>\n",
              "      <th>6652</th>\n",
              "      <td>25</td>\n",
              "      <td>10</td>\n",
              "      <td>6</td>\n",
              "      <td>8</td>\n",
              "      <td>6</td>\n",
              "      <td>0</td>\n",
              "      <td>1</td>\n",
              "    </tr>\n",
              "    <tr>\n",
              "      <th>5280</th>\n",
              "      <td>25</td>\n",
              "      <td>9</td>\n",
              "      <td>5</td>\n",
              "      <td>5</td>\n",
              "      <td>5</td>\n",
              "      <td>1</td>\n",
              "      <td>1</td>\n",
              "    </tr>\n",
              "    <tr>\n",
              "      <th>7157</th>\n",
              "      <td>17</td>\n",
              "      <td>7</td>\n",
              "      <td>7</td>\n",
              "      <td>8</td>\n",
              "      <td>7</td>\n",
              "      <td>1</td>\n",
              "      <td>1</td>\n",
              "    </tr>\n",
              "    <tr>\n",
              "      <th>...</th>\n",
              "      <td>...</td>\n",
              "      <td>...</td>\n",
              "      <td>...</td>\n",
              "      <td>...</td>\n",
              "      <td>...</td>\n",
              "      <td>...</td>\n",
              "      <td>...</td>\n",
              "    </tr>\n",
              "    <tr>\n",
              "      <th>5413</th>\n",
              "      <td>29</td>\n",
              "      <td>14</td>\n",
              "      <td>6</td>\n",
              "      <td>5</td>\n",
              "      <td>6</td>\n",
              "      <td>1</td>\n",
              "      <td>1</td>\n",
              "    </tr>\n",
              "    <tr>\n",
              "      <th>90</th>\n",
              "      <td>17</td>\n",
              "      <td>12</td>\n",
              "      <td>7</td>\n",
              "      <td>6</td>\n",
              "      <td>4</td>\n",
              "      <td>1</td>\n",
              "      <td>1</td>\n",
              "    </tr>\n",
              "    <tr>\n",
              "      <th>8019</th>\n",
              "      <td>28</td>\n",
              "      <td>13</td>\n",
              "      <td>5</td>\n",
              "      <td>4</td>\n",
              "      <td>7</td>\n",
              "      <td>0</td>\n",
              "      <td>1</td>\n",
              "    </tr>\n",
              "    <tr>\n",
              "      <th>9756</th>\n",
              "      <td>22</td>\n",
              "      <td>4</td>\n",
              "      <td>6</td>\n",
              "      <td>8</td>\n",
              "      <td>7</td>\n",
              "      <td>1</td>\n",
              "      <td>1</td>\n",
              "    </tr>\n",
              "    <tr>\n",
              "      <th>8604</th>\n",
              "      <td>20</td>\n",
              "      <td>4</td>\n",
              "      <td>5</td>\n",
              "      <td>7</td>\n",
              "      <td>5</td>\n",
              "      <td>1</td>\n",
              "      <td>1</td>\n",
              "    </tr>\n",
              "  </tbody>\n",
              "</table>\n",
              "<p>1955 rows × 7 columns</p>\n",
              "</div>"
            ],
            "text/plain": [
              "      Age  StdyHour  BffTime  HobbyHour  SleepHour  Gender_Num  Academic_Num\n",
              "3777   19         9        5          3          5           1             1\n",
              "8551   22         5        5          7          4           1             1\n",
              "6652   25        10        6          8          6           0             1\n",
              "5280   25         9        5          5          5           1             1\n",
              "7157   17         7        7          8          7           1             1\n",
              "...   ...       ...      ...        ...        ...         ...           ...\n",
              "5413   29        14        6          5          6           1             1\n",
              "90     17        12        7          6          4           1             1\n",
              "8019   28        13        5          4          7           0             1\n",
              "9756   22         4        6          8          7           1             1\n",
              "8604   20         4        5          7          5           1             1\n",
              "\n",
              "[1955 rows x 7 columns]"
            ]
          },
          "metadata": {
            "tags": []
          },
          "execution_count": 78
        }
      ]
    },
    {
      "cell_type": "markdown",
      "metadata": {
        "id": "RTmF2hukblYy"
      },
      "source": [
        "# **Selecting Feature and Testing Model**"
      ]
    },
    {
      "cell_type": "markdown",
      "metadata": {
        "id": "3TAG35N5k0XH"
      },
      "source": [
        "## **Linear Regression Feature Importance**"
      ]
    },
    {
      "cell_type": "code",
      "metadata": {
        "colab": {
          "base_uri": "https://localhost:8080/"
        },
        "id": "JrKtwwtplN99",
        "outputId": "29fdb5d9-e1f8-4dee-f9fc-c7584f708e67"
      },
      "source": [
        "#define the model\n",
        "model = LinearRegression()\n",
        "#fit the model\n",
        "model.fit(x_train,y_train)\n",
        "#get importance\n",
        "importance = model.coef_\n",
        "#summarize feature importance\n",
        "for i,v in enumerate(importance):\n",
        "  print('Feature : %0d, Score: %.5f' % (i,v))"
      ],
      "execution_count": null,
      "outputs": [
        {
          "output_type": "stream",
          "text": [
            "Feature : 0, Score: -0.00147\n",
            "Feature : 1, Score: -0.00184\n",
            "Feature : 2, Score: 0.06946\n",
            "Feature : 3, Score: -0.03538\n",
            "Feature : 4, Score: -0.02102\n",
            "Feature : 5, Score: -0.00338\n",
            "Feature : 6, Score: 0.00000\n"
          ],
          "name": "stdout"
        }
      ]
    },
    {
      "cell_type": "code",
      "metadata": {
        "colab": {
          "base_uri": "https://localhost:8080/",
          "height": 265
        },
        "id": "fnlpvt0ilVpo",
        "outputId": "79739810-3192-4453-e012-e929694f9152"
      },
      "source": [
        "#plotting the feature importance\n",
        "pyplot.bar([x for x in range(len(importance))], importance)\n",
        "pyplot.show()"
      ],
      "execution_count": null,
      "outputs": [
        {
          "output_type": "display_data",
          "data": {
            "image/png": "[encoded data removed]",
            "text/plain": [
              "<Figure size 432x288 with 1 Axes>"
            ]
          },
          "metadata": {
            "tags": [],
            "needs_background": "light"
          }
        }
      ]
    },
    {
      "cell_type": "markdown",
      "metadata": {
        "id": "kIgPVRtO4aC2"
      },
      "source": [
        "## **CART Regression Feature Importance**"
      ]
    },
    {
      "cell_type": "code",
      "metadata": {
        "colab": {
          "base_uri": "https://localhost:8080/"
        },
        "id": "ho3MrEKs1jUw",
        "outputId": "8da8a829-00ae-4f9b-f556-0cc29d662afb"
      },
      "source": [
        "#define the model\n",
        "model = DecisionTreeRegressor()\n",
        "#fit the model\n",
        "model.fit(x_train,y_train)\n",
        "#get importance\n",
        "importance = model.feature_importances_\n",
        "#summarize feature importance\n",
        "for i,v in enumerate(importance):\n",
        "  print('Feature : %0d, Score: %.5f' % (i,v))"
      ],
      "execution_count": null,
      "outputs": [
        {
          "output_type": "stream",
          "text": [
            "Feature : 0, Score: 0.17665\n",
            "Feature : 1, Score: 0.22146\n",
            "Feature : 2, Score: 0.14983\n",
            "Feature : 3, Score: 0.16781\n",
            "Feature : 4, Score: 0.22320\n",
            "Feature : 5, Score: 0.06105\n",
            "Feature : 6, Score: 0.00000\n"
          ],
          "name": "stdout"
        }
      ]
    },
    {
      "cell_type": "code",
      "metadata": {
        "colab": {
          "base_uri": "https://localhost:8080/",
          "height": 265
        },
        "id": "FD5wLlKD4vM1",
        "outputId": "ac3eed7b-7ad3-4da6-cb5f-61b4612292fa"
      },
      "source": [
        "#plotting the feature importance\n",
        "pyplot.bar([x for x in range(len(importance))], importance)\n",
        "pyplot.show()"
      ],
      "execution_count": null,
      "outputs": [
        {
          "output_type": "display_data",
          "data": {
            "image/png": "[encoded data removed]",
            "text/plain": [
              "<Figure size 432x288 with 1 Axes>"
            ]
          },
          "metadata": {
            "tags": [],
            "needs_background": "light"
          }
        }
      ]
    },
    {
      "cell_type": "markdown",
      "metadata": {
        "id": "5q5d9xGv49jr"
      },
      "source": [
        "## **Random Forest Regression Feature Importance**"
      ]
    },
    {
      "cell_type": "code",
      "metadata": {
        "colab": {
          "base_uri": "https://localhost:8080/"
        },
        "id": "Ztd2ks4n43PT",
        "outputId": "5280256f-4f1f-4bac-c598-1b61a1dff9bc"
      },
      "source": [
        "#Finding MAE value\n",
        "#define the model\n",
        "model = RandomForestRegressor()\n",
        "#fit the model\n",
        "model.fit(x_train,y_train)\n",
        "#get importance\n",
        "importance = model.feature_importances_\n",
        "#summarize feature importance\n",
        "for i,v in enumerate(importance):\n",
        "  print('Feature : %0d, Score: %.5f' % (i,v))"
      ],
      "execution_count": null,
      "outputs": [
        {
          "output_type": "stream",
          "text": [
            "Feature : 0, Score: 0.22603\n",
            "Feature : 1, Score: 0.21986\n",
            "Feature : 2, Score: 0.12702\n",
            "Feature : 3, Score: 0.17915\n",
            "Feature : 4, Score: 0.18787\n",
            "Feature : 5, Score: 0.06007\n",
            "Feature : 6, Score: 0.00000\n"
          ],
          "name": "stdout"
        }
      ]
    },
    {
      "cell_type": "code",
      "metadata": {
        "colab": {
          "base_uri": "https://localhost:8080/",
          "height": 265
        },
        "id": "pT23RMlSGRT5",
        "outputId": "c63f333a-b06d-4fec-c13d-6f1f40bb480a"
      },
      "source": [
        "# plot feature importance\n",
        "pyplot.bar([x for x in range(len(importance))], importance)\n",
        "pyplot.show()"
      ],
      "execution_count": null,
      "outputs": [
        {
          "output_type": "display_data",
          "data": {
            "image/png": "[encoded data removed]",
            "text/plain": [
              "<Figure size 432x288 with 1 Axes>"
            ]
          },
          "metadata": {
            "tags": [],
            "needs_background": "light"
          }
        }
      ]
    },
    {
      "cell_type": "markdown",
      "metadata": {
        "id": "dk4HRsne36YI"
      },
      "source": [
        "## **XGBoost Regression Feature Importance**"
      ]
    },
    {
      "cell_type": "code",
      "metadata": {
        "colab": {
          "base_uri": "https://localhost:8080/"
        },
        "id": "Nxq073CgGU4u",
        "outputId": "765f69d9-716b-400c-b17a-338fd7045758"
      },
      "source": [
        "#define the model\n",
        "model = XGBRegressor()\n",
        "#fit the model\n",
        "model.fit(x_train,y_train)\n",
        "#get importance\n",
        "importance = model.feature_importances_\n",
        "#summarize feature importance\n",
        "for i,v in enumerate(importance):\n",
        "  print('Feature : %0d, Score: %.5f' % (i,v))"
      ],
      "execution_count": null,
      "outputs": [
        {
          "output_type": "stream",
          "text": [
            "[15:10:18] WARNING: /workspace/src/objective/regression_obj.cu:152: reg:linear is now deprecated in favor of reg:squarederror.\n",
            "Feature : 0, Score: 0.17766\n",
            "Feature : 1, Score: 0.14930\n",
            "Feature : 2, Score: 0.09699\n",
            "Feature : 3, Score: 0.16131\n",
            "Feature : 4, Score: 0.19662\n",
            "Feature : 5, Score: 0.21812\n",
            "Feature : 6, Score: 0.00000\n"
          ],
          "name": "stdout"
        }
      ]
    },
    {
      "cell_type": "code",
      "metadata": {
        "colab": {
          "base_uri": "https://localhost:8080/",
          "height": 265
        },
        "id": "lzEme1Ww4G3y",
        "outputId": "d6f98496-cfac-46e2-cd77-1314ca9d0726"
      },
      "source": [
        "# plot feature importance\n",
        "pyplot.bar([x for x in range(len(importance))], importance)\n",
        "pyplot.show()"
      ],
      "execution_count": null,
      "outputs": [
        {
          "output_type": "display_data",
          "data": {
            "image/png": "[encoded data removed]",
            "text/plain": [
              "<Figure size 432x288 with 1 Axes>"
            ]
          },
          "metadata": {
            "tags": [],
            "needs_background": "light"
          }
        }
      ]
    },
    {
      "cell_type": "markdown",
      "metadata": {
        "id": "B6BfCo3pF1ng"
      },
      "source": [
        "## **Permutation Feature Importance**"
      ]
    },
    {
      "cell_type": "code",
      "metadata": {
        "colab": {
          "base_uri": "https://localhost:8080/"
        },
        "id": "f8YBYRcQF4VG",
        "outputId": "5321d910-fe93-407b-f8a5-7a916f444485"
      },
      "source": [
        "#define the model\n",
        "model = KNeighborsRegressor()\n",
        "#fit the model\n",
        "model.fit(x_train,y_train)\n",
        "# perform permutation importance\n",
        "results = permutation_importance(model, x_train,y_train, scoring='neg_mean_squared_error')\n",
        "#get importance\n",
        "importance = results.importances_mean\n",
        "#summarize feature importance\n",
        "for i,v in enumerate(importance):\n",
        "  print('Feature : %0d, Score: %.5f' % (i,v))"
      ],
      "execution_count": null,
      "outputs": [
        {
          "output_type": "stream",
          "text": [
            "Feature : 0, Score: 32.95097\n",
            "Feature : 1, Score: 27.19657\n",
            "Feature : 2, Score: 10.73634\n",
            "Feature : 3, Score: 22.52495\n",
            "Feature : 4, Score: 23.26447\n",
            "Feature : 5, Score: 0.37237\n",
            "Feature : 6, Score: 0.00000\n"
          ],
          "name": "stdout"
        }
      ]
    },
    {
      "cell_type": "code",
      "metadata": {
        "colab": {
          "base_uri": "https://localhost:8080/",
          "height": 265
        },
        "id": "pw3cYi-IGiI5",
        "outputId": "2c702108-296a-46ba-892c-f03a87ff1ab7"
      },
      "source": [
        "# plot feature importance\n",
        "pyplot.bar([x for x in range(len(importance))], importance)\n",
        "pyplot.show()"
      ],
      "execution_count": null,
      "outputs": [
        {
          "output_type": "display_data",
          "data": {
            "image/png": "[encoded data removed]",
            "text/plain": [
              "<Figure size 432x288 with 1 Axes>"
            ]
          },
          "metadata": {
            "tags": [],
            "needs_background": "light"
          }
        }
      ]
    },
    {
      "cell_type": "markdown",
      "metadata": {
        "id": "Qk8HUZF4-ycP"
      },
      "source": [
        "# **MAE Values**"
      ]
    },
    {
      "cell_type": "code",
      "metadata": {
        "colab": {
          "base_uri": "https://localhost:8080/"
        },
        "id": "JWT2x0lnld1m",
        "outputId": "7f7b8d11-f5cf-425a-f330-29239eec4172"
      },
      "source": [
        "#LinearRegression\n",
        "X = x_train.drop(\"Academic_Num\",1)\n",
        "X = X.drop(\"Age\", 1)\n",
        "y = y_train\n",
        "\n",
        "model = LinearRegression()\n",
        "model.fit(X,y)\n",
        "#Finding MAE value\n",
        "# define the evaluation procedure\n",
        "cv = RepeatedKFold(n_splits=10, n_repeats=3, random_state=1)\n",
        "# evaluate the model and collect results\n",
        "n_scores = cross_val_score(model, X, y, scoring='neg_mean_absolute_error', cv=cv, n_jobs=-1)\n",
        "# report performance\n",
        "print('MAE: %.3f (%.3f)' % (mean(n_scores), std(n_scores)))"
      ],
      "execution_count": null,
      "outputs": [
        {
          "output_type": "stream",
          "text": [
            "MAE: -7.871 (0.238)\n"
          ],
          "name": "stdout"
        }
      ]
    },
    {
      "cell_type": "code",
      "metadata": {
        "colab": {
          "base_uri": "https://localhost:8080/"
        },
        "id": "gwYVnguG-5eP",
        "outputId": "0a27e578-2bb9-4cbb-9578-ca9ed24992dd"
      },
      "source": [
        "#CART\n",
        "X = x_train.drop(\"Gender_Num\",1)\n",
        "X = x_train.drop(\"Academic_Num\",1)\n",
        "y = y_train\n",
        "\n",
        "model = DecisionTreeRegressor()\n",
        "model.fit(X,y)\n",
        "#Finding MAE value\n",
        "# define the evaluation procedure\n",
        "cv = RepeatedKFold(n_splits=10, n_repeats=3, random_state=1)\n",
        "# evaluate the model and collect results\n",
        "n_scores = cross_val_score(model, X, y, scoring='neg_mean_absolute_error', cv=cv, n_jobs=-1)\n",
        "# report performance\n",
        "print('MAE: %.3f (%.3f)' % (mean(n_scores), std(n_scores)))"
      ],
      "execution_count": null,
      "outputs": [
        {
          "output_type": "stream",
          "text": [
            "MAE: -11.388 (0.257)\n"
          ],
          "name": "stdout"
        }
      ]
    },
    {
      "cell_type": "code",
      "metadata": {
        "id": "CuqunmbM_3-A",
        "colab": {
          "base_uri": "https://localhost:8080/"
        },
        "outputId": "028f5e75-0db8-409e-fd73-8c11c16f87c0"
      },
      "source": [
        "#Random Forest\n",
        "X = x_train.drop(\"Gender_Num\",1)\n",
        "X = X.drop(\"Academic_Num\",1)\n",
        "y = y_train\n",
        "\n",
        "model = RandomForestRegressor()\n",
        "model.fit(X,y)\n",
        "#Finding MAE value\n",
        "# define the evaluation procedure\n",
        "cv = RepeatedKFold(n_splits=10, n_repeats=3, random_state=1)\n",
        "# evaluate the model and collect results\n",
        "n_scores = cross_val_score(model, X, y, scoring='neg_mean_absolute_error', cv=cv, n_jobs=-1)\n",
        "# report performance\n",
        "print('MAE: %.3f (%.3f)' % (mean(n_scores), std(n_scores)))"
      ],
      "execution_count": null,
      "outputs": [
        {
          "output_type": "stream",
          "text": [
            "MAE: -8.463 (0.220)\n"
          ],
          "name": "stdout"
        }
      ]
    },
    {
      "cell_type": "code",
      "metadata": {
        "id": "rK6GKZ5NAFS5",
        "colab": {
          "base_uri": "https://localhost:8080/"
        },
        "outputId": "7036a81a-4ae0-4ffc-e8de-4b3c622938d8"
      },
      "source": [
        "#XGBoost\n",
        "X = x_train.drop(\"StdyHour\",1)\n",
        "X = X.drop(\"Academic_Num\",1)\n",
        "y = y_train\n",
        "\n",
        "model = XGBRegressor()\n",
        "model.fit(X,y)\n",
        "#Finding MAE value\n",
        "# define the evaluation procedure\n",
        "cv = RepeatedKFold(n_splits=10, n_repeats=3, random_state=1)\n",
        "# evaluate the model and collect results\n",
        "n_scores = cross_val_score(model, X, y, scoring='neg_mean_absolute_error', cv=cv, n_jobs=-1)\n",
        "# report performance\n",
        "print('MAE: %.3f (%.3f)' % (mean(n_scores), std(n_scores)))"
      ],
      "execution_count": null,
      "outputs": [
        {
          "output_type": "stream",
          "text": [
            "[15:11:00] WARNING: /workspace/src/objective/regression_obj.cu:152: reg:linear is now deprecated in favor of reg:squarederror.\n",
            "MAE: -7.882 (0.236)\n"
          ],
          "name": "stdout"
        }
      ]
    },
    {
      "cell_type": "code",
      "metadata": {
        "id": "knsC_uiyAlCt",
        "colab": {
          "base_uri": "https://localhost:8080/"
        },
        "outputId": "04f64d90-0b0a-4605-c937-82f2848cb5a4"
      },
      "source": [
        "#Permutation\n",
        "X = x_train.drop(\"Gender_Num\",1)\n",
        "X = X.drop(\"Academic_Num\",1)\n",
        "y = y_train\n",
        "\n",
        "model = KNeighborsRegressor()\n",
        "model.fit(X,y)\n",
        "#Finding MAE value\n",
        "# define the evaluation procedure\n",
        "cv = RepeatedKFold(n_splits=10, n_repeats=3, random_state=1)\n",
        "# evaluate the model and collect results\n",
        "n_scores = cross_val_score(model, X, y, scoring='neg_mean_absolute_error', cv=cv, n_jobs=-1)\n",
        "# report performance\n",
        "print('MAE: %.3f (%.3f)' % (mean(n_scores), std(n_scores)))"
      ],
      "execution_count": null,
      "outputs": [
        {
          "output_type": "stream",
          "text": [
            "MAE: -8.505 (0.234)\n"
          ],
          "name": "stdout"
        }
      ]
    },
    {
      "cell_type": "markdown",
      "metadata": {
        "id": "gYcweloZkh7y"
      },
      "source": [
        "# **Fitting The Random Forest Regression Model**"
      ]
    },
    {
      "cell_type": "code",
      "metadata": {
        "id": "XKClShD6Xx0W",
        "colab": {
          "base_uri": "https://localhost:8080/"
        },
        "outputId": "75cc3949-5a7c-4eda-d1b2-def9032e7430"
      },
      "source": [
        "#Random Forest Regression\n",
        "X = x_train.drop(\"Gender_Num\",1)\n",
        "X = X.drop(\"Academic_Num\",1)\n",
        "y = y_train\n",
        "\n",
        "#Dropping features in the test dataset\n",
        "X_test = x_test.drop(\"Gender_Num\",1)\n",
        "X_test = X_test.drop(\"Academic_Num\",1)\n",
        "\n",
        "#Fitting Random Forest Regression to the dataset\n",
        "model = RandomForestRegressor()\n",
        "model.fit(X,y)\n",
        "\n",
        "#Predicting the result\n",
        "y_pred = model.predict(X_test)\n",
        "\n",
        "#Comparison dataframe\n",
        "pred_df = pd.DataFrame({'Real Values':y_test, 'Predicted Values':y_pred.reshape(-1)})\n",
        "#calculate accuracy\n",
        "errors = abs(y_pred - y_test)\n",
        "# Calculate mean absolute percentage error (MAPE)\n",
        "mape = metrics.mean_absolute_error(y_test, y_pred)\n",
        "# Calculate and display accuracy\n",
        "accuracy = 100 - mape    \n",
        "#print result\n",
        "print('Initial model achieves on the test set an accuracy of', round(accuracy, 2),'%')\n"
      ],
      "execution_count": null,
      "outputs": [
        {
          "output_type": "stream",
          "text": [
            "Initial model achieves on the test set an accuracy of 91.25 %\n"
          ],
          "name": "stdout"
        }
      ]
    },
    {
      "cell_type": "markdown",
      "metadata": {
        "id": "1Te7qidoYBHB"
      },
      "source": [
        "### **Fine Tuning the Random Forest Model**\n"
      ]
    },
    {
      "cell_type": "markdown",
      "metadata": {
        "id": "mRRCc-_OYR3K"
      },
      "source": [
        "Grid Search "
      ]
    },
    {
      "cell_type": "code",
      "metadata": {
        "colab": {
          "base_uri": "https://localhost:8080/"
        },
        "id": "tj85_VDmO4U3",
        "outputId": "6c3f0ad7-5c10-4ee8-b1ff-2088373e73b6"
      },
      "source": [
        "from sklearn.model_selection import GridSearchCV\n",
        "\n",
        "param_grid = [\n",
        "{'n_estimators': [10, 25],\n",
        " 'max_depth': [10, 50, None], 'bootstrap': [True, False]}\n",
        "]\n",
        "\n",
        "grid_search_forest = GridSearchCV(RandomForestRegressor(), param_grid, cv=10, scoring='neg_mean_squared_error')\n",
        "grid_search_forest.fit(X,y)\n",
        "\n",
        "\n",
        "cvres = grid_search_forest.cv_results_\n",
        "for mean_score, params in zip(cvres[\"mean_test_score\"], cvres[\"params\"]):\n",
        "    print(np.sqrt(-mean_score), params)\n"
      ],
      "execution_count": null,
      "outputs": [
        {
          "output_type": "stream",
          "text": [
            "9.850213435880478 {'bootstrap': True, 'max_depth': 10, 'n_estimators': 10}\n",
            "9.79574583589601 {'bootstrap': True, 'max_depth': 10, 'n_estimators': 25}\n",
            "10.901858103120587 {'bootstrap': True, 'max_depth': 50, 'n_estimators': 10}\n",
            "10.659279537430859 {'bootstrap': True, 'max_depth': 50, 'n_estimators': 25}\n",
            "10.85011401481468 {'bootstrap': True, 'max_depth': None, 'n_estimators': 10}\n",
            "10.642320514342074 {'bootstrap': True, 'max_depth': None, 'n_estimators': 25}\n",
            "9.996807658093251 {'bootstrap': False, 'max_depth': 10, 'n_estimators': 10}\n",
            "9.993582977077386 {'bootstrap': False, 'max_depth': 10, 'n_estimators': 25}\n",
            "13.692702230122926 {'bootstrap': False, 'max_depth': 50, 'n_estimators': 10}\n",
            "13.657997926030596 {'bootstrap': False, 'max_depth': 50, 'n_estimators': 25}\n",
            "13.674046505768482 {'bootstrap': False, 'max_depth': None, 'n_estimators': 10}\n",
            "13.655094795920398 {'bootstrap': False, 'max_depth': None, 'n_estimators': 25}\n"
          ],
          "name": "stdout"
        }
      ]
    },
    {
      "cell_type": "code",
      "metadata": {
        "colab": {
          "base_uri": "https://localhost:8080/"
        },
        "id": "Ksi1s3b_Pdjo",
        "outputId": "95a597ec-b601-47b2-e61a-e0591aae9d49"
      },
      "source": [
        "#find the best model of grid search\n",
        "grid_search_forest.best_estimator_"
      ],
      "execution_count": null,
      "outputs": [
        {
          "output_type": "execute_result",
          "data": {
            "text/plain": [
              "RandomForestRegressor(bootstrap=True, ccp_alpha=0.0, criterion='mse',\n",
              "                      max_depth=10, max_features='auto', max_leaf_nodes=None,\n",
              "                      max_samples=None, min_impurity_decrease=0.0,\n",
              "                      min_impurity_split=None, min_samples_leaf=1,\n",
              "                      min_samples_split=2, min_weight_fraction_leaf=0.0,\n",
              "                      n_estimators=25, n_jobs=None, oob_score=False,\n",
              "                      random_state=None, verbose=0, warm_start=False)"
            ]
          },
          "metadata": {
            "tags": []
          },
          "execution_count": 96
        }
      ]
    },
    {
      "cell_type": "code",
      "metadata": {
        "colab": {
          "base_uri": "https://localhost:8080/"
        },
        "id": "KyyLhDF9PknZ",
        "outputId": "75a1c593-0cdb-469d-ef78-6c4cdb543d78"
      },
      "source": [
        "# Performance metrics\n",
        "grid_best= grid_search_forest.best_estimator_.predict(X)\n",
        "errors = abs(grid_best - y)\n",
        "# Calculate mean absolute percentage error (MAPE)\n",
        "mape = metrics.mean_absolute_error(y, grid_best)\n",
        "# Calculate and display accuracy\n",
        "accuracy = 100 - mape    \n",
        "#accuracy\n",
        "#print result\n",
        "print('The best model from grid-search has an accuracy of', round(accuracy, 2),'%')"
      ],
      "execution_count": null,
      "outputs": [
        {
          "output_type": "stream",
          "text": [
            "The best model from grid-search has an accuracy of 92.68 %\n"
          ],
          "name": "stdout"
        }
      ]
    },
    {
      "cell_type": "markdown",
      "metadata": {
        "id": "MfKH5J8DGQ-K"
      },
      "source": [
        "# **Evaluating The Model On The Test Set**"
      ]
    },
    {
      "cell_type": "code",
      "metadata": {
        "id": "bJvJHVTf-wQe",
        "colab": {
          "base_uri": "https://localhost:8080/"
        },
        "outputId": "eeab6b6e-7d24-4d6c-e8de-2a6a267d41f4"
      },
      "source": [
        "final_model = grid_search_forest.best_estimator_\n",
        "# Predicting test set results\n",
        "final_pred = final_model.predict(X_test)\n",
        "final_mse = mean_squared_error(y_test, final_pred)\n",
        "final_rmse = np.sqrt(final_mse)\n",
        "print('The final RMSE on the test set is', round(final_rmse, 2))"
      ],
      "execution_count": null,
      "outputs": [
        {
          "output_type": "stream",
          "text": [
            "The final RMSE on the test set is 10.02\n"
          ],
          "name": "stdout"
        }
      ]
    },
    {
      "cell_type": "code",
      "metadata": {
        "colab": {
          "base_uri": "https://localhost:8080/"
        },
        "id": "tA-ogDK7G_1h",
        "outputId": "77f90fa6-366f-4b35-f944-4133ab8107bc"
      },
      "source": [
        "#calculate accuracy\n",
        "errors = abs(final_pred - y_test)\n",
        "# Calculate mean absolute percentage error (MAPE)\n",
        "mape = metrics.mean_absolute_error(y_test, final_pred)\n",
        "# Calculate and display accuracy\n",
        "accuracy = 100 - mape    \n",
        "#print result\n",
        "print('The best model achieves on the test set an accuracy of', round(accuracy, 2),'%')"
      ],
      "execution_count": null,
      "outputs": [
        {
          "output_type": "stream",
          "text": [
            "The best model achieves on the test set an accuracy of 91.91 %\n"
          ],
          "name": "stdout"
        }
      ]
    },
    {
      "cell_type": "markdown",
      "metadata": {
        "id": "NKj9OgY2ugzz"
      },
      "source": [
        "# **Visualization of Random Forest Hyperparameters**\n",
        "\n",
        "---\n",
        "## Getting the accuracy\n"
      ]
    },
    {
      "cell_type": "code",
      "metadata": {
        "colab": {
          "base_uri": "https://localhost:8080/",
          "height": 296
        },
        "id": "LXfSEWNnuovG",
        "outputId": "bc4b4221-9a89-466c-e579-a91d438e1df8"
      },
      "source": [
        "max_depths = np.linspace(1, 50, 50, endpoint=True)\n",
        "\n",
        "train_results = []\n",
        "test_results = []\n",
        "\n",
        "for i in max_depths:\n",
        "    dt = RandomForestRegressor(max_depth=i)\n",
        "    dt.fit(X, y)    \n",
        "    #compute accuracy for train data\n",
        "    housing_tree = dt.predict(X)\n",
        "    errors = abs(housing_tree - y)\n",
        "    # Calculate mean absolute percentage error (MAPE)\n",
        "    mape = metrics.mean_absolute_error(y, housing_tree)\n",
        "    # Calculate and display accuracy\n",
        "    accuracy = 100 - np.mean(mape)\n",
        "    #append results of accuracy\n",
        "    train_results.append(accuracy)\n",
        "    \n",
        "    #now again for test data\n",
        "    housing_tree = dt.predict(X_test)\n",
        "    errors = abs(housing_tree - y_test)\n",
        "    # Calculate mean absolute percentage error (MAPE)\n",
        "    mape = metrics.mean_absolute_error(y_test, housing_tree)\n",
        "    # Calculate and display accuracy\n",
        "    accuracy = 100 - np.mean(mape)\n",
        "    #append results of accuracy\n",
        "    test_results.append(accuracy)\n",
        "    \n",
        "from matplotlib.legend_handler import HandlerLine2D\n",
        "line1, = pyplot.plot(max_depths, train_results, 'b', label='Train accuracy')\n",
        "line2, = pyplot.plot(max_depths, test_results, 'r', label= 'Test accuracy')\n",
        "\n",
        "pyplot.legend(handler_map={line1: HandlerLine2D(numpoints=2)})\n",
        "pyplot.ylabel('Accuracy score')\n",
        "pyplot.xlabel('Tree depth')"
      ],
      "execution_count": null,
      "outputs": [
        {
          "output_type": "execute_result",
          "data": {
            "text/plain": [
              "Text(0.5, 0, 'Tree depth')"
            ]
          },
          "metadata": {
            "tags": []
          },
          "execution_count": 119
        },
        {
          "output_type": "display_data",
          "data": {
            "image/png": "[encoded data removed]",
            "text/plain": [
              "<Figure size 432x288 with 1 Axes>"
            ]
          },
          "metadata": {
            "tags": [],
            "needs_background": "light"
          }
        }
      ]
    },
    {
      "cell_type": "code",
      "metadata": {
        "colab": {
          "base_uri": "https://localhost:8080/",
          "height": 419
        },
        "id": "d1kPmvwCLHfc",
        "outputId": "069115ff-b2ff-4e66-de56-a268043386f4"
      },
      "source": [
        "X_test"
      ],
      "execution_count": null,
      "outputs": [
        {
          "output_type": "execute_result",
          "data": {
            "text/html": [
              "<div>\n",
              "<style scoped>\n",
              "    .dataframe tbody tr th:only-of-type {\n",
              "        vertical-align: middle;\n",
              "    }\n",
              "\n",
              "    .dataframe tbody tr th {\n",
              "        vertical-align: top;\n",
              "    }\n",
              "\n",
              "    .dataframe thead th {\n",
              "        text-align: right;\n",
              "    }\n",
              "</style>\n",
              "<table border=\"1\" class=\"dataframe\">\n",
              "  <thead>\n",
              "    <tr style=\"text-align: right;\">\n",
              "      <th></th>\n",
              "      <th>Age</th>\n",
              "      <th>StdyHour</th>\n",
              "      <th>BffTime</th>\n",
              "      <th>HobbyHour</th>\n",
              "      <th>SleepHour</th>\n",
              "    </tr>\n",
              "  </thead>\n",
              "  <tbody>\n",
              "    <tr>\n",
              "      <th>3777</th>\n",
              "      <td>19</td>\n",
              "      <td>9</td>\n",
              "      <td>5</td>\n",
              "      <td>3</td>\n",
              "      <td>5</td>\n",
              "    </tr>\n",
              "    <tr>\n",
              "      <th>8551</th>\n",
              "      <td>22</td>\n",
              "      <td>5</td>\n",
              "      <td>5</td>\n",
              "      <td>7</td>\n",
              "      <td>4</td>\n",
              "    </tr>\n",
              "    <tr>\n",
              "      <th>6652</th>\n",
              "      <td>25</td>\n",
              "      <td>10</td>\n",
              "      <td>6</td>\n",
              "      <td>8</td>\n",
              "      <td>6</td>\n",
              "    </tr>\n",
              "    <tr>\n",
              "      <th>5280</th>\n",
              "      <td>25</td>\n",
              "      <td>9</td>\n",
              "      <td>5</td>\n",
              "      <td>5</td>\n",
              "      <td>5</td>\n",
              "    </tr>\n",
              "    <tr>\n",
              "      <th>7157</th>\n",
              "      <td>17</td>\n",
              "      <td>7</td>\n",
              "      <td>7</td>\n",
              "      <td>8</td>\n",
              "      <td>7</td>\n",
              "    </tr>\n",
              "    <tr>\n",
              "      <th>...</th>\n",
              "      <td>...</td>\n",
              "      <td>...</td>\n",
              "      <td>...</td>\n",
              "      <td>...</td>\n",
              "      <td>...</td>\n",
              "    </tr>\n",
              "    <tr>\n",
              "      <th>5413</th>\n",
              "      <td>29</td>\n",
              "      <td>14</td>\n",
              "      <td>6</td>\n",
              "      <td>5</td>\n",
              "      <td>6</td>\n",
              "    </tr>\n",
              "    <tr>\n",
              "      <th>90</th>\n",
              "      <td>17</td>\n",
              "      <td>12</td>\n",
              "      <td>7</td>\n",
              "      <td>6</td>\n",
              "      <td>4</td>\n",
              "    </tr>\n",
              "    <tr>\n",
              "      <th>8019</th>\n",
              "      <td>28</td>\n",
              "      <td>13</td>\n",
              "      <td>5</td>\n",
              "      <td>4</td>\n",
              "      <td>7</td>\n",
              "    </tr>\n",
              "    <tr>\n",
              "      <th>9756</th>\n",
              "      <td>22</td>\n",
              "      <td>4</td>\n",
              "      <td>6</td>\n",
              "      <td>8</td>\n",
              "      <td>7</td>\n",
              "    </tr>\n",
              "    <tr>\n",
              "      <th>8604</th>\n",
              "      <td>20</td>\n",
              "      <td>4</td>\n",
              "      <td>5</td>\n",
              "      <td>7</td>\n",
              "      <td>5</td>\n",
              "    </tr>\n",
              "  </tbody>\n",
              "</table>\n",
              "<p>1955 rows × 5 columns</p>\n",
              "</div>"
            ],
            "text/plain": [
              "      Age  StdyHour  BffTime  HobbyHour  SleepHour\n",
              "3777   19         9        5          3          5\n",
              "8551   22         5        5          7          4\n",
              "6652   25        10        6          8          6\n",
              "5280   25         9        5          5          5\n",
              "7157   17         7        7          8          7\n",
              "...   ...       ...      ...        ...        ...\n",
              "5413   29        14        6          5          6\n",
              "90     17        12        7          6          4\n",
              "8019   28        13        5          4          7\n",
              "9756   22         4        6          8          7\n",
              "8604   20         4        5          7          5\n",
              "\n",
              "[1955 rows x 5 columns]"
            ]
          },
          "metadata": {
            "tags": []
          },
          "execution_count": 120
        }
      ]
    },
    {
      "cell_type": "markdown",
      "metadata": {
        "id": "GKbCFbf9OxiP"
      },
      "source": [
        "# **Testing A Specific Data**"
      ]
    },
    {
      "cell_type": "code",
      "metadata": {
        "id": "ZXWQCO3yyvag",
        "colab": {
          "base_uri": "https://localhost:8080/"
        },
        "outputId": "b009a740-0f43-4271-dd64-6a0b6471c4ac"
      },
      "source": [
        "#Testing a specific data\n",
        "#20, 4, 2, 0, 6\n",
        "\n",
        "test_test = { 'Age' : [20],'StdyHour' : [4], 'BffTime' : [2], 'HobbyHour' : [0] , 'SleepHour' : [6]}\n",
        "test_DF = pd.DataFrame(test_test, columns = ['Age', 'StdyHour', 'BffTime', 'HobbyHour', 'SleepHour'])\n",
        "test_pred = final_model.predict(test_DF)\n",
        "test_pred/4\n"
      ],
      "execution_count": null,
      "outputs": [
        {
          "output_type": "execute_result",
          "data": {
            "text/plain": [
              "array([7.46280513])"
            ]
          },
          "metadata": {
            "tags": []
          },
          "execution_count": 121
        }
      ]
    },
    {
      "cell_type": "markdown",
      "metadata": {
        "id": "ODDsONvaX_PX"
      },
      "source": [
        "# **Fitting The Linear Regression Model**"
      ]
    },
    {
      "cell_type": "code",
      "metadata": {
        "id": "2510qsiFM9Ni",
        "colab": {
          "base_uri": "https://localhost:8080/"
        },
        "outputId": "1bbd9ad0-8247-4794-f1ff-61dc2e60d941"
      },
      "source": [
        "#GUNA CARA RANDOM FOREST\n",
        "\n",
        "#Linear Regression\n",
        "X = x_train.drop(\"Age\",1)\n",
        "X = X.drop(\"Academic_Num\",1)\n",
        "y = y_train\n",
        "\n",
        "#Dropping features in the test dataset\n",
        "X_test = x_test.drop(\"Age\",1)\n",
        "X_test = X_test.drop(\"Academic_Num\",1)\n",
        "\n",
        "#Fitting Random Forest Regression to the dataset\n",
        "model = LinearRegression()\n",
        "model.fit(X,y)\n",
        "\n",
        "#Predicting the result\n",
        "y_pred = model.predict(X_test)\n",
        "\n",
        "#Comparison dataframe\n",
        "pred_df = pd.DataFrame({'Real Values':y_test, 'Predicted Values':y_pred.reshape(-1)})\n",
        "#calculate accuracy\n",
        "errors = abs(y_pred - y_test)\n",
        "# Calculate mean absolute percentage error (MAPE)\n",
        "mape = metrics.mean_absolute_error(y_test, y_pred)\n",
        "# Calculate and display accuracy\n",
        "accuracy = 100 - mape    \n",
        "#print result\n",
        "print('Initial model achieves on the test set an accuracy of', round(accuracy, 2),'%')"
      ],
      "execution_count": null,
      "outputs": [
        {
          "output_type": "stream",
          "text": [
            "Initial model achieves on the test set an accuracy of 92.01 %\n"
          ],
          "name": "stdout"
        }
      ]
    },
    {
      "cell_type": "code",
      "metadata": {
        "colab": {
          "base_uri": "https://localhost:8080/"
        },
        "id": "3C6hZyjeYwW3",
        "outputId": "11133ce3-cbba-4995-df87-6a7b9a5e4ebd"
      },
      "source": [
        "#Linear Regression\n",
        "X = x_train.drop(\"Age\",1)\n",
        "X = X.drop(\"Academic_Num\",1)\n",
        "y = y_train\n",
        "m = y.size\n",
        "\n",
        "#Dropping features in the test dataset\n",
        "X_test = x_test.drop(\"Age\",1)\n",
        "X_test = X_test.drop(\"Academic_Num\",1)\n",
        "\n",
        "#Fitting Random Forest Regression to the dataset\n",
        "model = LinearRegression()\n",
        "model.fit(X,y)\n",
        "\n",
        "#Predicting the result\n",
        "y_pred = model.predict(X_test)\n",
        "\n",
        "df = pd.DataFrame({'Actual': y_test, 'Predicted': y_pred})\n",
        "df\n",
        "\n",
        "print(model.score(X, y))"
      ],
      "execution_count": null,
      "outputs": [
        {
          "output_type": "stream",
          "text": [
            "0.00012339377437475818\n"
          ],
          "name": "stdout"
        }
      ]
    },
    {
      "cell_type": "code",
      "metadata": {
        "colab": {
          "base_uri": "https://localhost:8080/"
        },
        "id": "PCwmCwDPeydJ",
        "outputId": "157e02bb-28af-453b-9703-b44de9de618f"
      },
      "source": [
        "print('Mean Absolute Error:', metrics.mean_absolute_error(y_test, y_pred))\n",
        "print('Mean Squared Error:', metrics.mean_squared_error(y_test, y_pred))\n",
        "print('Root Mean Squared Error:', np.sqrt(metrics.mean_squared_error(y_test, y_pred)))"
      ],
      "execution_count": null,
      "outputs": [
        {
          "output_type": "stream",
          "text": [
            "Mean Absolute Error: 7.991535197962798\n",
            "Mean Squared Error: 98.50570405482694\n",
            "Root Mean Squared Error: 9.92500398261013\n"
          ],
          "name": "stdout"
        }
      ]
    },
    {
      "cell_type": "code",
      "metadata": {
        "id": "Zt8QjL21ZS4A"
      },
      "source": [
        "def  featureNormalize(X):\n",
        "    X_norm = X.copy()\n",
        "    mu = np.zeros(X.shape[1])\n",
        "    sigma = np.zeros(X.shape[1])\n",
        "\n",
        "    mu = np.mean(X, axis = 0)\n",
        "    sigma = np.std(X, axis = 0)\n",
        "    X_norm = (X - mu) / sigma\n",
        "\n",
        "    return X_norm, mu, sigma"
      ],
      "execution_count": null,
      "outputs": []
    },
    {
      "cell_type": "code",
      "metadata": {
        "colab": {
          "base_uri": "https://localhost:8080/"
        },
        "id": "VSaOWLdmaZpM",
        "outputId": "178bfa8f-cb95-4966-dbab-908b6540ee5a"
      },
      "source": [
        "X_norm, mu, sigma = featureNormalize(X)\n",
        "\n",
        "print('Computed mean:', mu)\n",
        "print('Computed standard deviation:', sigma)"
      ],
      "execution_count": null,
      "outputs": [
        {
          "output_type": "stream",
          "text": [
            "Computed mean: StdyHour      9.522384\n",
            "BffTime       5.498337\n",
            "HobbyHour     6.515733\n",
            "SleepHour     6.535943\n",
            "Gender_Num    0.506523\n",
            "dtype: float64\n",
            "Computed standard deviation: StdyHour      2.977157\n",
            "BffTime       1.034854\n",
            "HobbyHour     1.931567\n",
            "SleepHour     1.885654\n",
            "Gender_Num    0.499957\n",
            "dtype: float64\n"
          ],
          "name": "stdout"
        }
      ]
    },
    {
      "cell_type": "code",
      "metadata": {
        "id": "l5NfTtGsaeQk"
      },
      "source": [
        "X = np.concatenate([np.ones((m, 1)), X_norm], axis=1)"
      ],
      "execution_count": null,
      "outputs": []
    },
    {
      "cell_type": "code",
      "metadata": {
        "id": "QQMTEXJWalf4"
      },
      "source": [
        "def computeCostMulti(X, y, theta):\n",
        "    # Initialize some useful values\n",
        "    m = y.shape[0] # number of training examples\n",
        "  \n",
        "    J = 0\n",
        "    h = np.dot(X, theta)\n",
        "    J = (1/(2 * m)) * np.sum(np.square(np.dot(X, theta) - y))\n",
        "\n",
        "    return J"
      ],
      "execution_count": null,
      "outputs": []
    },
    {
      "cell_type": "code",
      "metadata": {
        "id": "AM0_6dq6awRu"
      },
      "source": [
        "def gradientDescentMulti(X, y, theta, alpha, num_iters):\n",
        "    # Initialize some useful values\n",
        "    m = y.shape[0] # number of training examples\n",
        "    \n",
        "    # make a copy of theta, which will be updated by gradient descent\n",
        "    theta = theta.copy()\n",
        "\n",
        "    J_history = []\n",
        "    \n",
        "    for i in range(num_iters):\n",
        "        theta = theta - (alpha / m) * (np.dot(X, theta) - y).dot(X)\n",
        "        \n",
        "        # save the cost J in every iteration\n",
        "        J_history.append(computeCostMulti(X, y, theta))\n",
        "    \n",
        "    return theta, J_history"
      ],
      "execution_count": null,
      "outputs": []
    },
    {
      "cell_type": "code",
      "metadata": {
        "colab": {
          "base_uri": "https://localhost:8080/",
          "height": 313
        },
        "id": "D8vmo8IMa2Y3",
        "outputId": "b60e8360-d6fb-42e0-977a-0997046c609b"
      },
      "source": [
        "# Choose some alpha value\n",
        "alpha = 0.015\n",
        "num_iters = 400\n",
        "\n",
        "# init theta and run gradient descent\n",
        "theta = np.zeros(6)\n",
        "theta, J_history = gradientDescentMulti(X, y, theta, alpha, num_iters)\n",
        "\n",
        "# Plot the convergence graph\n",
        "pyplot.plot(np.arange(len(J_history)), J_history, lw=2)\n",
        "pyplot.xlabel('Number of iterations')\n",
        "pyplot.ylabel('Cost J')\n",
        "print('theta computed from gradient descent: {:s}'.format(str(theta)))"
      ],
      "execution_count": null,
      "outputs": [
        {
          "output_type": "stream",
          "text": [
            "theta computed from gradient descent: [ 2.94588378e+01 -5.41010813e-03  7.16428008e-02 -6.83231912e-02\n",
            " -3.96654013e-02 -1.69058295e-03]\n"
          ],
          "name": "stdout"
        },
        {
          "output_type": "display_data",
          "data": {
            "image/png": "[encoded data removed]",
            "text/plain": [
              "<Figure size 432x288 with 1 Axes>"
            ]
          },
          "metadata": {
            "tags": [],
            "needs_background": "light"
          }
        }
      ]
    },
    {
      "cell_type": "code",
      "metadata": {
        "id": "bK2wOASfkqJ_",
        "colab": {
          "base_uri": "https://localhost:8080/"
        },
        "outputId": "20acfe7c-3dc3-45b4-8a69-a539854a1074"
      },
      "source": [
        "X"
      ],
      "execution_count": null,
      "outputs": [
        {
          "output_type": "execute_result",
          "data": {
            "text/plain": [
              "array([[ 1.        , -1.18313668,  0.48476665, -1.30243133,  1.83705856,\n",
              "        -1.01313305],\n",
              "       [ 1.        ,  2.17577195,  0.48476665,  0.76842654, -1.3448609 ,\n",
              "        -1.01313305],\n",
              "       [ 1.        ,  0.16042677,  0.48476665, -1.30243133, -0.28422108,\n",
              "         0.98703719],\n",
              "       ...,\n",
              "       [ 1.        , -2.19080928,  0.48476665,  0.25071207,  0.24609883,\n",
              "        -1.01313305],\n",
              "       [ 1.        ,  0.8322085 ,  1.45108632, -0.78471687, -1.3448609 ,\n",
              "        -1.01313305],\n",
              "       [ 1.        ,  2.17577195, -0.48155301,  1.80385548, -0.81454099,\n",
              "        -1.01313305]])"
            ]
          },
          "metadata": {
            "tags": []
          },
          "execution_count": 156
        }
      ]
    },
    {
      "cell_type": "code",
      "metadata": {
        "id": "ZonKo0_da9b_"
      },
      "source": [
        "# testing specific data\n",
        "#'StudyHours = 5','BffTime = 5','HobbyHour = 2','SleepHours = 9', 'Gender = 1',\n",
        "X_array = [1, 25, 5, 5, 2, 9]\n",
        "X_array[1:6] = (X_array[1:6] - mu) / sigma\n",
        "avgInteract = np.dot(X_array, theta)   # You should change this"
      ],
      "execution_count": null,
      "outputs": []
    },
    {
      "cell_type": "code",
      "metadata": {
        "id": "rpTXmAS1kKAV"
      },
      "source": [
        "print('Predicted Average Interaction if you are StudyHours = 5,BffTime = 5,HobbyHour = 2,SleepHours = 9, Gender = Woman (using normal equations): {:.0f}'.format(avgInteract/4))"
      ],
      "execution_count": null,
      "outputs": []
    }
  ]
}