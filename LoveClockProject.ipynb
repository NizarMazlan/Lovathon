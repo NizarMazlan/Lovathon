{
  "nbformat": 4,
  "nbformat_minor": 0,
  "metadata": {
    "colab": {
      "name": "LoveClockProject.ipynb",
      "provenance": [],
      "collapsed_sections": [],
      "authorship_tag": "ABX9TyPBCtPKp8VLeSWXBE34peG+",
      "include_colab_link": true
    },
    "kernelspec": {
      "name": "python3",
      "display_name": "Python 3"
    },
    "language_info": {
      "name": "python"
    }
  },
  "cells": [
    {
      "cell_type": "markdown",
      "metadata": {
        "id": "view-in-github",
        "colab_type": "text"
      },
      "source": [
        "<a href=\"https://colab.research.google.com/github/NizarMazlan/Lovathon/blob/main/LoveClockProject.ipynb\" target=\"_parent\"><img src=\"https://colab.research.google.com/assets/colab-badge.svg\" alt=\"Open In Colab\"/></a>"
      ]
    },
    {
      "cell_type": "markdown",
      "metadata": {
        "id": "S64lPJBKtNkI"
      },
      "source": [
        "**Selecting Which Feature Is More Significant**"
      ]
    },
    {
      "cell_type": "code",
      "metadata": {
        "id": "LeVqsri-tsIT"
      },
      "source": [
        "#importing libraries\n",
        "import math\n",
        "import pandas as pd\n",
        "import numpy as np\n",
        "from numpy import mean\n",
        "from numpy import std\n",
        "from matplotlib import pyplot\n",
        "from sklearn.model_selection import cross_val_score\n",
        "from sklearn.model_selection import RepeatedKFold\n",
        "from sklearn.model_selection import train_test_split\n",
        "from sklearn.linear_model import LinearRegression\n",
        "from sklearn.tree import DecisionTreeRegressor\n",
        "from sklearn.ensemble import RandomForestRegressor\n",
        "from sklearn.neighbors import KNeighborsRegressor\n",
        "from sklearn.inspection import permutation_importance\n",
        "from sklearn.preprocessing import OneHotEncoder\n",
        "from sklearn.compose import ColumnTransformer\n",
        "from sklearn.metrics import mean_squared_error\n",
        "from sklearn.metrics import mean_absolute_error\n",
        "from sklearn.metrics import r2_score\n",
        "from xgboost import XGBRegressor"
      ],
      "execution_count": 1180,
      "outputs": []
    },
    {
      "cell_type": "markdown",
      "metadata": {
        "id": "T2lSCbymqBVJ"
      },
      "source": [
        "What one-hot encoding does is, it takes a column which has categorical data, which has been label encoded and then splits the column into multiple columns. The numbers are replaced by 1s and 0s, depending on which column has what value."
      ]
    },
    {
      "cell_type": "code",
      "metadata": {
        "colab": {
          "base_uri": "https://localhost:8080/",
          "height": 419
        },
        "id": "vclF_45cuJzj",
        "outputId": "52bb00f1-a174-4d64-b6ba-a4a46eaf74fe"
      },
      "source": [
        "#access data\n",
        "df = pd.read_csv(\"/content/dataset.csv\")\n",
        "\n",
        "#replace the categorical data into numerical\n",
        "def gender_to_numeric(x):\n",
        "  if x=='Male':\n",
        "    return 0\n",
        "  else:\n",
        "    return 1\n",
        "\n",
        "def academic_to_numeric(x):\n",
        "  if x=='SPM' or x=='Foundation/Matriculation/STPM' or x=='Pre-Diploma/Vocational Education/Polytechnic':\n",
        "    return 0\n",
        "  else:\n",
        "    return 1\n",
        "\n",
        "df['Gender_Num'] = df['Gender'].apply(gender_to_numeric)\n",
        "df['Academic_Num'] = df['Gender'].apply(academic_to_numeric)\n",
        "df = df.drop('Gender',1)\n",
        "df = df.drop('AcademicLevel', 1)\n",
        "\n",
        "\n",
        "#refined dataset\n",
        "LoveData = df\n",
        "LoveData\n"
      ],
      "execution_count": 1181,
      "outputs": [
        {
          "output_type": "execute_result",
          "data": {
            "text/html": [
              "<div>\n",
              "<style scoped>\n",
              "    .dataframe tbody tr th:only-of-type {\n",
              "        vertical-align: middle;\n",
              "    }\n",
              "\n",
              "    .dataframe tbody tr th {\n",
              "        vertical-align: top;\n",
              "    }\n",
              "\n",
              "    .dataframe thead th {\n",
              "        text-align: right;\n",
              "    }\n",
              "</style>\n",
              "<table border=\"1\" class=\"dataframe\">\n",
              "  <thead>\n",
              "    <tr style=\"text-align: right;\">\n",
              "      <th></th>\n",
              "      <th>Age</th>\n",
              "      <th>AvgInteract</th>\n",
              "      <th>StdyHour</th>\n",
              "      <th>BffTime</th>\n",
              "      <th>HobbyHour</th>\n",
              "      <th>SleepHour</th>\n",
              "      <th>Gender_Num</th>\n",
              "      <th>Academic_Num</th>\n",
              "    </tr>\n",
              "  </thead>\n",
              "  <tbody>\n",
              "    <tr>\n",
              "      <th>0</th>\n",
              "      <td>20</td>\n",
              "      <td>26.0</td>\n",
              "      <td>1.0</td>\n",
              "      <td>1</td>\n",
              "      <td>8</td>\n",
              "      <td>10</td>\n",
              "      <td>1</td>\n",
              "      <td>1</td>\n",
              "    </tr>\n",
              "    <tr>\n",
              "      <th>1</th>\n",
              "      <td>20</td>\n",
              "      <td>17.0</td>\n",
              "      <td>1.0</td>\n",
              "      <td>2</td>\n",
              "      <td>2</td>\n",
              "      <td>6</td>\n",
              "      <td>0</td>\n",
              "      <td>1</td>\n",
              "    </tr>\n",
              "    <tr>\n",
              "      <th>2</th>\n",
              "      <td>20</td>\n",
              "      <td>29.0</td>\n",
              "      <td>1.0</td>\n",
              "      <td>2</td>\n",
              "      <td>2</td>\n",
              "      <td>6</td>\n",
              "      <td>0</td>\n",
              "      <td>1</td>\n",
              "    </tr>\n",
              "    <tr>\n",
              "      <th>3</th>\n",
              "      <td>20</td>\n",
              "      <td>40.0</td>\n",
              "      <td>1.0</td>\n",
              "      <td>8</td>\n",
              "      <td>4</td>\n",
              "      <td>6</td>\n",
              "      <td>0</td>\n",
              "      <td>1</td>\n",
              "    </tr>\n",
              "    <tr>\n",
              "      <th>4</th>\n",
              "      <td>20</td>\n",
              "      <td>6.0</td>\n",
              "      <td>2.0</td>\n",
              "      <td>7</td>\n",
              "      <td>8</td>\n",
              "      <td>5</td>\n",
              "      <td>1</td>\n",
              "      <td>1</td>\n",
              "    </tr>\n",
              "    <tr>\n",
              "      <th>...</th>\n",
              "      <td>...</td>\n",
              "      <td>...</td>\n",
              "      <td>...</td>\n",
              "      <td>...</td>\n",
              "      <td>...</td>\n",
              "      <td>...</td>\n",
              "      <td>...</td>\n",
              "      <td>...</td>\n",
              "    </tr>\n",
              "    <tr>\n",
              "      <th>163</th>\n",
              "      <td>18</td>\n",
              "      <td>8.0</td>\n",
              "      <td>12.0</td>\n",
              "      <td>5</td>\n",
              "      <td>2</td>\n",
              "      <td>4</td>\n",
              "      <td>1</td>\n",
              "      <td>1</td>\n",
              "    </tr>\n",
              "    <tr>\n",
              "      <th>164</th>\n",
              "      <td>18</td>\n",
              "      <td>11.0</td>\n",
              "      <td>13.0</td>\n",
              "      <td>5</td>\n",
              "      <td>1</td>\n",
              "      <td>6</td>\n",
              "      <td>1</td>\n",
              "      <td>1</td>\n",
              "    </tr>\n",
              "    <tr>\n",
              "      <th>165</th>\n",
              "      <td>18</td>\n",
              "      <td>19.0</td>\n",
              "      <td>13.0</td>\n",
              "      <td>5</td>\n",
              "      <td>2</td>\n",
              "      <td>4</td>\n",
              "      <td>1</td>\n",
              "      <td>1</td>\n",
              "    </tr>\n",
              "    <tr>\n",
              "      <th>166</th>\n",
              "      <td>18</td>\n",
              "      <td>11.0</td>\n",
              "      <td>14.0</td>\n",
              "      <td>5</td>\n",
              "      <td>7</td>\n",
              "      <td>5</td>\n",
              "      <td>1</td>\n",
              "      <td>1</td>\n",
              "    </tr>\n",
              "    <tr>\n",
              "      <th>167</th>\n",
              "      <td>20</td>\n",
              "      <td>10.0</td>\n",
              "      <td>6.0</td>\n",
              "      <td>2</td>\n",
              "      <td>2</td>\n",
              "      <td>6</td>\n",
              "      <td>0</td>\n",
              "      <td>1</td>\n",
              "    </tr>\n",
              "  </tbody>\n",
              "</table>\n",
              "<p>168 rows × 8 columns</p>\n",
              "</div>"
            ],
            "text/plain": [
              "     Age  AvgInteract  StdyHour  ...  SleepHour  Gender_Num  Academic_Num\n",
              "0     20         26.0       1.0  ...         10           1             1\n",
              "1     20         17.0       1.0  ...          6           0             1\n",
              "2     20         29.0       1.0  ...          6           0             1\n",
              "3     20         40.0       1.0  ...          6           0             1\n",
              "4     20          6.0       2.0  ...          5           1             1\n",
              "..   ...          ...       ...  ...        ...         ...           ...\n",
              "163   18          8.0      12.0  ...          4           1             1\n",
              "164   18         11.0      13.0  ...          6           1             1\n",
              "165   18         19.0      13.0  ...          4           1             1\n",
              "166   18         11.0      14.0  ...          5           1             1\n",
              "167   20         10.0       6.0  ...          6           0             1\n",
              "\n",
              "[168 rows x 8 columns]"
            ]
          },
          "metadata": {
            "tags": []
          },
          "execution_count": 1181
        }
      ]
    },
    {
      "cell_type": "markdown",
      "metadata": {
        "id": "4gG_XWMJSQHC"
      },
      "source": [
        "# **Finding Outlier In The Data**"
      ]
    },
    {
      "cell_type": "code",
      "metadata": {
        "colab": {
          "base_uri": "https://localhost:8080/",
          "height": 820
        },
        "id": "v6e03VxyN2aK",
        "outputId": "58d0ac06-7997-4e1b-f7d5-013fcd927ced"
      },
      "source": [
        "#Age\n",
        "pyplot.hist(LoveData.Age)\n",
        "pyplot.xlabel(\"Age\")\n",
        "pyplot.ylabel(\"Frequency\")\n",
        "pyplot.show()\n",
        "pyplot.boxplot(LoveData.Age)\n",
        "pyplot.xlabel(\"Age\")\n",
        "pyplot.show()\n",
        "pyplot.scatter(LoveData.Age, LoveData.AvgInteract)\n",
        "pyplot.xlabel(\"Age\")\n",
        "pyplot.ylabel(\"Average Interaction\")"
      ],
      "execution_count": 1182,
      "outputs": [
        {
          "output_type": "display_data",
          "data": {
            "image/png": "[encoded data removed]",
            "text/plain": [
              "<Figure size 432x288 with 1 Axes>"
            ]
          },
          "metadata": {
            "tags": [],
            "needs_background": "light"
          }
        },
        {
          "output_type": "display_data",
          "data": {
            "image/png": "[encoded data removed]",
            "text/plain": [
              "<Figure size 432x288 with 1 Axes>"
            ]
          },
          "metadata": {
            "tags": [],
            "needs_background": "light"
          }
        },
        {
          "output_type": "execute_result",
          "data": {
            "text/plain": [
              "Text(0, 0.5, 'Average Interaction')"
            ]
          },
          "metadata": {
            "tags": []
          },
          "execution_count": 1182
        },
        {
          "output_type": "display_data",
          "data": {
            "image/png": "[encoded data removed]",
            "text/plain": [
              "<Figure size 432x288 with 1 Axes>"
            ]
          },
          "metadata": {
            "tags": [],
            "needs_background": "light"
          }
        }
      ]
    },
    {
      "cell_type": "markdown",
      "metadata": {
        "id": "oye5H7_8Tdh8"
      },
      "source": [
        "This dataset is skewed and needed to be changed"
      ]
    },
    {
      "cell_type": "code",
      "metadata": {
        "colab": {
          "base_uri": "https://localhost:8080/"
        },
        "id": "x28NeABazHx9",
        "outputId": "a87a7fa3-8851-4492-c04c-1b6204cf57bc"
      },
      "source": [
        "LoveData.Age.describe()"
      ],
      "execution_count": 1183,
      "outputs": [
        {
          "output_type": "execute_result",
          "data": {
            "text/plain": [
              "count    168.000000\n",
              "mean      22.577381\n",
              "std        7.731650\n",
              "min       17.000000\n",
              "25%       20.000000\n",
              "50%       20.000000\n",
              "75%       23.000000\n",
              "max       90.000000\n",
              "Name: Age, dtype: float64"
            ]
          },
          "metadata": {
            "tags": []
          },
          "execution_count": 1183
        }
      ]
    },
    {
      "cell_type": "code",
      "metadata": {
        "colab": {
          "base_uri": "https://localhost:8080/",
          "height": 296
        },
        "id": "hOonxJQkUVvj",
        "outputId": "d77aaac2-cb19-42bd-a834-98d45a199dea"
      },
      "source": [
        "#Testing how to find outliers\n",
        "max_threshold = LoveData['Age'].quantile(0.92) #everything above this is considered as an outlier\n",
        "print(max_threshold)\n",
        "#remove all the outlier in the data\n",
        "LoveData = LoveData[LoveData['Age'] < max_threshold]\n",
        "pyplot.hist(LoveData.Age)\n",
        "pyplot.xlabel(\"Age\")\n",
        "pyplot.ylabel(\"Frequency\")\n",
        "pyplot.show()"
      ],
      "execution_count": 1184,
      "outputs": [
        {
          "output_type": "stream",
          "text": [
            "26.0\n"
          ],
          "name": "stdout"
        },
        {
          "output_type": "display_data",
          "data": {
            "image/png": "[encoded data removed]",
            "text/plain": [
              "<Figure size 432x288 with 1 Axes>"
            ]
          },
          "metadata": {
            "tags": [],
            "needs_background": "light"
          }
        }
      ]
    },
    {
      "cell_type": "code",
      "metadata": {
        "colab": {
          "base_uri": "https://localhost:8080/",
          "height": 280
        },
        "id": "OwwejIz5R6oQ",
        "outputId": "8ccc1496-0fba-4c62-ab18-26518b341f99"
      },
      "source": [
        "#AvgInteract\n",
        "pyplot.hist(LoveData.AvgInteract)\n",
        "pyplot.xlabel(\"Average Interaction\")\n",
        "pyplot.ylabel(\"Frequency\")\n",
        "pyplot.show()"
      ],
      "execution_count": 1185,
      "outputs": [
        {
          "output_type": "display_data",
          "data": {
            "image/png": "[encoded data removed]",
            "text/plain": [
              "<Figure size 432x288 with 1 Axes>"
            ]
          },
          "metadata": {
            "tags": [],
            "needs_background": "light"
          }
        }
      ]
    },
    {
      "cell_type": "code",
      "metadata": {
        "colab": {
          "base_uri": "https://localhost:8080/",
          "height": 279
        },
        "id": "t4Ww83SKR6yg",
        "outputId": "b1b7c1ac-767a-4aae-eb0b-58c2192db508"
      },
      "source": [
        "#StudyHour\n",
        "pyplot.hist(LoveData.StdyHour)\n",
        "pyplot.xlabel(\"Study Hours\")\n",
        "pyplot.ylabel(\"Frequency\")\n",
        "pyplot.show()"
      ],
      "execution_count": 1186,
      "outputs": [
        {
          "output_type": "display_data",
          "data": {
            "image/png": "[encoded data removed]",
            "text/plain": [
              "<Figure size 432x288 with 1 Axes>"
            ]
          },
          "metadata": {
            "tags": [],
            "needs_background": "light"
          }
        }
      ]
    },
    {
      "cell_type": "code",
      "metadata": {
        "colab": {
          "base_uri": "https://localhost:8080/",
          "height": 279
        },
        "id": "JNoSvNJXR6_N",
        "outputId": "9eafcd77-bbf6-4b4e-b1f4-a57ec85c213b"
      },
      "source": [
        "#BffTime\n",
        "pyplot.hist(LoveData.BffTime)\n",
        "pyplot.xlabel(\"Time Spent With BFF\")\n",
        "pyplot.ylabel(\"Frequency\")\n",
        "pyplot.show()"
      ],
      "execution_count": 1187,
      "outputs": [
        {
          "output_type": "display_data",
          "data": {
            "image/png": "[encoded data removed]",
            "text/plain": [
              "<Figure size 432x288 with 1 Axes>"
            ]
          },
          "metadata": {
            "tags": [],
            "needs_background": "light"
          }
        }
      ]
    },
    {
      "cell_type": "code",
      "metadata": {
        "colab": {
          "base_uri": "https://localhost:8080/",
          "height": 279
        },
        "id": "UzRaG7vER7B2",
        "outputId": "c307f29e-bfb7-492b-dd77-e2cce3bf25a9"
      },
      "source": [
        "#HobbyHour\n",
        "pyplot.hist(LoveData.HobbyHour)\n",
        "pyplot.xlabel(\"Time Spent on Hobbies\")\n",
        "pyplot.ylabel(\"Frequency\")\n",
        "pyplot.show()"
      ],
      "execution_count": 1188,
      "outputs": [
        {
          "output_type": "display_data",
          "data": {
            "image/png": "[encoded data removed]",
            "text/plain": [
              "<Figure size 432x288 with 1 Axes>"
            ]
          },
          "metadata": {
            "tags": [],
            "needs_background": "light"
          }
        }
      ]
    },
    {
      "cell_type": "code",
      "metadata": {
        "colab": {
          "base_uri": "https://localhost:8080/",
          "height": 279
        },
        "id": "i3Xgc6wbSCAQ",
        "outputId": "ec9cdb28-ff64-4cd8-9358-74e520226354"
      },
      "source": [
        "#SleepHour\n",
        "pyplot.hist(LoveData.SleepHour)\n",
        "pyplot.xlabel(\"Average Sleep Hours\")\n",
        "pyplot.ylabel(\"Frequency\")\n",
        "pyplot.show()"
      ],
      "execution_count": 1189,
      "outputs": [
        {
          "output_type": "display_data",
          "data": {
            "image/png": "[encoded data removed]",
            "text/plain": [
              "<Figure size 432x288 with 1 Axes>"
            ]
          },
          "metadata": {
            "tags": [],
            "needs_background": "light"
          }
        }
      ]
    },
    {
      "cell_type": "code",
      "metadata": {
        "colab": {
          "base_uri": "https://localhost:8080/",
          "height": 281
        },
        "id": "t8V3xi2HSCH_",
        "outputId": "574887a1-6f05-400f-a897-dd8d3b48f018"
      },
      "source": [
        "#Gender\n",
        "pyplot.hist(LoveData.Gender_Num)\n",
        "pyplot.xlabel(\"Gender\")\n",
        "pyplot.ylabel(\"Frequency\")\n",
        "pyplot.show()"
      ],
      "execution_count": 1190,
      "outputs": [
        {
          "output_type": "display_data",
          "data": {
            "image/png": "[encoded data removed]",
            "text/plain": [
              "<Figure size 432x288 with 1 Axes>"
            ]
          },
          "metadata": {
            "tags": [],
            "needs_background": "light"
          }
        }
      ]
    },
    {
      "cell_type": "code",
      "metadata": {
        "colab": {
          "base_uri": "https://localhost:8080/",
          "height": 282
        },
        "id": "HRHZYgGLR3Fh",
        "outputId": "7566e618-8de3-4a45-98fd-4c6c93035f26"
      },
      "source": [
        "#AcademicLevel\n",
        "pyplot.hist(LoveData.Academic_Num)\n",
        "pyplot.xlabel(\"Academic Types\")\n",
        "pyplot.ylabel(\"Frequency\")\n",
        "pyplot.show()"
      ],
      "execution_count": 1191,
      "outputs": [
        {
          "output_type": "display_data",
          "data": {
            "image/png": "[encoded data removed]",
            "text/plain": [
              "<Figure size 432x288 with 1 Axes>"
            ]
          },
          "metadata": {
            "tags": [],
            "needs_background": "light"
          }
        }
      ]
    },
    {
      "cell_type": "markdown",
      "metadata": {
        "id": "JmwrKqHeWXdl"
      },
      "source": [
        "# **Training and Test Data**"
      ]
    },
    {
      "cell_type": "code",
      "metadata": {
        "colab": {
          "base_uri": "https://localhost:8080/",
          "height": 1000
        },
        "id": "vRBoXH-sWbwZ",
        "outputId": "83e25b50-732b-497a-8c9c-42f2833312f6"
      },
      "source": [
        "X = LoveData.drop(\"AvgInteract\", 1)\n",
        "y = LoveData[\"AvgInteract\"]\n",
        "\n",
        "#splitting the data\n",
        "x_train, x_test, y_train, y_test = train_test_split(X,y,test_size = 0.3) #test size is 20% of the dataset\n",
        "\n",
        "#printing the shapes of testing and training dataset\n",
        "print(\"shape of original dataset :\", LoveData.shape)\n",
        "print(\"shape of input - training set\", x_train.shape)\n",
        "print(\"shape of output - training set\", y_train.shape)\n",
        "print(\"shape of input - testing set\", x_test.shape)\n",
        "print(\"shape of output - testing set\", y_test.shape)\n",
        "\n",
        "x_test\n"
      ],
      "execution_count": 1192,
      "outputs": [
        {
          "output_type": "stream",
          "text": [
            "shape of original dataset : (153, 8)\n",
            "shape of input - training set (107, 7)\n",
            "shape of output - training set (107,)\n",
            "shape of input - testing set (46, 7)\n",
            "shape of output - testing set (46,)\n"
          ],
          "name": "stdout"
        },
        {
          "output_type": "execute_result",
          "data": {
            "text/html": [
              "<div>\n",
              "<style scoped>\n",
              "    .dataframe tbody tr th:only-of-type {\n",
              "        vertical-align: middle;\n",
              "    }\n",
              "\n",
              "    .dataframe tbody tr th {\n",
              "        vertical-align: top;\n",
              "    }\n",
              "\n",
              "    .dataframe thead th {\n",
              "        text-align: right;\n",
              "    }\n",
              "</style>\n",
              "<table border=\"1\" class=\"dataframe\">\n",
              "  <thead>\n",
              "    <tr style=\"text-align: right;\">\n",
              "      <th></th>\n",
              "      <th>Age</th>\n",
              "      <th>StdyHour</th>\n",
              "      <th>BffTime</th>\n",
              "      <th>HobbyHour</th>\n",
              "      <th>SleepHour</th>\n",
              "      <th>Gender_Num</th>\n",
              "      <th>Academic_Num</th>\n",
              "    </tr>\n",
              "  </thead>\n",
              "  <tbody>\n",
              "    <tr>\n",
              "      <th>81</th>\n",
              "      <td>24</td>\n",
              "      <td>4.0</td>\n",
              "      <td>5</td>\n",
              "      <td>3</td>\n",
              "      <td>8</td>\n",
              "      <td>0</td>\n",
              "      <td>1</td>\n",
              "    </tr>\n",
              "    <tr>\n",
              "      <th>159</th>\n",
              "      <td>18</td>\n",
              "      <td>9.0</td>\n",
              "      <td>6</td>\n",
              "      <td>6</td>\n",
              "      <td>9</td>\n",
              "      <td>1</td>\n",
              "      <td>1</td>\n",
              "    </tr>\n",
              "    <tr>\n",
              "      <th>64</th>\n",
              "      <td>22</td>\n",
              "      <td>7.0</td>\n",
              "      <td>3</td>\n",
              "      <td>4</td>\n",
              "      <td>6</td>\n",
              "      <td>1</td>\n",
              "      <td>1</td>\n",
              "    </tr>\n",
              "    <tr>\n",
              "      <th>94</th>\n",
              "      <td>25</td>\n",
              "      <td>6.0</td>\n",
              "      <td>4</td>\n",
              "      <td>1</td>\n",
              "      <td>7</td>\n",
              "      <td>1</td>\n",
              "      <td>1</td>\n",
              "    </tr>\n",
              "    <tr>\n",
              "      <th>21</th>\n",
              "      <td>20</td>\n",
              "      <td>5.0</td>\n",
              "      <td>10</td>\n",
              "      <td>5</td>\n",
              "      <td>8</td>\n",
              "      <td>0</td>\n",
              "      <td>1</td>\n",
              "    </tr>\n",
              "    <tr>\n",
              "      <th>8</th>\n",
              "      <td>20</td>\n",
              "      <td>3.0</td>\n",
              "      <td>3</td>\n",
              "      <td>9</td>\n",
              "      <td>7</td>\n",
              "      <td>0</td>\n",
              "      <td>1</td>\n",
              "    </tr>\n",
              "    <tr>\n",
              "      <th>95</th>\n",
              "      <td>25</td>\n",
              "      <td>6.0</td>\n",
              "      <td>1</td>\n",
              "      <td>4</td>\n",
              "      <td>6</td>\n",
              "      <td>0</td>\n",
              "      <td>1</td>\n",
              "    </tr>\n",
              "    <tr>\n",
              "      <th>166</th>\n",
              "      <td>18</td>\n",
              "      <td>14.0</td>\n",
              "      <td>5</td>\n",
              "      <td>7</td>\n",
              "      <td>5</td>\n",
              "      <td>1</td>\n",
              "      <td>1</td>\n",
              "    </tr>\n",
              "    <tr>\n",
              "      <th>15</th>\n",
              "      <td>20</td>\n",
              "      <td>4.0</td>\n",
              "      <td>10</td>\n",
              "      <td>10</td>\n",
              "      <td>7</td>\n",
              "      <td>0</td>\n",
              "      <td>1</td>\n",
              "    </tr>\n",
              "    <tr>\n",
              "      <th>55</th>\n",
              "      <td>21</td>\n",
              "      <td>9.0</td>\n",
              "      <td>1</td>\n",
              "      <td>3</td>\n",
              "      <td>5</td>\n",
              "      <td>1</td>\n",
              "      <td>1</td>\n",
              "    </tr>\n",
              "    <tr>\n",
              "      <th>92</th>\n",
              "      <td>25</td>\n",
              "      <td>4.0</td>\n",
              "      <td>1</td>\n",
              "      <td>3</td>\n",
              "      <td>5</td>\n",
              "      <td>0</td>\n",
              "      <td>1</td>\n",
              "    </tr>\n",
              "    <tr>\n",
              "      <th>36</th>\n",
              "      <td>20</td>\n",
              "      <td>15.0</td>\n",
              "      <td>5</td>\n",
              "      <td>2</td>\n",
              "      <td>7</td>\n",
              "      <td>0</td>\n",
              "      <td>1</td>\n",
              "    </tr>\n",
              "    <tr>\n",
              "      <th>144</th>\n",
              "      <td>17</td>\n",
              "      <td>0.5</td>\n",
              "      <td>8</td>\n",
              "      <td>10</td>\n",
              "      <td>10</td>\n",
              "      <td>0</td>\n",
              "      <td>1</td>\n",
              "    </tr>\n",
              "    <tr>\n",
              "      <th>84</th>\n",
              "      <td>24</td>\n",
              "      <td>5.0</td>\n",
              "      <td>4</td>\n",
              "      <td>4</td>\n",
              "      <td>8</td>\n",
              "      <td>0</td>\n",
              "      <td>1</td>\n",
              "    </tr>\n",
              "    <tr>\n",
              "      <th>13</th>\n",
              "      <td>20</td>\n",
              "      <td>4.0</td>\n",
              "      <td>7</td>\n",
              "      <td>3</td>\n",
              "      <td>7</td>\n",
              "      <td>0</td>\n",
              "      <td>1</td>\n",
              "    </tr>\n",
              "    <tr>\n",
              "      <th>35</th>\n",
              "      <td>20</td>\n",
              "      <td>15.0</td>\n",
              "      <td>5</td>\n",
              "      <td>1</td>\n",
              "      <td>7</td>\n",
              "      <td>0</td>\n",
              "      <td>1</td>\n",
              "    </tr>\n",
              "    <tr>\n",
              "      <th>99</th>\n",
              "      <td>25</td>\n",
              "      <td>9.0</td>\n",
              "      <td>1</td>\n",
              "      <td>5</td>\n",
              "      <td>7</td>\n",
              "      <td>1</td>\n",
              "      <td>1</td>\n",
              "    </tr>\n",
              "    <tr>\n",
              "      <th>26</th>\n",
              "      <td>20</td>\n",
              "      <td>7.0</td>\n",
              "      <td>7</td>\n",
              "      <td>6</td>\n",
              "      <td>9</td>\n",
              "      <td>0</td>\n",
              "      <td>1</td>\n",
              "    </tr>\n",
              "    <tr>\n",
              "      <th>85</th>\n",
              "      <td>24</td>\n",
              "      <td>7.0</td>\n",
              "      <td>1</td>\n",
              "      <td>3</td>\n",
              "      <td>4</td>\n",
              "      <td>1</td>\n",
              "      <td>1</td>\n",
              "    </tr>\n",
              "    <tr>\n",
              "      <th>96</th>\n",
              "      <td>25</td>\n",
              "      <td>7.0</td>\n",
              "      <td>4</td>\n",
              "      <td>2</td>\n",
              "      <td>5</td>\n",
              "      <td>0</td>\n",
              "      <td>1</td>\n",
              "    </tr>\n",
              "    <tr>\n",
              "      <th>130</th>\n",
              "      <td>19</td>\n",
              "      <td>14.0</td>\n",
              "      <td>5</td>\n",
              "      <td>4</td>\n",
              "      <td>5</td>\n",
              "      <td>0</td>\n",
              "      <td>1</td>\n",
              "    </tr>\n",
              "    <tr>\n",
              "      <th>49</th>\n",
              "      <td>21</td>\n",
              "      <td>5.0</td>\n",
              "      <td>2</td>\n",
              "      <td>5</td>\n",
              "      <td>8</td>\n",
              "      <td>1</td>\n",
              "      <td>1</td>\n",
              "    </tr>\n",
              "    <tr>\n",
              "      <th>17</th>\n",
              "      <td>20</td>\n",
              "      <td>4.0</td>\n",
              "      <td>2</td>\n",
              "      <td>5</td>\n",
              "      <td>7</td>\n",
              "      <td>0</td>\n",
              "      <td>1</td>\n",
              "    </tr>\n",
              "    <tr>\n",
              "      <th>44</th>\n",
              "      <td>21</td>\n",
              "      <td>4.0</td>\n",
              "      <td>2</td>\n",
              "      <td>4</td>\n",
              "      <td>8</td>\n",
              "      <td>1</td>\n",
              "      <td>1</td>\n",
              "    </tr>\n",
              "    <tr>\n",
              "      <th>69</th>\n",
              "      <td>22</td>\n",
              "      <td>14.0</td>\n",
              "      <td>5</td>\n",
              "      <td>7</td>\n",
              "      <td>6</td>\n",
              "      <td>1</td>\n",
              "      <td>1</td>\n",
              "    </tr>\n",
              "    <tr>\n",
              "      <th>62</th>\n",
              "      <td>22</td>\n",
              "      <td>6.0</td>\n",
              "      <td>3</td>\n",
              "      <td>6</td>\n",
              "      <td>6</td>\n",
              "      <td>1</td>\n",
              "      <td>1</td>\n",
              "    </tr>\n",
              "    <tr>\n",
              "      <th>60</th>\n",
              "      <td>22</td>\n",
              "      <td>2.0</td>\n",
              "      <td>4</td>\n",
              "      <td>4</td>\n",
              "      <td>9</td>\n",
              "      <td>0</td>\n",
              "      <td>1</td>\n",
              "    </tr>\n",
              "    <tr>\n",
              "      <th>111</th>\n",
              "      <td>19</td>\n",
              "      <td>8.0</td>\n",
              "      <td>1</td>\n",
              "      <td>3</td>\n",
              "      <td>3</td>\n",
              "      <td>1</td>\n",
              "      <td>1</td>\n",
              "    </tr>\n",
              "    <tr>\n",
              "      <th>31</th>\n",
              "      <td>20</td>\n",
              "      <td>8.0</td>\n",
              "      <td>4</td>\n",
              "      <td>7</td>\n",
              "      <td>7</td>\n",
              "      <td>0</td>\n",
              "      <td>1</td>\n",
              "    </tr>\n",
              "    <tr>\n",
              "      <th>32</th>\n",
              "      <td>20</td>\n",
              "      <td>9.0</td>\n",
              "      <td>0</td>\n",
              "      <td>6</td>\n",
              "      <td>6</td>\n",
              "      <td>1</td>\n",
              "      <td>1</td>\n",
              "    </tr>\n",
              "    <tr>\n",
              "      <th>145</th>\n",
              "      <td>17</td>\n",
              "      <td>5.0</td>\n",
              "      <td>6</td>\n",
              "      <td>5</td>\n",
              "      <td>10</td>\n",
              "      <td>0</td>\n",
              "      <td>1</td>\n",
              "    </tr>\n",
              "    <tr>\n",
              "      <th>87</th>\n",
              "      <td>24</td>\n",
              "      <td>7.0</td>\n",
              "      <td>5</td>\n",
              "      <td>5</td>\n",
              "      <td>6</td>\n",
              "      <td>0</td>\n",
              "      <td>1</td>\n",
              "    </tr>\n",
              "    <tr>\n",
              "      <th>57</th>\n",
              "      <td>21</td>\n",
              "      <td>14.0</td>\n",
              "      <td>5</td>\n",
              "      <td>2</td>\n",
              "      <td>7</td>\n",
              "      <td>1</td>\n",
              "      <td>1</td>\n",
              "    </tr>\n",
              "    <tr>\n",
              "      <th>2</th>\n",
              "      <td>20</td>\n",
              "      <td>1.0</td>\n",
              "      <td>2</td>\n",
              "      <td>2</td>\n",
              "      <td>6</td>\n",
              "      <td>0</td>\n",
              "      <td>1</td>\n",
              "    </tr>\n",
              "    <tr>\n",
              "      <th>88</th>\n",
              "      <td>24</td>\n",
              "      <td>8.0</td>\n",
              "      <td>5</td>\n",
              "      <td>2</td>\n",
              "      <td>6</td>\n",
              "      <td>1</td>\n",
              "      <td>1</td>\n",
              "    </tr>\n",
              "    <tr>\n",
              "      <th>27</th>\n",
              "      <td>20</td>\n",
              "      <td>8.0</td>\n",
              "      <td>6</td>\n",
              "      <td>1</td>\n",
              "      <td>6</td>\n",
              "      <td>0</td>\n",
              "      <td>1</td>\n",
              "    </tr>\n",
              "    <tr>\n",
              "      <th>167</th>\n",
              "      <td>20</td>\n",
              "      <td>6.0</td>\n",
              "      <td>2</td>\n",
              "      <td>2</td>\n",
              "      <td>6</td>\n",
              "      <td>0</td>\n",
              "      <td>1</td>\n",
              "    </tr>\n",
              "    <tr>\n",
              "      <th>50</th>\n",
              "      <td>21</td>\n",
              "      <td>5.0</td>\n",
              "      <td>7</td>\n",
              "      <td>4</td>\n",
              "      <td>6</td>\n",
              "      <td>1</td>\n",
              "      <td>1</td>\n",
              "    </tr>\n",
              "    <tr>\n",
              "      <th>29</th>\n",
              "      <td>20</td>\n",
              "      <td>8.0</td>\n",
              "      <td>1</td>\n",
              "      <td>7</td>\n",
              "      <td>6</td>\n",
              "      <td>0</td>\n",
              "      <td>1</td>\n",
              "    </tr>\n",
              "    <tr>\n",
              "      <th>157</th>\n",
              "      <td>18</td>\n",
              "      <td>7.0</td>\n",
              "      <td>4</td>\n",
              "      <td>3</td>\n",
              "      <td>8</td>\n",
              "      <td>0</td>\n",
              "      <td>1</td>\n",
              "    </tr>\n",
              "    <tr>\n",
              "      <th>58</th>\n",
              "      <td>21</td>\n",
              "      <td>15.0</td>\n",
              "      <td>5</td>\n",
              "      <td>2</td>\n",
              "      <td>4</td>\n",
              "      <td>1</td>\n",
              "      <td>1</td>\n",
              "    </tr>\n",
              "    <tr>\n",
              "      <th>128</th>\n",
              "      <td>19</td>\n",
              "      <td>9.0</td>\n",
              "      <td>5</td>\n",
              "      <td>6</td>\n",
              "      <td>4</td>\n",
              "      <td>1</td>\n",
              "      <td>1</td>\n",
              "    </tr>\n",
              "    <tr>\n",
              "      <th>100</th>\n",
              "      <td>25</td>\n",
              "      <td>9.0</td>\n",
              "      <td>10</td>\n",
              "      <td>5</td>\n",
              "      <td>9</td>\n",
              "      <td>1</td>\n",
              "      <td>1</td>\n",
              "    </tr>\n",
              "    <tr>\n",
              "      <th>54</th>\n",
              "      <td>21</td>\n",
              "      <td>8.0</td>\n",
              "      <td>2</td>\n",
              "      <td>1</td>\n",
              "      <td>7</td>\n",
              "      <td>1</td>\n",
              "      <td>1</td>\n",
              "    </tr>\n",
              "    <tr>\n",
              "      <th>120</th>\n",
              "      <td>19</td>\n",
              "      <td>4.0</td>\n",
              "      <td>5</td>\n",
              "      <td>7</td>\n",
              "      <td>9</td>\n",
              "      <td>0</td>\n",
              "      <td>1</td>\n",
              "    </tr>\n",
              "    <tr>\n",
              "      <th>158</th>\n",
              "      <td>18</td>\n",
              "      <td>8.0</td>\n",
              "      <td>3</td>\n",
              "      <td>3</td>\n",
              "      <td>6</td>\n",
              "      <td>1</td>\n",
              "      <td>1</td>\n",
              "    </tr>\n",
              "  </tbody>\n",
              "</table>\n",
              "</div>"
            ],
            "text/plain": [
              "     Age  StdyHour  BffTime  HobbyHour  SleepHour  Gender_Num  Academic_Num\n",
              "81    24       4.0        5          3          8           0             1\n",
              "159   18       9.0        6          6          9           1             1\n",
              "64    22       7.0        3          4          6           1             1\n",
              "94    25       6.0        4          1          7           1             1\n",
              "21    20       5.0       10          5          8           0             1\n",
              "8     20       3.0        3          9          7           0             1\n",
              "95    25       6.0        1          4          6           0             1\n",
              "166   18      14.0        5          7          5           1             1\n",
              "15    20       4.0       10         10          7           0             1\n",
              "55    21       9.0        1          3          5           1             1\n",
              "92    25       4.0        1          3          5           0             1\n",
              "36    20      15.0        5          2          7           0             1\n",
              "144   17       0.5        8         10         10           0             1\n",
              "84    24       5.0        4          4          8           0             1\n",
              "13    20       4.0        7          3          7           0             1\n",
              "35    20      15.0        5          1          7           0             1\n",
              "99    25       9.0        1          5          7           1             1\n",
              "26    20       7.0        7          6          9           0             1\n",
              "85    24       7.0        1          3          4           1             1\n",
              "96    25       7.0        4          2          5           0             1\n",
              "130   19      14.0        5          4          5           0             1\n",
              "49    21       5.0        2          5          8           1             1\n",
              "17    20       4.0        2          5          7           0             1\n",
              "44    21       4.0        2          4          8           1             1\n",
              "69    22      14.0        5          7          6           1             1\n",
              "62    22       6.0        3          6          6           1             1\n",
              "60    22       2.0        4          4          9           0             1\n",
              "111   19       8.0        1          3          3           1             1\n",
              "31    20       8.0        4          7          7           0             1\n",
              "32    20       9.0        0          6          6           1             1\n",
              "145   17       5.0        6          5         10           0             1\n",
              "87    24       7.0        5          5          6           0             1\n",
              "57    21      14.0        5          2          7           1             1\n",
              "2     20       1.0        2          2          6           0             1\n",
              "88    24       8.0        5          2          6           1             1\n",
              "27    20       8.0        6          1          6           0             1\n",
              "167   20       6.0        2          2          6           0             1\n",
              "50    21       5.0        7          4          6           1             1\n",
              "29    20       8.0        1          7          6           0             1\n",
              "157   18       7.0        4          3          8           0             1\n",
              "58    21      15.0        5          2          4           1             1\n",
              "128   19       9.0        5          6          4           1             1\n",
              "100   25       9.0       10          5          9           1             1\n",
              "54    21       8.0        2          1          7           1             1\n",
              "120   19       4.0        5          7          9           0             1\n",
              "158   18       8.0        3          3          6           1             1"
            ]
          },
          "metadata": {
            "tags": []
          },
          "execution_count": 1192
        }
      ]
    },
    {
      "cell_type": "markdown",
      "metadata": {
        "id": "RTmF2hukblYy"
      },
      "source": [
        "# **Selecting Feature and Testing Model**"
      ]
    },
    {
      "cell_type": "markdown",
      "metadata": {
        "id": "3TAG35N5k0XH"
      },
      "source": [
        "## **Linear Regression Feature Importance**"
      ]
    },
    {
      "cell_type": "code",
      "metadata": {
        "colab": {
          "base_uri": "https://localhost:8080/"
        },
        "id": "JrKtwwtplN99",
        "outputId": "b71c0b0c-e745-4e0a-9556-2608458ea2b8"
      },
      "source": [
        "#define the model\n",
        "model = LinearRegression()\n",
        "#fit the model\n",
        "model.fit(x_train,y_train)\n",
        "#get importance\n",
        "importance = model.coef_\n",
        "#summarize feature importance\n",
        "for i,v in enumerate(importance):\n",
        "  print('Feature : %0d, Score: %.5f' % (i,v))"
      ],
      "execution_count": 1193,
      "outputs": [
        {
          "output_type": "stream",
          "text": [
            "Feature : 0, Score: -0.85302\n",
            "Feature : 1, Score: 0.31438\n",
            "Feature : 2, Score: -0.72055\n",
            "Feature : 3, Score: 0.75262\n",
            "Feature : 4, Score: -0.02383\n",
            "Feature : 5, Score: -1.59122\n",
            "Feature : 6, Score: 0.00000\n"
          ],
          "name": "stdout"
        }
      ]
    },
    {
      "cell_type": "code",
      "metadata": {
        "colab": {
          "base_uri": "https://localhost:8080/",
          "height": 265
        },
        "id": "fnlpvt0ilVpo",
        "outputId": "eec93230-603c-4802-f9b8-98367428d4ed"
      },
      "source": [
        "#plotting the feature importance\n",
        "pyplot.bar([x for x in range(len(importance))], importance)\n",
        "pyplot.show()"
      ],
      "execution_count": 1194,
      "outputs": [
        {
          "output_type": "display_data",
          "data": {
            "image/png": "[encoded data removed]",
            "text/plain": [
              "<Figure size 432x288 with 1 Axes>"
            ]
          },
          "metadata": {
            "tags": [],
            "needs_background": "light"
          }
        }
      ]
    },
    {
      "cell_type": "markdown",
      "metadata": {
        "id": "kIgPVRtO4aC2"
      },
      "source": [
        "## **CART Regression Feature Importance**"
      ]
    },
    {
      "cell_type": "code",
      "metadata": {
        "colab": {
          "base_uri": "https://localhost:8080/"
        },
        "id": "ho3MrEKs1jUw",
        "outputId": "dbad083b-bc41-4368-f557-132e13969308"
      },
      "source": [
        "#define the model\n",
        "model = DecisionTreeRegressor()\n",
        "#fit the model\n",
        "model.fit(x_train,y_train)\n",
        "#get importance\n",
        "importance = model.feature_importances_\n",
        "#summarize feature importance\n",
        "for i,v in enumerate(importance):\n",
        "  print('Feature : %0d, Score: %.5f' % (i,v))"
      ],
      "execution_count": 1195,
      "outputs": [
        {
          "output_type": "stream",
          "text": [
            "Feature : 0, Score: 0.19492\n",
            "Feature : 1, Score: 0.26865\n",
            "Feature : 2, Score: 0.20028\n",
            "Feature : 3, Score: 0.17338\n",
            "Feature : 4, Score: 0.14964\n",
            "Feature : 5, Score: 0.01314\n",
            "Feature : 6, Score: 0.00000\n"
          ],
          "name": "stdout"
        }
      ]
    },
    {
      "cell_type": "code",
      "metadata": {
        "colab": {
          "base_uri": "https://localhost:8080/",
          "height": 265
        },
        "id": "FD5wLlKD4vM1",
        "outputId": "9d7db6fe-da17-4497-97a6-f8198aefc92e"
      },
      "source": [
        "#plotting the feature importance\n",
        "pyplot.bar([x for x in range(len(importance))], importance)\n",
        "pyplot.show()"
      ],
      "execution_count": 1196,
      "outputs": [
        {
          "output_type": "display_data",
          "data": {
            "image/png": "[encoded data removed]",
            "text/plain": [
              "<Figure size 432x288 with 1 Axes>"
            ]
          },
          "metadata": {
            "tags": [],
            "needs_background": "light"
          }
        }
      ]
    },
    {
      "cell_type": "markdown",
      "metadata": {
        "id": "5q5d9xGv49jr"
      },
      "source": [
        "## **Random Forest Regression Feature Importance**"
      ]
    },
    {
      "cell_type": "code",
      "metadata": {
        "colab": {
          "base_uri": "https://localhost:8080/"
        },
        "id": "Ztd2ks4n43PT",
        "outputId": "390d5e61-3442-4d5e-a1d8-f2bfd603a0dc"
      },
      "source": [
        "#Finding MAE value\n",
        "#define the model\n",
        "model = RandomForestRegressor()\n",
        "#fit the model\n",
        "model.fit(x_train,y_train)\n",
        "#get importance\n",
        "importance = model.feature_importances_\n",
        "#summarize feature importance\n",
        "for i,v in enumerate(importance):\n",
        "  print('Feature : %0d, Score: %.5f' % (i,v))"
      ],
      "execution_count": 1197,
      "outputs": [
        {
          "output_type": "stream",
          "text": [
            "Feature : 0, Score: 0.15956\n",
            "Feature : 1, Score: 0.26763\n",
            "Feature : 2, Score: 0.18036\n",
            "Feature : 3, Score: 0.19143\n",
            "Feature : 4, Score: 0.17095\n",
            "Feature : 5, Score: 0.03007\n",
            "Feature : 6, Score: 0.00000\n"
          ],
          "name": "stdout"
        }
      ]
    },
    {
      "cell_type": "code",
      "metadata": {
        "colab": {
          "base_uri": "https://localhost:8080/",
          "height": 265
        },
        "id": "pT23RMlSGRT5",
        "outputId": "dabd2432-b8da-4bcb-91b1-3ee464dfd679"
      },
      "source": [
        "# plot feature importance\n",
        "pyplot.bar([x for x in range(len(importance))], importance)\n",
        "pyplot.show()"
      ],
      "execution_count": 1198,
      "outputs": [
        {
          "output_type": "display_data",
          "data": {
            "image/png": "[encoded data removed]",
            "text/plain": [
              "<Figure size 432x288 with 1 Axes>"
            ]
          },
          "metadata": {
            "tags": [],
            "needs_background": "light"
          }
        }
      ]
    },
    {
      "cell_type": "markdown",
      "metadata": {
        "id": "dk4HRsne36YI"
      },
      "source": [
        "## **XGBoost Regression Feature Importance**"
      ]
    },
    {
      "cell_type": "code",
      "metadata": {
        "colab": {
          "base_uri": "https://localhost:8080/"
        },
        "id": "Nxq073CgGU4u",
        "outputId": "40f92c64-fb7b-4aac-86fe-a6d7c9518bcd"
      },
      "source": [
        "#define the model\n",
        "model = XGBRegressor()\n",
        "#fit the model\n",
        "model.fit(x_train,y_train)\n",
        "#get importance\n",
        "importance = model.feature_importances_\n",
        "#summarize feature importance\n",
        "for i,v in enumerate(importance):\n",
        "  print('Feature : %0d, Score: %.5f' % (i,v))"
      ],
      "execution_count": 1199,
      "outputs": [
        {
          "output_type": "stream",
          "text": [
            "[10:26:08] WARNING: /workspace/src/objective/regression_obj.cu:152: reg:linear is now deprecated in favor of reg:squarederror.\n",
            "Feature : 0, Score: 0.14875\n",
            "Feature : 1, Score: 0.21506\n",
            "Feature : 2, Score: 0.19255\n",
            "Feature : 3, Score: 0.16145\n",
            "Feature : 4, Score: 0.13913\n",
            "Feature : 5, Score: 0.14306\n",
            "Feature : 6, Score: 0.00000\n"
          ],
          "name": "stdout"
        }
      ]
    },
    {
      "cell_type": "code",
      "metadata": {
        "colab": {
          "base_uri": "https://localhost:8080/",
          "height": 265
        },
        "id": "lzEme1Ww4G3y",
        "outputId": "652021d4-7956-4099-d364-0a97ee934eab"
      },
      "source": [
        "# plot feature importance\n",
        "pyplot.bar([x for x in range(len(importance))], importance)\n",
        "pyplot.show()"
      ],
      "execution_count": 1200,
      "outputs": [
        {
          "output_type": "display_data",
          "data": {
            "image/png": "[encoded data removed]",
            "text/plain": [
              "<Figure size 432x288 with 1 Axes>"
            ]
          },
          "metadata": {
            "tags": [],
            "needs_background": "light"
          }
        }
      ]
    },
    {
      "cell_type": "markdown",
      "metadata": {
        "id": "B6BfCo3pF1ng"
      },
      "source": [
        "## **Permutation Feature Importance**"
      ]
    },
    {
      "cell_type": "code",
      "metadata": {
        "colab": {
          "base_uri": "https://localhost:8080/"
        },
        "id": "f8YBYRcQF4VG",
        "outputId": "04f33eb1-71c6-4f92-bbef-5eb4d12617d7"
      },
      "source": [
        "#define the model\n",
        "model = KNeighborsRegressor()\n",
        "#fit the model\n",
        "model.fit(x_train,y_train)\n",
        "# perform permutation importance\n",
        "results = permutation_importance(model, x_train,y_train, scoring='neg_mean_squared_error')\n",
        "#get importance\n",
        "importance = results.importances_mean\n",
        "#summarize feature importance\n",
        "for i,v in enumerate(importance):\n",
        "  print('Feature : %0d, Score: %.5f' % (i,v))"
      ],
      "execution_count": 1201,
      "outputs": [
        {
          "output_type": "stream",
          "text": [
            "Feature : 0, Score: 27.51890\n",
            "Feature : 1, Score: 40.10675\n",
            "Feature : 2, Score: 21.42834\n",
            "Feature : 3, Score: 41.62191\n",
            "Feature : 4, Score: 25.07955\n",
            "Feature : 5, Score: 4.16576\n",
            "Feature : 6, Score: 0.00000\n"
          ],
          "name": "stdout"
        }
      ]
    },
    {
      "cell_type": "code",
      "metadata": {
        "colab": {
          "base_uri": "https://localhost:8080/",
          "height": 265
        },
        "id": "pw3cYi-IGiI5",
        "outputId": "afab3855-971b-478d-b807-b9f5a088ddf5"
      },
      "source": [
        "# plot feature importance\n",
        "pyplot.bar([x for x in range(len(importance))], importance)\n",
        "pyplot.show()"
      ],
      "execution_count": 1202,
      "outputs": [
        {
          "output_type": "display_data",
          "data": {
            "image/png": "[encoded data removed]",
            "text/plain": [
              "<Figure size 432x288 with 1 Axes>"
            ]
          },
          "metadata": {
            "tags": [],
            "needs_background": "light"
          }
        }
      ]
    },
    {
      "cell_type": "markdown",
      "metadata": {
        "id": "Qk8HUZF4-ycP"
      },
      "source": [
        "# **MAE Values**"
      ]
    },
    {
      "cell_type": "code",
      "metadata": {
        "colab": {
          "base_uri": "https://localhost:8080/"
        },
        "id": "JWT2x0lnld1m",
        "outputId": "aeaf56f6-d5aa-485a-d45e-c4af2f4fd65f"
      },
      "source": [
        "#LinearRegression\n",
        "X = x_train.drop(\"Age\",1)\n",
        "X = X.drop(\"Academic_Num\",1)\n",
        "X = X.drop(\"SleepHour\",1)\n",
        "X = X.drop(\"BffTime\",1)\n",
        "X = X.drop(\"StdyHour\",1)\n",
        "X = X.drop(\"HobbyHour\", 1)\n",
        "y = y_train\n",
        "\n",
        "model = LinearRegression()\n",
        "model.fit(X,y)\n",
        "#Finding MAE value\n",
        "# define the evaluation procedure\n",
        "cv = RepeatedKFold(n_splits=10, n_repeats=3, random_state=1)\n",
        "# evaluate the model and collect results\n",
        "n_scores = cross_val_score(model, X, y, scoring='neg_mean_absolute_error', cv=cv, n_jobs=-1)\n",
        "# report performance\n",
        "print('MAE: %.3f (%.3f)' % (mean(n_scores), std(n_scores)))"
      ],
      "execution_count": 1203,
      "outputs": [
        {
          "output_type": "stream",
          "text": [
            "MAE: -13.862 (1.894)\n"
          ],
          "name": "stdout"
        }
      ]
    },
    {
      "cell_type": "code",
      "metadata": {
        "colab": {
          "base_uri": "https://localhost:8080/"
        },
        "id": "gwYVnguG-5eP",
        "outputId": "14e2d95c-07e4-4bfd-cabb-451ea402b5e1"
      },
      "source": [
        "#CART\n",
        "X = x_train.drop(\"Gender_Num\",1)\n",
        "y = y_train\n",
        "\n",
        "model = DecisionTreeRegressor()\n",
        "model.fit(X,y)\n",
        "#Finding MAE value\n",
        "# define the evaluation procedure\n",
        "cv = RepeatedKFold(n_splits=10, n_repeats=3, random_state=1)\n",
        "# evaluate the model and collect results\n",
        "n_scores = cross_val_score(model, X, y, scoring='neg_mean_absolute_error', cv=cv, n_jobs=-1)\n",
        "# report performance\n",
        "print('MAE: %.3f (%.3f)' % (mean(n_scores), std(n_scores)))"
      ],
      "execution_count": 1204,
      "outputs": [
        {
          "output_type": "stream",
          "text": [
            "MAE: -14.702 (3.513)\n"
          ],
          "name": "stdout"
        }
      ]
    },
    {
      "cell_type": "code",
      "metadata": {
        "id": "CuqunmbM_3-A",
        "colab": {
          "base_uri": "https://localhost:8080/"
        },
        "outputId": "b8b01e11-7479-4836-c55d-a1db0f4f9d7e"
      },
      "source": [
        "#Random Forest\n",
        "X = x_train.drop(\"Gender_Num\",1)\n",
        "X = X.drop(\"Academic_Num\",1)\n",
        "y = y_train\n",
        "\n",
        "model = RandomForestRegressor()\n",
        "model.fit(X,y)\n",
        "#Finding MAE value\n",
        "# define the evaluation procedure\n",
        "cv = RepeatedKFold(n_splits=10, n_repeats=3, random_state=1)\n",
        "# evaluate the model and collect results\n",
        "n_scores = cross_val_score(model, X, y, scoring='neg_mean_absolute_error', cv=cv, n_jobs=-1)\n",
        "# report performance\n",
        "print('MAE: %.3f (%.3f)' % (mean(n_scores), std(n_scores)))"
      ],
      "execution_count": 1205,
      "outputs": [
        {
          "output_type": "stream",
          "text": [
            "MAE: -13.584 (2.919)\n"
          ],
          "name": "stdout"
        }
      ]
    },
    {
      "cell_type": "code",
      "metadata": {
        "id": "rK6GKZ5NAFS5",
        "colab": {
          "base_uri": "https://localhost:8080/"
        },
        "outputId": "c7fb9a4f-61d5-4d33-bacc-f87a2c7658b7"
      },
      "source": [
        "#XGBoost\n",
        "X = x_train.drop(\"HobbyHour\",1)\n",
        "y = y_train\n",
        "\n",
        "model = XGBRegressor()\n",
        "model.fit(X,y)\n",
        "#Finding MAE value\n",
        "# define the evaluation procedure\n",
        "cv = RepeatedKFold(n_splits=10, n_repeats=3, random_state=1)\n",
        "# evaluate the model and collect results\n",
        "n_scores = cross_val_score(model, X, y, scoring='neg_mean_absolute_error', cv=cv, n_jobs=-1)\n",
        "# report performance\n",
        "print('MAE: %.3f (%.3f)' % (mean(n_scores), std(n_scores)))"
      ],
      "execution_count": 1206,
      "outputs": [
        {
          "output_type": "stream",
          "text": [
            "[10:26:13] WARNING: /workspace/src/objective/regression_obj.cu:152: reg:linear is now deprecated in favor of reg:squarederror.\n",
            "MAE: -13.835 (3.027)\n"
          ],
          "name": "stdout"
        }
      ]
    },
    {
      "cell_type": "code",
      "metadata": {
        "id": "knsC_uiyAlCt",
        "colab": {
          "base_uri": "https://localhost:8080/"
        },
        "outputId": "b9fc262d-71a2-4621-b953-28bd827ca8c4"
      },
      "source": [
        "#Permutation\n",
        "X = x_train.drop(\"Gender_Num\",1)\n",
        "X = X.drop(\"Academic_Num\",1)\n",
        "y = y_train\n",
        "\n",
        "model = KNeighborsRegressor()\n",
        "model.fit(X,y)\n",
        "#Finding MAE value\n",
        "# define the evaluation procedure\n",
        "cv = RepeatedKFold(n_splits=10, n_repeats=3, random_state=1)\n",
        "# evaluate the model and collect results\n",
        "n_scores = cross_val_score(model, X, y, scoring='neg_mean_absolute_error', cv=cv, n_jobs=-1)\n",
        "# report performance\n",
        "print('MAE: %.3f (%.3f)' % (mean(n_scores), std(n_scores)))"
      ],
      "execution_count": 1207,
      "outputs": [
        {
          "output_type": "stream",
          "text": [
            "MAE: -14.403 (1.715)\n"
          ],
          "name": "stdout"
        }
      ]
    },
    {
      "cell_type": "markdown",
      "metadata": {
        "id": "gYcweloZkh7y"
      },
      "source": [
        "# **Fitting The Random Forest Regression Model**"
      ]
    },
    {
      "cell_type": "code",
      "metadata": {
        "id": "XKClShD6Xx0W",
        "colab": {
          "base_uri": "https://localhost:8080/"
        },
        "outputId": "a02c3eeb-3d47-4433-dc26-570e03b9ddec"
      },
      "source": [
        "#Random Forest Regression\n",
        "X = x_train.drop(\"Gender_Num\",1)\n",
        "X = X.drop(\"Academic_Num\",1)\n",
        "y = y_train\n",
        "\n",
        "#Dropping features in the test dataset\n",
        "X_test = x_test.drop(\"Gender_Num\",1)\n",
        "X_test = X_test.drop(\"Academic_Num\",1)\n",
        "\n",
        "#Fitting Random Forest Regression to the dataset\n",
        "model = RandomForestRegressor()\n",
        "model.fit(X,y)\n",
        "\n",
        "#Predicting the result\n",
        "y_pred = model.predict(X_test)\n",
        "\n",
        "#Comparison dataframe\n",
        "pred_df = pd.DataFrame({'Real Values':y_test, 'Predicted Values':y_pred.reshape(-1)})\n",
        "#calculate accuracy\n",
        "errors = abs(y_pred - y_test)\n",
        "# Calculate mean absolute percentage error (MAPE)\n",
        "mape = np.mean(100 * (errors / y_test))\n",
        "# Calculate and display accuracy\n",
        "accuracy = 100 - mape    \n",
        "#print result\n",
        "print('Initial model achieves on the test set an accuracy of', round(accuracy, 2),'%')\n"
      ],
      "execution_count": 1208,
      "outputs": [
        {
          "output_type": "stream",
          "text": [
            "Initial model achieves on the test set an accuracy of -45.26 %\n"
          ],
          "name": "stdout"
        }
      ]
    },
    {
      "cell_type": "markdown",
      "metadata": {
        "id": "1Te7qidoYBHB"
      },
      "source": [
        "### **Fine Tuning the Random Forest Model**\n",
        "Searching for best hyperparameters\n"
      ]
    },
    {
      "cell_type": "markdown",
      "metadata": {
        "id": "mRRCc-_OYR3K"
      },
      "source": [
        "Grid Search "
      ]
    },
    {
      "cell_type": "code",
      "metadata": {
        "colab": {
          "base_uri": "https://localhost:8080/"
        },
        "id": "tj85_VDmO4U3",
        "outputId": "d55ab047-b2b9-45c9-b20f-3f51eb7f2ff4"
      },
      "source": [
        "from sklearn.model_selection import GridSearchCV\n",
        "\n",
        "param_grid = [\n",
        "{'n_estimators': [10, 25],\n",
        " 'max_depth': [10, 50, None], 'bootstrap': [True, False]}\n",
        "]\n",
        "\n",
        "grid_search_forest = GridSearchCV(RandomForestRegressor(), param_grid, cv=10, scoring='neg_mean_squared_error')\n",
        "grid_search_forest.fit(X,y)\n",
        "\n",
        "\n",
        "cvres = grid_search_forest.cv_results_\n",
        "for mean_score, params in zip(cvres[\"mean_test_score\"], cvres[\"params\"]):\n",
        "    print(np.sqrt(-mean_score), params)\n"
      ],
      "execution_count": 1209,
      "outputs": [
        {
          "output_type": "stream",
          "text": [
            "16.169817611868208 {'bootstrap': True, 'max_depth': 10, 'n_estimators': 10}\n",
            "16.16604994279311 {'bootstrap': True, 'max_depth': 10, 'n_estimators': 25}\n",
            "15.682415959079618 {'bootstrap': True, 'max_depth': 50, 'n_estimators': 10}\n",
            "15.977602151288588 {'bootstrap': True, 'max_depth': 50, 'n_estimators': 25}\n",
            "16.52143944288237 {'bootstrap': True, 'max_depth': None, 'n_estimators': 10}\n",
            "16.350102638261905 {'bootstrap': True, 'max_depth': None, 'n_estimators': 25}\n",
            "18.754677408172103 {'bootstrap': False, 'max_depth': 10, 'n_estimators': 10}\n",
            "18.73373897700997 {'bootstrap': False, 'max_depth': 10, 'n_estimators': 25}\n",
            "18.972403636531528 {'bootstrap': False, 'max_depth': 50, 'n_estimators': 10}\n",
            "18.892101750881412 {'bootstrap': False, 'max_depth': 50, 'n_estimators': 25}\n",
            "18.8768789485546 {'bootstrap': False, 'max_depth': None, 'n_estimators': 10}\n",
            "18.958169124829976 {'bootstrap': False, 'max_depth': None, 'n_estimators': 25}\n"
          ],
          "name": "stdout"
        }
      ]
    },
    {
      "cell_type": "code",
      "metadata": {
        "colab": {
          "base_uri": "https://localhost:8080/"
        },
        "id": "Ksi1s3b_Pdjo",
        "outputId": "8bccc567-a3d5-4df2-ae4b-21b9cfa46800"
      },
      "source": [
        "#find the best model of grid search\n",
        "grid_search_forest.best_estimator_"
      ],
      "execution_count": 1210,
      "outputs": [
        {
          "output_type": "execute_result",
          "data": {
            "text/plain": [
              "RandomForestRegressor(bootstrap=True, ccp_alpha=0.0, criterion='mse',\n",
              "                      max_depth=50, max_features='auto', max_leaf_nodes=None,\n",
              "                      max_samples=None, min_impurity_decrease=0.0,\n",
              "                      min_impurity_split=None, min_samples_leaf=1,\n",
              "                      min_samples_split=2, min_weight_fraction_leaf=0.0,\n",
              "                      n_estimators=10, n_jobs=None, oob_score=False,\n",
              "                      random_state=None, verbose=0, warm_start=False)"
            ]
          },
          "metadata": {
            "tags": []
          },
          "execution_count": 1210
        }
      ]
    },
    {
      "cell_type": "code",
      "metadata": {
        "colab": {
          "base_uri": "https://localhost:8080/"
        },
        "id": "KyyLhDF9PknZ",
        "outputId": "dd3e2882-8d56-4018-8233-601446218708"
      },
      "source": [
        "# Performance metrics\n",
        "grid_best= grid_search_forest.best_estimator_.predict(X)\n",
        "errors = abs(grid_best - y)\n",
        "# Calculate mean absolute percentage error (MAPE)\n",
        "mape = np.mean(100 * (errors / y))\n",
        "# Calculate and display accuracy\n",
        "accuracy = 100 - mape    \n",
        "#print result\n",
        "print('The best model from grid-search has an accuracy of', round(accuracy, 2),'%')"
      ],
      "execution_count": 1211,
      "outputs": [
        {
          "output_type": "stream",
          "text": [
            "The best model from grid-search has an accuracy of 38.57 %\n"
          ],
          "name": "stdout"
        }
      ]
    },
    {
      "cell_type": "markdown",
      "metadata": {
        "id": "MfKH5J8DGQ-K"
      },
      "source": [
        "# **Evaluating The Model On The Test Set**"
      ]
    },
    {
      "cell_type": "code",
      "metadata": {
        "id": "bJvJHVTf-wQe",
        "colab": {
          "base_uri": "https://localhost:8080/"
        },
        "outputId": "1a768af9-f683-4b03-8a38-d15a80f63495"
      },
      "source": [
        "final_model = grid_search_forest.best_estimator_\n",
        "# Predicting test set results\n",
        "final_pred = final_model.predict(X_test)\n",
        "final_mse = mean_squared_error(y_test, final_pred)\n",
        "final_rmse = np.sqrt(final_mse)\n",
        "print('The final RMSE on the test set is', round(final_rmse, 2))\n"
      ],
      "execution_count": 1212,
      "outputs": [
        {
          "output_type": "stream",
          "text": [
            "The final RMSE on the test set is 16.07\n"
          ],
          "name": "stdout"
        }
      ]
    },
    {
      "cell_type": "code",
      "metadata": {
        "colab": {
          "base_uri": "https://localhost:8080/"
        },
        "id": "tA-ogDK7G_1h",
        "outputId": "36c6747c-a3e1-4d89-b530-bab46962a5c6"
      },
      "source": [
        "#calculate accuracy\n",
        "errors = abs(final_pred - y_test)\n",
        "# Calculate mean absolute percentage error (MAPE)\n",
        "mape = np.mean(100 * (errors / y_test))\n",
        "# Calculate and display accuracy\n",
        "accuracy = 100 - mape    \n",
        "#print result\n",
        "print('The best model achieves on the test set an accuracy of', round(accuracy, 2),'%')"
      ],
      "execution_count": 1213,
      "outputs": [
        {
          "output_type": "stream",
          "text": [
            "The best model achieves on the test set an accuracy of -48.93 %\n"
          ],
          "name": "stdout"
        }
      ]
    },
    {
      "cell_type": "markdown",
      "metadata": {
        "id": "NKj9OgY2ugzz"
      },
      "source": [
        "# **Visualization of Random Forest Hyperparameters**"
      ]
    },
    {
      "cell_type": "code",
      "metadata": {
        "colab": {
          "base_uri": "https://localhost:8080/",
          "height": 296
        },
        "id": "LXfSEWNnuovG",
        "outputId": "25b74ee2-fcea-47f7-c0c8-f843980befcc"
      },
      "source": [
        "max_depths = np.linspace(1, 50, 50, endpoint=True)\n",
        "\n",
        "train_results = []\n",
        "test_results = []\n",
        "\n",
        "for i in max_depths:\n",
        "    dt = RandomForestRegressor(max_depth=i)\n",
        "    dt.fit(X, y)    \n",
        "    #compute accuracy for train data\n",
        "    housing_tree = dt.predict(X)\n",
        "    errors = abs(housing_tree - y)\n",
        "    # Calculate mean absolute percentage error (MAPE)\n",
        "    mape = 100 * (errors / y)\n",
        "    # Calculate and display accuracy\n",
        "    accuracy = 100 - np.mean(mape)\n",
        "    #append results of accuracy\n",
        "    train_results.append(accuracy)\n",
        "    \n",
        "    #now again for test data\n",
        "    housing_tree = dt.predict(X_test)\n",
        "    errors = abs(housing_tree - y_test)\n",
        "    # Calculate mean absolute percentage error (MAPE)\n",
        "    mape = 100 * (errors / y_test)\n",
        "    # Calculate and display accuracy\n",
        "    accuracy = 100 - np.mean(mape)\n",
        "    #append results of accuracy\n",
        "    test_results.append(accuracy)\n",
        "    \n",
        "from matplotlib.legend_handler import HandlerLine2D\n",
        "line1, = pyplot.plot(max_depths, train_results, 'b', label='Train accuracy')\n",
        "line2, = pyplot.plot(max_depths, test_results, 'r', label= 'Test accuracy')\n",
        "\n",
        "pyplot.legend(handler_map={line1: HandlerLine2D(numpoints=2)})\n",
        "pyplot.ylabel('Accuracy score')\n",
        "pyplot.xlabel('Tree depth')"
      ],
      "execution_count": 1214,
      "outputs": [
        {
          "output_type": "execute_result",
          "data": {
            "text/plain": [
              "Text(0.5, 0, 'Tree depth')"
            ]
          },
          "metadata": {
            "tags": []
          },
          "execution_count": 1214
        },
        {
          "output_type": "display_data",
          "data": {
            "image/png": "[encoded data removed]",
            "text/plain": [
              "<Figure size 432x288 with 1 Axes>"
            ]
          },
          "metadata": {
            "tags": [],
            "needs_background": "light"
          }
        }
      ]
    },
    {
      "cell_type": "code",
      "metadata": {
        "id": "ZXWQCO3yyvag"
      },
      "source": [
        ""
      ],
      "execution_count": 1214,
      "outputs": []
    }
  ]
}